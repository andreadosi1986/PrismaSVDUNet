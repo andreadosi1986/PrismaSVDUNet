{
  "nbformat": 4,
  "nbformat_minor": 0,
  "metadata": {
    "colab": {
      "name": "ProgettoCariocaDlRun3SingValuesKFold.ipynb",
      "provenance": [],
      "machine_shape": "hm",
      "authorship_tag": "ABX9TyNJ9NTRLLweYpe825w9TE6k",
      "include_colab_link": true
    },
    "kernelspec": {
      "name": "python3",
      "display_name": "Python 3"
    },
    "language_info": {
      "name": "python"
    },
    "accelerator": "TPU",
    "gpuClass": "standard"
  },
  "cells": [
    {
      "cell_type": "markdown",
      "metadata": {
        "id": "view-in-github",
        "colab_type": "text"
      },
      "source": [
        "<a href=\"https://colab.research.google.com/github/andreadosi1986/andreadosi/blob/master/ProgettoCariocaDlRun3SingValuesKFold.ipynb\" target=\"_parent\"><img src=\"https://colab.research.google.com/assets/colab-badge.svg\" alt=\"Open In Colab\"/></a>"
      ]
    },
    {
      "cell_type": "code",
      "execution_count": null,
      "metadata": {
        "colab": {
          "base_uri": "https://localhost:8080/"
        },
        "id": "WOuSt7EWGRWl",
        "outputId": "76306abd-89d2-49b9-ad94-78c3bee59849"
      },
      "outputs": [
        {
          "output_type": "stream",
          "name": "stdout",
          "text": [
            "Mounted at /content/drive\n"
          ]
        }
      ],
      "source": [
        "from google.colab import drive\n",
        "drive.mount('/content/drive', force_remount=True)"
      ]
    },
    {
      "cell_type": "code",
      "source": [
        "#!pip install segmentation_models"
      ],
      "metadata": {
        "id": "BDrfZKr7SrJp",
        "colab": {
          "base_uri": "https://localhost:8080/"
        },
        "outputId": "b88b485c-350b-499a-c6c7-ff347f233ca6"
      },
      "execution_count": null,
      "outputs": [
        {
          "output_type": "stream",
          "name": "stdout",
          "text": [
            "Looking in indexes: https://pypi.org/simple, https://us-python.pkg.dev/colab-wheels/public/simple/\n",
            "Requirement already satisfied: segmentation_models in /usr/local/lib/python3.7/dist-packages (1.0.1)\n",
            "Requirement already satisfied: image-classifiers==1.0.0 in /usr/local/lib/python3.7/dist-packages (from segmentation_models) (1.0.0)\n",
            "Requirement already satisfied: keras-applications<=1.0.8,>=1.0.7 in /usr/local/lib/python3.7/dist-packages (from segmentation_models) (1.0.8)\n",
            "Requirement already satisfied: efficientnet==1.0.0 in /usr/local/lib/python3.7/dist-packages (from segmentation_models) (1.0.0)\n",
            "Requirement already satisfied: scikit-image in /usr/local/lib/python3.7/dist-packages (from efficientnet==1.0.0->segmentation_models) (0.18.3)\n",
            "Requirement already satisfied: numpy>=1.9.1 in /usr/local/lib/python3.7/dist-packages (from keras-applications<=1.0.8,>=1.0.7->segmentation_models) (1.21.6)\n",
            "Requirement already satisfied: h5py in /usr/local/lib/python3.7/dist-packages (from keras-applications<=1.0.8,>=1.0.7->segmentation_models) (3.1.0)\n",
            "Requirement already satisfied: cached-property in /usr/local/lib/python3.7/dist-packages (from h5py->keras-applications<=1.0.8,>=1.0.7->segmentation_models) (1.5.2)\n",
            "Requirement already satisfied: networkx>=2.0 in /usr/local/lib/python3.7/dist-packages (from scikit-image->efficientnet==1.0.0->segmentation_models) (2.6.3)\n",
            "Requirement already satisfied: pillow!=7.1.0,!=7.1.1,>=4.3.0 in /usr/local/lib/python3.7/dist-packages (from scikit-image->efficientnet==1.0.0->segmentation_models) (7.1.2)\n",
            "Requirement already satisfied: scipy>=1.0.1 in /usr/local/lib/python3.7/dist-packages (from scikit-image->efficientnet==1.0.0->segmentation_models) (1.4.1)\n",
            "Requirement already satisfied: PyWavelets>=1.1.1 in /usr/local/lib/python3.7/dist-packages (from scikit-image->efficientnet==1.0.0->segmentation_models) (1.3.0)\n",
            "Requirement already satisfied: matplotlib!=3.0.0,>=2.0.0 in /usr/local/lib/python3.7/dist-packages (from scikit-image->efficientnet==1.0.0->segmentation_models) (3.2.2)\n",
            "Requirement already satisfied: tifffile>=2019.7.26 in /usr/local/lib/python3.7/dist-packages (from scikit-image->efficientnet==1.0.0->segmentation_models) (2021.11.2)\n",
            "Requirement already satisfied: imageio>=2.3.0 in /usr/local/lib/python3.7/dist-packages (from scikit-image->efficientnet==1.0.0->segmentation_models) (2.4.1)\n",
            "Requirement already satisfied: kiwisolver>=1.0.1 in /usr/local/lib/python3.7/dist-packages (from matplotlib!=3.0.0,>=2.0.0->scikit-image->efficientnet==1.0.0->segmentation_models) (1.4.3)\n",
            "Requirement already satisfied: python-dateutil>=2.1 in /usr/local/lib/python3.7/dist-packages (from matplotlib!=3.0.0,>=2.0.0->scikit-image->efficientnet==1.0.0->segmentation_models) (2.8.2)\n",
            "Requirement already satisfied: cycler>=0.10 in /usr/local/lib/python3.7/dist-packages (from matplotlib!=3.0.0,>=2.0.0->scikit-image->efficientnet==1.0.0->segmentation_models) (0.11.0)\n",
            "Requirement already satisfied: pyparsing!=2.0.4,!=2.1.2,!=2.1.6,>=2.0.1 in /usr/local/lib/python3.7/dist-packages (from matplotlib!=3.0.0,>=2.0.0->scikit-image->efficientnet==1.0.0->segmentation_models) (3.0.9)\n",
            "Requirement already satisfied: typing-extensions in /usr/local/lib/python3.7/dist-packages (from kiwisolver>=1.0.1->matplotlib!=3.0.0,>=2.0.0->scikit-image->efficientnet==1.0.0->segmentation_models) (4.1.1)\n",
            "Requirement already satisfied: six>=1.5 in /usr/local/lib/python3.7/dist-packages (from python-dateutil>=2.1->matplotlib!=3.0.0,>=2.0.0->scikit-image->efficientnet==1.0.0->segmentation_models) (1.15.0)\n"
          ]
        }
      ]
    },
    {
      "cell_type": "code",
      "source": [
        "gpu_info = !nvidia-smi\n",
        "gpu_info = '\\n'.join(gpu_info)\n",
        "if gpu_info.find('failed') >= 0:\n",
        "  print('Not connected to a GPU')\n",
        "else:\n",
        "  print(gpu_info)"
      ],
      "metadata": {
        "colab": {
          "base_uri": "https://localhost:8080/"
        },
        "id": "yr6tmKDya4hu",
        "outputId": "952806b2-7d52-4c26-ed10-5ed1c615f897"
      },
      "execution_count": null,
      "outputs": [
        {
          "output_type": "stream",
          "name": "stdout",
          "text": [
            "Wed Jul  6 17:04:33 2022       \n",
            "+-----------------------------------------------------------------------------+\n",
            "| NVIDIA-SMI 460.32.03    Driver Version: 460.32.03    CUDA Version: 11.2     |\n",
            "|-------------------------------+----------------------+----------------------+\n",
            "| GPU  Name        Persistence-M| Bus-Id        Disp.A | Volatile Uncorr. ECC |\n",
            "| Fan  Temp  Perf  Pwr:Usage/Cap|         Memory-Usage | GPU-Util  Compute M. |\n",
            "|                               |                      |               MIG M. |\n",
            "|===============================+======================+======================|\n",
            "|   0  Tesla T4            Off  | 00000000:00:04.0 Off |                    0 |\n",
            "| N/A   43C    P8     9W /  70W |      0MiB / 15109MiB |      0%      Default |\n",
            "|                               |                      |                  N/A |\n",
            "+-------------------------------+----------------------+----------------------+\n",
            "                                                                               \n",
            "+-----------------------------------------------------------------------------+\n",
            "| Processes:                                                                  |\n",
            "|  GPU   GI   CI        PID   Type   Process name                  GPU Memory |\n",
            "|        ID   ID                                                   Usage      |\n",
            "|=============================================================================|\n",
            "|  No running processes found                                                 |\n",
            "+-----------------------------------------------------------------------------+\n"
          ]
        }
      ]
    },
    {
      "cell_type": "code",
      "source": [
        "import cv2\n",
        "import numpy as np\n",
        "import matplotlib\n",
        "import matplotlib.pyplot as plt\n",
        "import matplotlib.image as img\n",
        "import matplotlib.animation as animation\n",
        "from matplotlib import rc\n",
        "import skimage\n",
        "from skimage.measure import regionprops\n",
        "import random\n",
        "import pandas as pd\n",
        "from skimage import filters\n",
        "import tifffile as tiff\n",
        "import tensorflow as tf\n",
        "import keras\n",
        "import pickle\n",
        "from keras.callbacks import EarlyStopping, ModelCheckpoint"
      ],
      "metadata": {
        "id": "pRK-n7K9Gx0J"
      },
      "execution_count": null,
      "outputs": []
    },
    {
      "cell_type": "code",
      "source": [
        "### IMPORT TRAINING TEST SET AND CORRISPONDING LABELLING ####"
      ],
      "metadata": {
        "id": "Cqru6rVFG42Y"
      },
      "execution_count": null,
      "outputs": []
    },
    {
      "cell_type": "code",
      "source": [
        "X_train = np.load('/content/drive/MyDrive/datamining/prisma/Sardinia/X_train4classes3SingVal.npy')"
      ],
      "metadata": {
        "id": "95eCMIBxG46Y"
      },
      "execution_count": null,
      "outputs": []
    },
    {
      "cell_type": "code",
      "source": [
        "X_test = np.load('/content/drive/MyDrive/datamining/prisma/Sardinia/X_test4classes3SingVal.npy')\n",
        "y_train_cat = np.load('/content/drive/MyDrive/datamining/prisma/Sardinia/y_train_cat4classes3SingVal.npy')\n",
        "y_test_cat = np.load('/content/drive/MyDrive/datamining/prisma/Sardinia/y_test_cat4classes3SingVal.npy')"
      ],
      "metadata": {
        "id": "vBuVFe7dG49Q"
      },
      "execution_count": null,
      "outputs": []
    },
    {
      "cell_type": "code",
      "source": [
        "y_train = np.load('/content/drive/MyDrive/datamining/prisma/Sardinia/y_train4classes3SingVal.npy')\n",
        "y_test = np.load('/content/drive/MyDrive/datamining/prisma/Sardinia/y_test4classes3SingVal.npy')"
      ],
      "metadata": {
        "id": "tbVffVSmQaE_"
      },
      "execution_count": null,
      "outputs": []
    },
    {
      "cell_type": "code",
      "source": [
        "#calulate the proporcion of the different categories\n",
        "Y2 = np.concatenate((y_train, y_test))\n",
        "print(Y2.shape)"
      ],
      "metadata": {
        "colab": {
          "base_uri": "https://localhost:8080/"
        },
        "id": "ldRtKJWY3DrA",
        "outputId": "12251946-367f-4a48-ce2a-e8e554fd2411"
      },
      "execution_count": null,
      "outputs": [
        {
          "output_type": "stream",
          "name": "stdout",
          "text": [
            "(5226, 128, 128, 1)\n"
          ]
        }
      ]
    },
    {
      "cell_type": "code",
      "source": [
        "#print(np.unique(Y2))\n",
        "bkground_class = len(Y2[Y2==0])/(5226*128*128)\n",
        "mining_class = len(Y2[Y2==1])/(5226*128*128)\n",
        "veg_class = len(Y2[Y2==2])/(5226*128*128)\n",
        "sea_class = len(Y2[Y2==3])/(5226*128*128)\n",
        "\n",
        "print(bkground_class, mining_class, veg_class, sea_class)"
      ],
      "metadata": {
        "colab": {
          "base_uri": "https://localhost:8080/"
        },
        "id": "UBPJY5iN3n9U",
        "outputId": "a98779d4-dde9-48de-dd9f-a15cccffced3"
      },
      "execution_count": null,
      "outputs": [
        {
          "output_type": "stream",
          "name": "stdout",
          "text": [
            "0.08407398899806855 0.02660340967189294 0.6152103510205882 0.27411225030945036\n"
          ]
        }
      ]
    },
    {
      "cell_type": "code",
      "source": [
        "0.08407398899806855 + 0.02660340967189294 + 0.6152103510205882 + 0.27411225030945036"
      ],
      "metadata": {
        "id": "6UKj3P-q6ziD",
        "outputId": "22fa86fc-9765-49a5-b5fa-62710baf7557",
        "colab": {
          "base_uri": "https://localhost:8080/"
        }
      },
      "execution_count": null,
      "outputs": [
        {
          "output_type": "execute_result",
          "data": {
            "text/plain": [
              "1.0"
            ]
          },
          "metadata": {},
          "execution_count": 17
        }
      ]
    },
    {
      "cell_type": "code",
      "source": [
        "print(X_train.shape, X_test.shape, y_train_cat.shape, y_test_cat.shape)"
      ],
      "metadata": {
        "colab": {
          "base_uri": "https://localhost:8080/"
        },
        "id": "y6pXP91s7Ugo",
        "outputId": "eeaab4b2-9a59-475e-ec6f-81c6a6fa67af"
      },
      "execution_count": null,
      "outputs": [
        {
          "output_type": "stream",
          "name": "stdout",
          "text": [
            "(4180, 128, 128, 3) (1046, 128, 128, 3) (4180, 128, 128, 4) (1046, 128, 128, 4)\n"
          ]
        }
      ]
    },
    {
      "cell_type": "code",
      "source": [
        "#concatenation for the k-fold\n",
        "X = np.concatenate((X_train, X_test))\n",
        "print(X.shape)"
      ],
      "metadata": {
        "colab": {
          "base_uri": "https://localhost:8080/"
        },
        "id": "kdYAwD9671NG",
        "outputId": "6c9b4b44-da9b-472f-eeb9-ecf64fa639a8"
      },
      "execution_count": null,
      "outputs": [
        {
          "output_type": "stream",
          "name": "stdout",
          "text": [
            "(5226, 128, 128, 3)\n"
          ]
        }
      ]
    },
    {
      "cell_type": "code",
      "source": [
        "#concatenation for the k-fold\n",
        "Y = np.concatenate((y_train_cat, y_test_cat))\n",
        "print(Y.shape)"
      ],
      "metadata": {
        "id": "BjgUg7RR8BGd"
      },
      "execution_count": null,
      "outputs": []
    },
    {
      "cell_type": "code",
      "source": [
        "np.save('/content/drive/MyDrive/datamining/prisma/Sardinia/X_trainKFold', X)\n",
        "np.save('/content/drive/MyDrive/datamining/prisma/Sardinia/Y_trainKFold', Y)\n"
      ],
      "metadata": {
        "id": "zCJtCK2F8GFX"
      },
      "execution_count": null,
      "outputs": []
    },
    {
      "cell_type": "code",
      "source": [
        "print(X_train.shape, X_test.shape, y_train_cat.shape, y_test_cat.shape)"
      ],
      "metadata": {
        "colab": {
          "base_uri": "https://localhost:8080/"
        },
        "id": "dQWwuV0sfFlz",
        "outputId": "bb5fc98c-0300-457c-b8eb-63eec8250f04"
      },
      "execution_count": null,
      "outputs": [
        {
          "output_type": "stream",
          "name": "stdout",
          "text": [
            "(4180, 128, 128, 3) (1046, 128, 128, 3) (4180, 128, 128, 4) (1046, 128, 128, 4)\n"
          ]
        }
      ]
    },
    {
      "cell_type": "code",
      "source": [
        "#(np.argmax(y_train_cat[0], axis = 3))"
      ],
      "metadata": {
        "id": "JRdC7eYZRz9T"
      },
      "execution_count": null,
      "outputs": []
    },
    {
      "cell_type": "code",
      "source": [
        "#check if the concatenation is correct\n",
        "import random\n",
        "i = random.randint(0, 5226)\n",
        "plt.imshow(X[i])\n",
        "plt.show()\n",
        "\n",
        "\n",
        "im = np.argmax(Y, axis = 3)\n",
        "plt.imshow(im[i])\n",
        "plt.show()"
      ],
      "metadata": {
        "colab": {
          "base_uri": "https://localhost:8080/",
          "height": 519
        },
        "id": "G5xu183KSbeD",
        "outputId": "ad4349a2-53aa-4106-f195-bd793ac00950"
      },
      "execution_count": null,
      "outputs": [
        {
          "output_type": "display_data",
          "data": {
            "text/plain": [
              "<Figure size 432x288 with 1 Axes>"
            ],
            "image/png": "[encoded data removed]"
          },
          "metadata": {
            "needs_background": "light"
          }
        },
        {
          "output_type": "display_data",
          "data": {
            "text/plain": [
              "<Figure size 432x288 with 1 Axes>"
            ],
            "image/png": "[encoded data removed]"
          },
          "metadata": {
            "needs_background": "light"
          }
        }
      ]
    },
    {
      "cell_type": "code",
      "source": [
        "#import segmentation_models as sm\n",
        "#class_weights = [0.1666, 0.1666, 0.1666, 0.1666, 0.1666, 0.1666]\n",
        "#dice_loss = sm.losses.DiceLoss(class_weights=class_weight_array) \n",
        "#focal_loss = sm.losses.CategoricalFocalLoss()\n",
        "#total_loss = dice_loss + (1 * focal_loss)\n",
        "#jaccard_loss = sm.losses.bce_jaccard_loss(class_weights=class_weight_array)"
      ],
      "metadata": {
        "id": "j-ns_v7xSlRr"
      },
      "execution_count": null,
      "outputs": []
    },
    {
      "cell_type": "code",
      "source": [
        "#####################################################################################\n",
        "############## restart kernel and run the libreries ################\n",
        "\n",
        "X = np.load('/content/drive/MyDrive/datamining/prisma/Sardinia/X_trainKFold.npy')\n",
        "Y = np.load('/content/drive/MyDrive/datamining/prisma/Sardinia/Y_trainKFold.npy')"
      ],
      "metadata": {
        "id": "HRvFHijHgjMX"
      },
      "execution_count": null,
      "outputs": []
    },
    {
      "cell_type": "code",
      "source": [
        "################################################################ U-NET BUILD ###########################################\n",
        "\n",
        "from keras.models import Model\n",
        "from keras.layers import Input, Conv2D, MaxPooling2D, UpSampling2D, concatenate, Conv2DTranspose, BatchNormalization, Dropout, Lambda\n",
        "\n",
        "def multi_unet_model(n_classes, IMG_HEIGHT, IMG_WIDTH, IMG_CHANNELS):\n",
        "#Build the model\n",
        "    inputs = Input((IMG_HEIGHT, IMG_WIDTH, IMG_CHANNELS))\n",
        "    #s = Lambda(lambda x: x / 255)(inputs)   #No need for this if we normalize our inputs beforehand\n",
        "    s = inputs\n",
        "\n",
        "    #Contraction path\n",
        "    c1 = Conv2D(16, (3, 3), activation='relu', kernel_initializer='he_normal', padding='same')(s)\n",
        "    c1 = Dropout(0.1)(c1)\n",
        "    c1 = Conv2D(16, (3, 3), activation='relu', kernel_initializer='he_normal', padding='same')(c1)\n",
        "    p1 = MaxPooling2D((2, 2))(c1)\n",
        "    \n",
        "    c2 = Conv2D(32, (3, 3), activation='relu', kernel_initializer='he_normal', padding='same')(p1)\n",
        "    c2 = Dropout(0.1)(c2)\n",
        "    c2 = Conv2D(32, (3, 3), activation='relu', kernel_initializer='he_normal', padding='same')(c2)\n",
        "    p2 = MaxPooling2D((2, 2))(c2)\n",
        "     \n",
        "    c3 = Conv2D(64, (3, 3), activation='relu', kernel_initializer='he_normal', padding='same')(p2)\n",
        "    c3 = Dropout(0.2)(c3)\n",
        "    c3 = Conv2D(64, (3, 3), activation='relu', kernel_initializer='he_normal', padding='same')(c3)\n",
        "    p3 = MaxPooling2D((2, 2))(c3)\n",
        "     \n",
        "    c4 = Conv2D(128, (3, 3), activation='relu', kernel_initializer='he_normal', padding='same')(p3)\n",
        "    c4 = Dropout(0.2)(c4)\n",
        "    c4 = Conv2D(128, (3, 3), activation='relu', kernel_initializer='he_normal', padding='same')(c4)\n",
        "    p4 = MaxPooling2D(pool_size=(2, 2))(c4)\n",
        "     \n",
        "    c5 = Conv2D(256, (3, 3), activation='relu', kernel_initializer='he_normal', padding='same')(p4)\n",
        "    c5 = Dropout(0.3)(c5)\n",
        "    c5 = Conv2D(256, (3, 3), activation='relu', kernel_initializer='he_normal', padding='same')(c5)\n",
        "    \n",
        "    #Expansive path \n",
        "    u6 = Conv2DTranspose(128, (2, 2), strides=(2, 2), padding='same')(c5)\n",
        "    u6 = concatenate([u6, c4])\n",
        "    c6 = Conv2D(128, (3, 3), activation='relu', kernel_initializer='he_normal', padding='same')(u6)\n",
        "    c6 = Dropout(0.2)(c6)\n",
        "    c6 = Conv2D(128, (3, 3), activation='relu', kernel_initializer='he_normal', padding='same')(c6)\n",
        "     \n",
        "    u7 = Conv2DTranspose(64, (2, 2), strides=(2, 2), padding='same')(c6)\n",
        "    u7 = concatenate([u7, c3])\n",
        "    c7 = Conv2D(64, (3, 3), activation='relu', kernel_initializer='he_normal', padding='same')(u7)\n",
        "    c7 = Dropout(0.2)(c7)\n",
        "    c7 = Conv2D(64, (3, 3), activation='relu', kernel_initializer='he_normal', padding='same')(c7)\n",
        "     \n",
        "    u8 = Conv2DTranspose(32, (2, 2), strides=(2, 2), padding='same')(c7)\n",
        "    u8 = concatenate([u8, c2])\n",
        "    c8 = Conv2D(32, (3, 3), activation='relu', kernel_initializer='he_normal', padding='same')(u8)\n",
        "    c8 = Dropout(0.1)(c8)\n",
        "    c8 = Conv2D(32, (3, 3), activation='relu', kernel_initializer='he_normal', padding='same')(c8)\n",
        "     \n",
        "    u9 = Conv2DTranspose(16, (2, 2), strides=(2, 2), padding='same')(c8)\n",
        "    u9 = concatenate([u9, c1], axis=3)\n",
        "    c9 = Conv2D(16, (3, 3), activation='relu', kernel_initializer='he_normal', padding='same')(u9)\n",
        "    c9 = Dropout(0.1)(c9)\n",
        "    c9 = Conv2D(16, (3, 3), activation='relu', kernel_initializer='he_normal', padding='same')(c9)\n",
        "     \n",
        "    outputs = Conv2D(n_classes, (1, 1), activation='softmax')(c9)\n",
        "     \n",
        "    model = Model(inputs=[inputs], outputs=[outputs])\n",
        "    \n",
        "    #NOTE: Compile the model in the main program to make it easy to test with various loss functions\n",
        "    #model.compile(optimizer='adam', loss='binary_crossentropy', metrics=['accuracy'])\n",
        "    \n",
        "    #model.summary()\n",
        "    \n",
        "    return model"
      ],
      "metadata": {
        "id": "0TfbeH4LG4_q"
      },
      "execution_count": null,
      "outputs": []
    },
    {
      "cell_type": "code",
      "source": [
        "IMG_HEIGHT = X.shape[1]\n",
        "IMG_WIDTH  = X.shape[2]\n",
        "IMG_CHANNELS = X.shape[3]\n",
        "n_classes=4"
      ],
      "metadata": {
        "id": "1j_z_QSlG5EQ"
      },
      "execution_count": null,
      "outputs": []
    },
    {
      "cell_type": "code",
      "source": [
        "#total_loss= weightedLoss(keras.losses.categorical_crossentropy, class_weights)\n",
        "#model = multi_unet_model(n_classes, IMG_HEIGHT, IMG_WIDTH, IMG_CHANNELS)\n",
        "#model.compile(optimizer='adam', loss= 'categorical_crossentropy', metrics = ['accuracy'])\n",
        "#model.summary()"
      ],
      "metadata": {
        "id": "vIPPShaHJ5t0"
      },
      "execution_count": null,
      "outputs": []
    },
    {
      "cell_type": "code",
      "source": [
        "\n",
        "#total_loss= weightedLoss(keras.losses.categorical_crossentropy, class_weights)\n",
        "model = multi_unet_model(n_classes, IMG_HEIGHT, IMG_WIDTH, IMG_CHANNELS)\n",
        "model.compile(optimizer='adam', loss= 'categorical_crossentropy', metrics = ['accuracy'])\n",
        "model.summary()\n",
        "monitor = EarlyStopping(monitor= 'val_loss', min_delta=1e-3, patience=5, verbose=0, mode='auto')"
      ],
      "metadata": {
        "colab": {
          "base_uri": "https://localhost:8080/"
        },
        "id": "xTVteiUlTorW",
        "outputId": "730f85da-9ff3-4e9b-bc17-df523dc16088"
      },
      "execution_count": null,
      "outputs": [
        {
          "output_type": "stream",
          "name": "stdout",
          "text": [
            "Model: \"model\"\n",
            "__________________________________________________________________________________________________\n",
            " Layer (type)                   Output Shape         Param #     Connected to                     \n",
            "==================================================================================================\n",
            " input_1 (InputLayer)           [(None, 128, 128, 3  0           []                               \n",
            "                                )]                                                                \n",
            "                                                                                                  \n",
            " conv2d (Conv2D)                (None, 128, 128, 16  448         ['input_1[0][0]']                \n",
            "                                )                                                                 \n",
            "                                                                                                  \n",
            " dropout (Dropout)              (None, 128, 128, 16  0           ['conv2d[0][0]']                 \n",
            "                                )                                                                 \n",
            "                                                                                                  \n",
            " conv2d_1 (Conv2D)              (None, 128, 128, 16  2320        ['dropout[0][0]']                \n",
            "                                )                                                                 \n",
            "                                                                                                  \n",
            " max_pooling2d (MaxPooling2D)   (None, 64, 64, 16)   0           ['conv2d_1[0][0]']               \n",
            "                                                                                                  \n",
            " conv2d_2 (Conv2D)              (None, 64, 64, 32)   4640        ['max_pooling2d[0][0]']          \n",
            "                                                                                                  \n",
            " dropout_1 (Dropout)            (None, 64, 64, 32)   0           ['conv2d_2[0][0]']               \n",
            "                                                                                                  \n",
            " conv2d_3 (Conv2D)              (None, 64, 64, 32)   9248        ['dropout_1[0][0]']              \n",
            "                                                                                                  \n",
            " max_pooling2d_1 (MaxPooling2D)  (None, 32, 32, 32)  0           ['conv2d_3[0][0]']               \n",
            "                                                                                                  \n",
            " conv2d_4 (Conv2D)              (None, 32, 32, 64)   18496       ['max_pooling2d_1[0][0]']        \n",
            "                                                                                                  \n",
            " dropout_2 (Dropout)            (None, 32, 32, 64)   0           ['conv2d_4[0][0]']               \n",
            "                                                                                                  \n",
            " conv2d_5 (Conv2D)              (None, 32, 32, 64)   36928       ['dropout_2[0][0]']              \n",
            "                                                                                                  \n",
            " max_pooling2d_2 (MaxPooling2D)  (None, 16, 16, 64)  0           ['conv2d_5[0][0]']               \n",
            "                                                                                                  \n",
            " conv2d_6 (Conv2D)              (None, 16, 16, 128)  73856       ['max_pooling2d_2[0][0]']        \n",
            "                                                                                                  \n",
            " dropout_3 (Dropout)            (None, 16, 16, 128)  0           ['conv2d_6[0][0]']               \n",
            "                                                                                                  \n",
            " conv2d_7 (Conv2D)              (None, 16, 16, 128)  147584      ['dropout_3[0][0]']              \n",
            "                                                                                                  \n",
            " max_pooling2d_3 (MaxPooling2D)  (None, 8, 8, 128)   0           ['conv2d_7[0][0]']               \n",
            "                                                                                                  \n",
            " conv2d_8 (Conv2D)              (None, 8, 8, 256)    295168      ['max_pooling2d_3[0][0]']        \n",
            "                                                                                                  \n",
            " dropout_4 (Dropout)            (None, 8, 8, 256)    0           ['conv2d_8[0][0]']               \n",
            "                                                                                                  \n",
            " conv2d_9 (Conv2D)              (None, 8, 8, 256)    590080      ['dropout_4[0][0]']              \n",
            "                                                                                                  \n",
            " conv2d_transpose (Conv2DTransp  (None, 16, 16, 128)  131200     ['conv2d_9[0][0]']               \n",
            " ose)                                                                                             \n",
            "                                                                                                  \n",
            " concatenate (Concatenate)      (None, 16, 16, 256)  0           ['conv2d_transpose[0][0]',       \n",
            "                                                                  'conv2d_7[0][0]']               \n",
            "                                                                                                  \n",
            " conv2d_10 (Conv2D)             (None, 16, 16, 128)  295040      ['concatenate[0][0]']            \n",
            "                                                                                                  \n",
            " dropout_5 (Dropout)            (None, 16, 16, 128)  0           ['conv2d_10[0][0]']              \n",
            "                                                                                                  \n",
            " conv2d_11 (Conv2D)             (None, 16, 16, 128)  147584      ['dropout_5[0][0]']              \n",
            "                                                                                                  \n",
            " conv2d_transpose_1 (Conv2DTran  (None, 32, 32, 64)  32832       ['conv2d_11[0][0]']              \n",
            " spose)                                                                                           \n",
            "                                                                                                  \n",
            " concatenate_1 (Concatenate)    (None, 32, 32, 128)  0           ['conv2d_transpose_1[0][0]',     \n",
            "                                                                  'conv2d_5[0][0]']               \n",
            "                                                                                                  \n",
            " conv2d_12 (Conv2D)             (None, 32, 32, 64)   73792       ['concatenate_1[0][0]']          \n",
            "                                                                                                  \n",
            " dropout_6 (Dropout)            (None, 32, 32, 64)   0           ['conv2d_12[0][0]']              \n",
            "                                                                                                  \n",
            " conv2d_13 (Conv2D)             (None, 32, 32, 64)   36928       ['dropout_6[0][0]']              \n",
            "                                                                                                  \n",
            " conv2d_transpose_2 (Conv2DTran  (None, 64, 64, 32)  8224        ['conv2d_13[0][0]']              \n",
            " spose)                                                                                           \n",
            "                                                                                                  \n",
            " concatenate_2 (Concatenate)    (None, 64, 64, 64)   0           ['conv2d_transpose_2[0][0]',     \n",
            "                                                                  'conv2d_3[0][0]']               \n",
            "                                                                                                  \n",
            " conv2d_14 (Conv2D)             (None, 64, 64, 32)   18464       ['concatenate_2[0][0]']          \n",
            "                                                                                                  \n",
            " dropout_7 (Dropout)            (None, 64, 64, 32)   0           ['conv2d_14[0][0]']              \n",
            "                                                                                                  \n",
            " conv2d_15 (Conv2D)             (None, 64, 64, 32)   9248        ['dropout_7[0][0]']              \n",
            "                                                                                                  \n",
            " conv2d_transpose_3 (Conv2DTran  (None, 128, 128, 16  2064       ['conv2d_15[0][0]']              \n",
            " spose)                         )                                                                 \n",
            "                                                                                                  \n",
            " concatenate_3 (Concatenate)    (None, 128, 128, 32  0           ['conv2d_transpose_3[0][0]',     \n",
            "                                )                                 'conv2d_1[0][0]']               \n",
            "                                                                                                  \n",
            " conv2d_16 (Conv2D)             (None, 128, 128, 16  4624        ['concatenate_3[0][0]']          \n",
            "                                )                                                                 \n",
            "                                                                                                  \n",
            " dropout_8 (Dropout)            (None, 128, 128, 16  0           ['conv2d_16[0][0]']              \n",
            "                                )                                                                 \n",
            "                                                                                                  \n",
            " conv2d_17 (Conv2D)             (None, 128, 128, 16  2320        ['dropout_8[0][0]']              \n",
            "                                )                                                                 \n",
            "                                                                                                  \n",
            " conv2d_18 (Conv2D)             (None, 128, 128, 4)  68          ['conv2d_17[0][0]']              \n",
            "                                                                                                  \n",
            "==================================================================================================\n",
            "Total params: 1,941,156\n",
            "Trainable params: 1,941,156\n",
            "Non-trainable params: 0\n",
            "__________________________________________________________________________________________________\n"
          ]
        }
      ]
    },
    {
      "cell_type": "code",
      "source": [
        "'''\n",
        "## build the call back\n",
        "class myCallback(tf.keras.callbacks.Callback):\n",
        "  def on_epoch_end(self, epoch, logs={}):\n",
        "    '''\n",
        "'''\n",
        "    Halts the training after reaching 60 percent accuracy\n",
        "\n",
        "    Args:\n",
        "      epoch (integer) - index of epoch (required but unused in the function definition below)\n",
        "      logs (dict) - metric results from the training epoch\n",
        "    '''\n",
        "'''\n",
        "    # Check accuracy\n",
        "    if(logs.get('accuracy') > 0.99):\n",
        "\n",
        "      # Stop if threshold is met\n",
        "      print(\"\\nAccuracy is more than than 0.99 so cancelling training!\")\n",
        "      self.model.stop_training = True\n",
        "\n",
        "# Instantiate class\n",
        "callbacks = myCallback()\n",
        "'''"
      ],
      "metadata": {
        "colab": {
          "base_uri": "https://localhost:8080/",
          "height": 72
        },
        "id": "7_5YHp0L5ple",
        "outputId": "4d12a777-f789-47f4-c3e0-21b9a92b0c01"
      },
      "execution_count": null,
      "outputs": [
        {
          "output_type": "execute_result",
          "data": {
            "text/plain": [
              "'\\n    # Check accuracy\\n    if(logs.get(\\'accuracy\\') > 0.99):\\n\\n      # Stop if threshold is met\\n      print(\"\\nAccuracy is more than than 0.99 so cancelling training!\")\\n      self.model.stop_training = True\\n\\n# Instantiate class\\ncallbacks = myCallback()\\n'"
            ],
            "application/vnd.google.colaboratory.intrinsic+json": {
              "type": "string"
            }
          },
          "metadata": {},
          "execution_count": 20
        }
      ]
    },
    {
      "cell_type": "code",
      "source": [
        "import time\n",
        "start = time.time()\n",
        "### fit the deep learning model with 5 k-fold cross validation\n",
        "from sklearn.model_selection import KFold\n",
        "\n",
        "n_split=5\n",
        "train_acc_lst_max = []\n",
        "val_acc_ls_max = []\n",
        "train_acc_lst = []\n",
        "val_acc_lst = []\n",
        "\n",
        "i = 0\n",
        "for train_index,test_index in KFold(n_split).split(X):\n",
        "  i = i+1\n",
        "  checkpointer= ModelCheckpoint(filepath=\"/content/drive/MyDrive/datamining/prisma/Sardinia/deepUNetEarlyStopEp4Classes3ChannelsWithNoise\"+\"experiment\"+str(i)+\".hdf5\", \n",
        "                                verbose = 0, save_best_only = True) \n",
        "  x_train,x_test=X[train_index],X[test_index]\n",
        "  y_train,y_test=Y[train_index],Y[test_index]\n",
        "  np.save('/content/drive/MyDrive/datamining/prisma/Sardinia/x_testK'+str(i), x_test)\n",
        "  np.save('/content/drive/MyDrive/datamining/prisma/Sardinia/y_testK'+str(i), y_test)\n",
        "  history = model.fit(x_train, y_train, \n",
        "                      verbose=1, \n",
        "                      epochs=100, \n",
        "                      validation_data=(x_test, y_test),\n",
        "                    #sample_weight=class_weight_array,\n",
        "                      shuffle=False,\n",
        "                      callbacks=[monitor, checkpointer]\n",
        "                      )\n",
        "  print(i)\n",
        "\n",
        "  #accuracy for each k-fold\n",
        "  acc_max = np.max(np.array(history.history['accuracy']))\n",
        "  val_acc_max = np.max(np.array(history.history['val_accuracy']))\n",
        "  train_acc_lst_max.append(acc_max)\n",
        "  val_acc_ls_max.append(val_acc_max)\n",
        "  train_acc_lst.append(history.history['accuracy'])\n",
        "  val_acc_lst.append(history.history['val_accuracy'])\n",
        "\n",
        "  \n",
        "\n",
        "\n",
        "print(\"Total model fit time: \", time.time() - start, \"seconds\")"
      ],
      "metadata": {
        "colab": {
          "base_uri": "https://localhost:8080/"
        },
        "id": "v1ajrWx5KLrM",
        "outputId": "0e1d424d-a9e5-4004-80c2-b40c09fa10f1"
      },
      "execution_count": null,
      "outputs": [
        {
          "output_type": "stream",
          "name": "stdout",
          "text": [
            "Epoch 1/100\n",
            "131/131 [==============================] - 20s 110ms/step - loss: 0.5185 - accuracy: 0.8138 - val_loss: 0.3370 - val_accuracy: 0.8825\n",
            "Epoch 2/100\n",
            "131/131 [==============================] - 12s 89ms/step - loss: 0.2642 - accuracy: 0.9020 - val_loss: 0.1843 - val_accuracy: 0.9345\n",
            "Epoch 3/100\n",
            "131/131 [==============================] - 12s 90ms/step - loss: 0.1534 - accuracy: 0.9425 - val_loss: 0.1294 - val_accuracy: 0.9519\n",
            "Epoch 4/100\n",
            "131/131 [==============================] - 12s 89ms/step - loss: 0.1151 - accuracy: 0.9551 - val_loss: 0.1003 - val_accuracy: 0.9612\n",
            "Epoch 5/100\n",
            "131/131 [==============================] - 12s 89ms/step - loss: 0.0944 - accuracy: 0.9622 - val_loss: 0.0834 - val_accuracy: 0.9666\n",
            "Epoch 6/100\n",
            "131/131 [==============================] - 12s 89ms/step - loss: 0.0813 - accuracy: 0.9668 - val_loss: 0.0782 - val_accuracy: 0.9687\n",
            "Epoch 7/100\n",
            "131/131 [==============================] - 12s 90ms/step - loss: 0.0765 - accuracy: 0.9686 - val_loss: 0.0738 - val_accuracy: 0.9709\n",
            "Epoch 8/100\n",
            "131/131 [==============================] - 12s 90ms/step - loss: 0.0697 - accuracy: 0.9711 - val_loss: 0.0658 - val_accuracy: 0.9735\n",
            "Epoch 9/100\n",
            "131/131 [==============================] - 12s 89ms/step - loss: 0.0634 - accuracy: 0.9734 - val_loss: 0.0617 - val_accuracy: 0.9751\n",
            "Epoch 10/100\n",
            "131/131 [==============================] - 12s 91ms/step - loss: 0.0624 - accuracy: 0.9739 - val_loss: 0.0614 - val_accuracy: 0.9752\n",
            "Epoch 11/100\n",
            "131/131 [==============================] - 12s 90ms/step - loss: 0.0573 - accuracy: 0.9758 - val_loss: 0.0576 - val_accuracy: 0.9771\n",
            "Epoch 12/100\n",
            "131/131 [==============================] - 12s 90ms/step - loss: 0.0555 - accuracy: 0.9765 - val_loss: 0.0552 - val_accuracy: 0.9777\n",
            "Epoch 13/100\n",
            "131/131 [==============================] - 13s 96ms/step - loss: 0.0526 - accuracy: 0.9776 - val_loss: 0.0523 - val_accuracy: 0.9794\n",
            "Epoch 14/100\n",
            "131/131 [==============================] - 12s 90ms/step - loss: 0.0504 - accuracy: 0.9785 - val_loss: 0.0516 - val_accuracy: 0.9793\n",
            "Epoch 15/100\n",
            "131/131 [==============================] - 12s 90ms/step - loss: 0.0490 - accuracy: 0.9791 - val_loss: 0.0489 - val_accuracy: 0.9805\n",
            "Epoch 16/100\n",
            "131/131 [==============================] - 12s 88ms/step - loss: 0.0496 - accuracy: 0.9789 - val_loss: 0.0500 - val_accuracy: 0.9800\n",
            "Epoch 17/100\n",
            "131/131 [==============================] - 13s 96ms/step - loss: 0.0470 - accuracy: 0.9799 - val_loss: 0.0479 - val_accuracy: 0.9813\n",
            "Epoch 18/100\n",
            "131/131 [==============================] - 11s 88ms/step - loss: 0.0468 - accuracy: 0.9801 - val_loss: 0.0488 - val_accuracy: 0.9807\n",
            "Epoch 19/100\n",
            "131/131 [==============================] - 13s 96ms/step - loss: 0.0463 - accuracy: 0.9802 - val_loss: 0.0448 - val_accuracy: 0.9823\n",
            "Epoch 20/100\n",
            "131/131 [==============================] - 12s 90ms/step - loss: 0.0437 - accuracy: 0.9813 - val_loss: 0.0439 - val_accuracy: 0.9829\n",
            "Epoch 21/100\n",
            "131/131 [==============================] - 12s 88ms/step - loss: 0.0424 - accuracy: 0.9818 - val_loss: 0.0439 - val_accuracy: 0.9827\n",
            "Epoch 22/100\n",
            "131/131 [==============================] - 13s 98ms/step - loss: 0.0426 - accuracy: 0.9818 - val_loss: 0.0433 - val_accuracy: 0.9834\n",
            "Epoch 23/100\n",
            "131/131 [==============================] - 12s 90ms/step - loss: 0.0408 - accuracy: 0.9825 - val_loss: 0.0428 - val_accuracy: 0.9836\n",
            "Epoch 24/100\n",
            "131/131 [==============================] - 12s 88ms/step - loss: 0.2242 - accuracy: 0.9215 - val_loss: 0.1454 - val_accuracy: 0.9452\n",
            "Epoch 25/100\n",
            "131/131 [==============================] - 12s 88ms/step - loss: 0.1022 - accuracy: 0.9602 - val_loss: 0.0751 - val_accuracy: 0.9700\n",
            "Epoch 26/100\n",
            "131/131 [==============================] - 12s 88ms/step - loss: 0.0700 - accuracy: 0.9713 - val_loss: 0.0602 - val_accuracy: 0.9758\n",
            "Epoch 27/100\n",
            "131/131 [==============================] - 11s 88ms/step - loss: 0.0587 - accuracy: 0.9754 - val_loss: 0.0544 - val_accuracy: 0.9782\n",
            "1\n",
            "Epoch 1/100\n",
            "131/131 [==============================] - 13s 102ms/step - loss: 0.0574 - accuracy: 0.9761 - val_loss: 0.0455 - val_accuracy: 0.9809\n",
            "Epoch 2/100\n",
            "131/131 [==============================] - 13s 96ms/step - loss: 0.0519 - accuracy: 0.9781 - val_loss: 0.0434 - val_accuracy: 0.9818\n",
            "Epoch 3/100\n",
            "131/131 [==============================] - 12s 95ms/step - loss: 0.0487 - accuracy: 0.9793 - val_loss: 0.0424 - val_accuracy: 0.9821\n",
            "Epoch 4/100\n",
            "131/131 [==============================] - 12s 89ms/step - loss: 0.0465 - accuracy: 0.9802 - val_loss: 0.0404 - val_accuracy: 0.9828\n",
            "Epoch 5/100\n",
            "131/131 [==============================] - 12s 89ms/step - loss: 0.0450 - accuracy: 0.9808 - val_loss: 0.0394 - val_accuracy: 0.9833\n",
            "Epoch 6/100\n",
            "131/131 [==============================] - 12s 89ms/step - loss: 0.0433 - accuracy: 0.9814 - val_loss: 0.0383 - val_accuracy: 0.9839\n",
            "Epoch 7/100\n",
            "131/131 [==============================] - 12s 89ms/step - loss: 0.0427 - accuracy: 0.9817 - val_loss: 0.0375 - val_accuracy: 0.9841\n",
            "Epoch 8/100\n",
            "131/131 [==============================] - 12s 95ms/step - loss: 0.0414 - accuracy: 0.9822 - val_loss: 0.0366 - val_accuracy: 0.9847\n",
            "Epoch 9/100\n",
            "131/131 [==============================] - 12s 89ms/step - loss: 0.0404 - accuracy: 0.9827 - val_loss: 0.0357 - val_accuracy: 0.9850\n",
            "Epoch 10/100\n",
            "131/131 [==============================] - 12s 89ms/step - loss: 0.0396 - accuracy: 0.9830 - val_loss: 0.0354 - val_accuracy: 0.9851\n",
            "Epoch 11/100\n",
            "131/131 [==============================] - 12s 89ms/step - loss: 0.0388 - accuracy: 0.9833 - val_loss: 0.0351 - val_accuracy: 0.9853\n",
            "Epoch 12/100\n",
            "131/131 [==============================] - 12s 89ms/step - loss: 0.0381 - accuracy: 0.9836 - val_loss: 0.0341 - val_accuracy: 0.9858\n",
            "Epoch 13/100\n",
            "131/131 [==============================] - 13s 96ms/step - loss: 0.0377 - accuracy: 0.9838 - val_loss: 0.0340 - val_accuracy: 0.9858\n",
            "Epoch 14/100\n",
            "131/131 [==============================] - 12s 89ms/step - loss: 0.0372 - accuracy: 0.9840 - val_loss: 0.0333 - val_accuracy: 0.9861\n",
            "Epoch 15/100\n",
            "131/131 [==============================] - 11s 88ms/step - loss: 0.0366 - accuracy: 0.9842 - val_loss: 0.0350 - val_accuracy: 0.9855\n",
            "Epoch 16/100\n",
            "131/131 [==============================] - 13s 96ms/step - loss: 0.0365 - accuracy: 0.9843 - val_loss: 0.0330 - val_accuracy: 0.9862\n",
            "Epoch 17/100\n",
            "131/131 [==============================] - 12s 89ms/step - loss: 0.0355 - accuracy: 0.9847 - val_loss: 0.0324 - val_accuracy: 0.9866\n",
            "Epoch 18/100\n",
            "131/131 [==============================] - 13s 96ms/step - loss: 0.0351 - accuracy: 0.9849 - val_loss: 0.0320 - val_accuracy: 0.9869\n",
            "Epoch 19/100\n",
            "131/131 [==============================] - 12s 88ms/step - loss: 0.0348 - accuracy: 0.9851 - val_loss: 0.0325 - val_accuracy: 0.9869\n",
            "Epoch 20/100\n",
            "131/131 [==============================] - 11s 88ms/step - loss: 0.0346 - accuracy: 0.9852 - val_loss: 0.0328 - val_accuracy: 0.9866\n",
            "Epoch 21/100\n",
            "131/131 [==============================] - 12s 95ms/step - loss: 0.0343 - accuracy: 0.9853 - val_loss: 0.0320 - val_accuracy: 0.9869\n",
            "2\n",
            "Epoch 1/100\n",
            "131/131 [==============================] - 13s 98ms/step - loss: 0.0362 - accuracy: 0.9846 - val_loss: 0.0285 - val_accuracy: 0.9880\n",
            "Epoch 2/100\n",
            "131/131 [==============================] - 12s 88ms/step - loss: 0.0353 - accuracy: 0.9850 - val_loss: 0.0285 - val_accuracy: 0.9880\n",
            "Epoch 3/100\n",
            "131/131 [==============================] - 12s 95ms/step - loss: 0.0342 - accuracy: 0.9854 - val_loss: 0.0281 - val_accuracy: 0.9881\n",
            "Epoch 4/100\n",
            "131/131 [==============================] - 12s 89ms/step - loss: 0.0339 - accuracy: 0.9855 - val_loss: 0.0276 - val_accuracy: 0.9884\n",
            "Epoch 5/100\n",
            "131/131 [==============================] - 12s 89ms/step - loss: 0.0329 - accuracy: 0.9859 - val_loss: 0.0275 - val_accuracy: 0.9884\n",
            "Epoch 6/100\n",
            "131/131 [==============================] - 12s 90ms/step - loss: 0.0321 - accuracy: 0.9862 - val_loss: 0.0271 - val_accuracy: 0.9886\n",
            "Epoch 7/100\n",
            "131/131 [==============================] - 11s 87ms/step - loss: 0.0323 - accuracy: 0.9862 - val_loss: 0.0273 - val_accuracy: 0.9886\n",
            "Epoch 8/100\n",
            "131/131 [==============================] - 12s 96ms/step - loss: 0.0320 - accuracy: 0.9863 - val_loss: 0.0266 - val_accuracy: 0.9888\n",
            "Epoch 9/100\n",
            "131/131 [==============================] - 11s 87ms/step - loss: 0.2438 - accuracy: 0.9223 - val_loss: 0.3500 - val_accuracy: 0.8843\n",
            "Epoch 10/100\n",
            "131/131 [==============================] - 11s 87ms/step - loss: 0.3248 - accuracy: 0.8950 - val_loss: 0.3060 - val_accuracy: 0.8989\n",
            "3\n",
            "Epoch 1/100\n",
            "131/131 [==============================] - 13s 99ms/step - loss: 0.2833 - accuracy: 0.9061 - val_loss: 0.2585 - val_accuracy: 0.9120\n",
            "Epoch 2/100\n",
            "131/131 [==============================] - 12s 89ms/step - loss: 0.2521 - accuracy: 0.9145 - val_loss: 0.2364 - val_accuracy: 0.9184\n",
            "Epoch 3/100\n",
            "131/131 [==============================] - 12s 90ms/step - loss: 0.2173 - accuracy: 0.9214 - val_loss: 0.1936 - val_accuracy: 0.9264\n",
            "Epoch 4/100\n",
            "131/131 [==============================] - 12s 89ms/step - loss: 0.1683 - accuracy: 0.9336 - val_loss: 0.1421 - val_accuracy: 0.9468\n",
            "Epoch 5/100\n",
            "131/131 [==============================] - 12s 89ms/step - loss: 0.1290 - accuracy: 0.9496 - val_loss: 0.1157 - val_accuracy: 0.9559\n",
            "Epoch 6/100\n",
            "131/131 [==============================] - 12s 89ms/step - loss: 0.1132 - accuracy: 0.9559 - val_loss: 0.0936 - val_accuracy: 0.9634\n",
            "Epoch 7/100\n",
            "131/131 [==============================] - 12s 89ms/step - loss: 0.1056 - accuracy: 0.9588 - val_loss: 0.0816 - val_accuracy: 0.9673\n",
            "Epoch 8/100\n",
            "131/131 [==============================] - 12s 89ms/step - loss: 0.0883 - accuracy: 0.9649 - val_loss: 0.0763 - val_accuracy: 0.9693\n",
            "Epoch 9/100\n",
            "131/131 [==============================] - 12s 89ms/step - loss: 0.0831 - accuracy: 0.9668 - val_loss: 0.0709 - val_accuracy: 0.9714\n",
            "Epoch 10/100\n",
            "131/131 [==============================] - 12s 89ms/step - loss: 0.0769 - accuracy: 0.9691 - val_loss: 0.0654 - val_accuracy: 0.9737\n",
            "Epoch 11/100\n",
            "131/131 [==============================] - 12s 95ms/step - loss: 0.0717 - accuracy: 0.9709 - val_loss: 0.0641 - val_accuracy: 0.9741\n",
            "Epoch 12/100\n",
            "131/131 [==============================] - 12s 89ms/step - loss: 0.0683 - accuracy: 0.9721 - val_loss: 0.0617 - val_accuracy: 0.9750\n",
            "Epoch 13/100\n",
            "131/131 [==============================] - 12s 89ms/step - loss: 0.0644 - accuracy: 0.9736 - val_loss: 0.0580 - val_accuracy: 0.9764\n",
            "Epoch 14/100\n",
            "131/131 [==============================] - 12s 89ms/step - loss: 0.0626 - accuracy: 0.9743 - val_loss: 0.0566 - val_accuracy: 0.9771\n",
            "Epoch 15/100\n",
            "131/131 [==============================] - 12s 89ms/step - loss: 0.0596 - accuracy: 0.9755 - val_loss: 0.0554 - val_accuracy: 0.9775\n",
            "Epoch 16/100\n",
            "131/131 [==============================] - 12s 96ms/step - loss: 0.0577 - accuracy: 0.9762 - val_loss: 0.0537 - val_accuracy: 0.9783\n",
            "Epoch 17/100\n",
            "131/131 [==============================] - 12s 89ms/step - loss: 0.0561 - accuracy: 0.9768 - val_loss: 0.0505 - val_accuracy: 0.9796\n",
            "Epoch 18/100\n",
            "131/131 [==============================] - 11s 87ms/step - loss: 0.0546 - accuracy: 0.9773 - val_loss: 0.0514 - val_accuracy: 0.9795\n",
            "Epoch 19/100\n",
            "131/131 [==============================] - 12s 95ms/step - loss: 0.0531 - accuracy: 0.9779 - val_loss: 0.0489 - val_accuracy: 0.9803\n",
            "Epoch 20/100\n",
            "131/131 [==============================] - 12s 89ms/step - loss: 0.0514 - accuracy: 0.9786 - val_loss: 0.0466 - val_accuracy: 0.9812\n",
            "Epoch 21/100\n",
            "131/131 [==============================] - 12s 95ms/step - loss: 0.0504 - accuracy: 0.9790 - val_loss: 0.0462 - val_accuracy: 0.9813\n",
            "Epoch 22/100\n",
            "131/131 [==============================] - 12s 89ms/step - loss: 0.0497 - accuracy: 0.9793 - val_loss: 0.0461 - val_accuracy: 0.9816\n",
            "Epoch 23/100\n",
            "131/131 [==============================] - 11s 87ms/step - loss: 0.0487 - accuracy: 0.9797 - val_loss: 0.0477 - val_accuracy: 0.9813\n",
            "Epoch 24/100\n",
            "131/131 [==============================] - 13s 96ms/step - loss: 0.0472 - accuracy: 0.9802 - val_loss: 0.0450 - val_accuracy: 0.9822\n",
            "Epoch 25/100\n",
            "131/131 [==============================] - 12s 89ms/step - loss: 0.0472 - accuracy: 0.9803 - val_loss: 0.0442 - val_accuracy: 0.9825\n",
            "Epoch 26/100\n",
            "131/131 [==============================] - 12s 94ms/step - loss: 0.0461 - accuracy: 0.9807 - val_loss: 0.0430 - val_accuracy: 0.9829\n",
            "Epoch 27/100\n",
            "131/131 [==============================] - 11s 87ms/step - loss: 0.0454 - accuracy: 0.9810 - val_loss: 0.0439 - val_accuracy: 0.9823\n",
            "Epoch 28/100\n",
            "131/131 [==============================] - 12s 94ms/step - loss: 0.0445 - accuracy: 0.9813 - val_loss: 0.0417 - val_accuracy: 0.9834\n",
            "Epoch 29/100\n",
            "131/131 [==============================] - 12s 89ms/step - loss: 0.0444 - accuracy: 0.9814 - val_loss: 0.0414 - val_accuracy: 0.9837\n",
            "Epoch 30/100\n",
            "131/131 [==============================] - 12s 89ms/step - loss: 0.0434 - accuracy: 0.9818 - val_loss: 0.0413 - val_accuracy: 0.9837\n",
            "Epoch 31/100\n",
            "131/131 [==============================] - 12s 95ms/step - loss: 0.0430 - accuracy: 0.9820 - val_loss: 0.0410 - val_accuracy: 0.9836\n",
            "Epoch 32/100\n",
            "131/131 [==============================] - 11s 88ms/step - loss: 0.0902 - accuracy: 0.9658 - val_loss: 0.0587 - val_accuracy: 0.9768\n",
            "Epoch 33/100\n",
            "131/131 [==============================] - 11s 88ms/step - loss: 0.0559 - accuracy: 0.9771 - val_loss: 0.0488 - val_accuracy: 0.9804\n",
            "4\n",
            "Epoch 1/100\n",
            "131/131 [==============================] - 13s 99ms/step - loss: 0.0484 - accuracy: 0.9801 - val_loss: 0.0424 - val_accuracy: 0.9826\n",
            "Epoch 2/100\n",
            "131/131 [==============================] - 13s 96ms/step - loss: 0.0477 - accuracy: 0.9803 - val_loss: 0.0390 - val_accuracy: 0.9839\n",
            "Epoch 3/100\n",
            "131/131 [==============================] - 12s 89ms/step - loss: 0.0435 - accuracy: 0.9819 - val_loss: 0.0364 - val_accuracy: 0.9851\n",
            "Epoch 4/100\n",
            "131/131 [==============================] - 12s 89ms/step - loss: 0.0418 - accuracy: 0.9825 - val_loss: 0.0360 - val_accuracy: 0.9850\n",
            "Epoch 5/100\n",
            "131/131 [==============================] - 13s 96ms/step - loss: 0.0408 - accuracy: 0.9829 - val_loss: 0.0345 - val_accuracy: 0.9858\n",
            "Epoch 6/100\n",
            "131/131 [==============================] - 12s 89ms/step - loss: 0.0400 - accuracy: 0.9832 - val_loss: 0.0338 - val_accuracy: 0.9861\n",
            "Epoch 7/100\n",
            "131/131 [==============================] - 11s 88ms/step - loss: 0.0394 - accuracy: 0.9834 - val_loss: 0.0338 - val_accuracy: 0.9860\n",
            "Epoch 8/100\n",
            "131/131 [==============================] - 13s 96ms/step - loss: 0.0391 - accuracy: 0.9836 - val_loss: 0.0335 - val_accuracy: 0.9862\n",
            "Epoch 9/100\n",
            "131/131 [==============================] - 12s 89ms/step - loss: 0.0387 - accuracy: 0.9837 - val_loss: 0.0334 - val_accuracy: 0.9863\n",
            "Epoch 10/100\n",
            "131/131 [==============================] - 12s 95ms/step - loss: 0.0381 - accuracy: 0.9840 - val_loss: 0.0329 - val_accuracy: 0.9864\n",
            "Epoch 11/100\n",
            "131/131 [==============================] - 12s 89ms/step - loss: 0.0374 - accuracy: 0.9842 - val_loss: 0.0321 - val_accuracy: 0.9868\n",
            "Epoch 12/100\n",
            "131/131 [==============================] - 11s 88ms/step - loss: 0.0372 - accuracy: 0.9843 - val_loss: 0.0327 - val_accuracy: 0.9864\n",
            "Epoch 13/100\n",
            "131/131 [==============================] - 11s 88ms/step - loss: 0.0389 - accuracy: 0.9837 - val_loss: 0.0350 - val_accuracy: 0.9857\n",
            "Epoch 14/100\n",
            "131/131 [==============================] - 12s 94ms/step - loss: 0.0370 - accuracy: 0.9844 - val_loss: 0.0309 - val_accuracy: 0.9872\n",
            "Epoch 15/100\n",
            "131/131 [==============================] - 11s 87ms/step - loss: 0.0366 - accuracy: 0.9846 - val_loss: 0.0320 - val_accuracy: 0.9868\n",
            "Epoch 16/100\n",
            "131/131 [==============================] - 12s 95ms/step - loss: 0.0360 - accuracy: 0.9848 - val_loss: 0.0305 - val_accuracy: 0.9875\n",
            "Epoch 17/100\n",
            "131/131 [==============================] - 12s 89ms/step - loss: 0.0355 - accuracy: 0.9850 - val_loss: 0.0301 - val_accuracy: 0.9876\n",
            "Epoch 18/100\n",
            "131/131 [==============================] - 11s 88ms/step - loss: 0.0353 - accuracy: 0.9851 - val_loss: 0.0311 - val_accuracy: 0.9871\n",
            "Epoch 19/100\n",
            "131/131 [==============================] - 11s 87ms/step - loss: 0.0381 - accuracy: 0.9841 - val_loss: 0.0314 - val_accuracy: 0.9871\n",
            "5\n",
            "Total model fit time:  1347.6611535549164 seconds\n"
          ]
        }
      ]
    },
    {
      "cell_type": "code",
      "source": [
        "model_saved1 =  keras.models.load_model('/content/drive/MyDrive/datamining/prisma/Sardinia/deepUNetEarlyStopEp4Classes3ChannelsWithNoiseexperiment1.hdf5',compile=False)\n",
        "model_saved2 =  keras.models.load_model('/content/drive/MyDrive/datamining/prisma/Sardinia/deepUNetEarlyStopEp4Classes3ChannelsWithNoiseexperiment2.hdf5',compile=False)\n",
        "model_saved3 =  keras.models.load_model('/content/drive/MyDrive/datamining/prisma/Sardinia/deepUNetEarlyStopEp4Classes3ChannelsWithNoiseexperiment3.hdf5',compile=False)\n",
        "model_saved4 =  keras.models.load_model('/content/drive/MyDrive/datamining/prisma/Sardinia/deepUNetEarlyStopEp4Classes3ChannelsWithNoiseexperiment4.hdf5',compile=False)\n",
        "model_saved5 =  keras.models.load_model('/content/drive/MyDrive/datamining/prisma/Sardinia/deepUNetEarlyStopEp4Classes3ChannelsWithNoiseexperiment5.hdf5',compile=False)\n"
      ],
      "metadata": {
        "id": "iGUIol4OfSx1"
      },
      "execution_count": null,
      "outputs": []
    },
    {
      "cell_type": "code",
      "source": [
        ""
      ],
      "metadata": {
        "id": "yVm-rO_45hZ3"
      },
      "execution_count": null,
      "outputs": []
    },
    {
      "cell_type": "code",
      "source": [
        "print(train_acc_lst)\n",
        "print(val_acc_lst)\n",
        "print(val_acc_ls_max)\n",
        "print(train_acc_lst_max)\n",
        "print(len(train_acc_lst))\n",
        "arr_acc = np.array(train_acc_lst, dtype=object)\n",
        "val_acc = np.array(val_acc_lst, dtype=object)\n",
        "val_acc_max = np.array(val_acc_ls_max, dtype=object)\n",
        "train_acc_max = np.array(train_acc_lst_max, dtype=object)"
      ],
      "metadata": {
        "colab": {
          "base_uri": "https://localhost:8080/"
        },
        "id": "1lyYhV0jexo5",
        "outputId": "5c05b475-2528-48b5-8cf1-d51e469fb962"
      },
      "execution_count": null,
      "outputs": [
        {
          "output_type": "stream",
          "name": "stdout",
          "text": [
            "[[0.813819169998169, 0.9019848704338074, 0.9425126314163208, 0.9550502300262451, 0.9621636271476746, 0.9667649865150452, 0.9686316847801208, 0.9711267948150635, 0.9734399914741516, 0.9739089608192444, 0.9757698178291321, 0.976513147354126, 0.9776166081428528, 0.9784793853759766, 0.9790877103805542, 0.9789121747016907, 0.9799180626869202, 0.9800713658332825, 0.98024982213974, 0.9812607765197754, 0.9818263649940491, 0.9817821979522705, 0.9824895262718201, 0.9215176105499268, 0.9601954817771912, 0.9713160395622253, 0.9754289984703064], [0.9761310815811157, 0.9781054854393005, 0.9793056845664978, 0.9801611304283142, 0.9807983040809631, 0.9814438819885254, 0.981717050075531, 0.9822356104850769, 0.9826637506484985, 0.9829856157302856, 0.9833206534385681, 0.9836107492446899, 0.9838066101074219, 0.9840441346168518, 0.9842472076416016, 0.9843317866325378, 0.9847183227539062, 0.9849367141723633, 0.9850577116012573, 0.9851553440093994, 0.9852631688117981], [0.9846240878105164, 0.9849585890769958, 0.9853960871696472, 0.9855010509490967, 0.9859132766723633, 0.9862474203109741, 0.9861799478530884, 0.9862930774688721, 0.9222620725631714, 0.8950150609016418], [0.9061388373374939, 0.9145318269729614, 0.921435534954071, 0.9336070418357849, 0.949623167514801, 0.9558637738227844, 0.958758533000946, 0.9648621678352356, 0.9667691588401794, 0.9690510630607605, 0.9709244966506958, 0.9721406698226929, 0.9736321568489075, 0.9742767810821533, 0.975466787815094, 0.9761859178543091, 0.9767757058143616, 0.9773418307304382, 0.977921724319458, 0.9785745143890381, 0.979004979133606, 0.979280948638916, 0.979681134223938, 0.9802496433258057, 0.9803024530410767, 0.9807308316230774, 0.9810125231742859, 0.9813356399536133, 0.9814240336418152, 0.9817880988121033, 0.9819785356521606, 0.965828537940979, 0.9771106243133545], [0.9800508618354797, 0.9803220629692078, 0.9818962216377258, 0.9825261831283569, 0.9828811883926392, 0.9832131862640381, 0.9834405779838562, 0.9836089015007019, 0.983749508857727, 0.983959972858429, 0.984221339225769, 0.9843488335609436, 0.9837409853935242, 0.9844276905059814, 0.9846149682998657, 0.9848456382751465, 0.9850224852561951, 0.9851290583610535, 0.9841288328170776]]\n",
            "[[0.8824602365493774, 0.9345037341117859, 0.9519215226173401, 0.9611946940422058, 0.966616153717041, 0.9686822891235352, 0.9708768129348755, 0.9735410809516907, 0.9750988483428955, 0.9751921892166138, 0.9771135449409485, 0.9777406454086304, 0.9793766736984253, 0.9793252944946289, 0.9805079698562622, 0.979972779750824, 0.9813421368598938, 0.980665385723114, 0.9823420643806458, 0.9829370975494385, 0.982702910900116, 0.9833662509918213, 0.9835928678512573, 0.945180356502533, 0.969969630241394, 0.9758047461509705, 0.9782164096832275], [0.9808900952339172, 0.981779158115387, 0.9821407198905945, 0.9828372597694397, 0.9833275079727173, 0.9838960766792297, 0.9841455817222595, 0.9846506714820862, 0.9850401282310486, 0.9851480722427368, 0.9852805137634277, 0.9857599139213562, 0.9857563376426697, 0.9861348867416382, 0.9855354428291321, 0.9862402677536011, 0.986619234085083, 0.9869140386581421, 0.9868834614753723, 0.9866143465042114, 0.9869276285171509], [0.9880415201187134, 0.9879885315895081, 0.9880943298339844, 0.9884176850318909, 0.9884306788444519, 0.9886314868927002, 0.9885702729225159, 0.9888461828231812, 0.8843398094177246, 0.8989494442939758], [0.9119727611541748, 0.9184482097625732, 0.9263620972633362, 0.9467952251434326, 0.9559309482574463, 0.963433563709259, 0.9672837853431702, 0.9693451523780823, 0.9714214205741882, 0.9737141728401184, 0.9741178750991821, 0.9750244617462158, 0.9764493703842163, 0.9771103858947754, 0.977527916431427, 0.978346049785614, 0.979597270488739, 0.9794541597366333, 0.9802972674369812, 0.9811815619468689, 0.9813159108161926, 0.9815532565116882, 0.981261670589447, 0.9821609258651733, 0.9825466275215149, 0.982944130897522, 0.9822546243667603, 0.9833534359931946, 0.9836563467979431, 0.9836609363555908, 0.9836124181747437, 0.9768457412719727, 0.9804083704948425], [0.9825795888900757, 0.983859121799469, 0.9850541353225708, 0.9850441217422485, 0.9857562184333801, 0.986066460609436, 0.9859984517097473, 0.9861540794372559, 0.9862654209136963, 0.9864026308059692, 0.9867720007896423, 0.9864346385002136, 0.9856995344161987, 0.9872327446937561, 0.986781120300293, 0.9875046610832214, 0.9875717163085938, 0.987136721611023, 0.9871169924736023]]\n",
            "[0.9835928678512573, 0.9869276285171509, 0.9888461828231812, 0.9836609363555908, 0.9875717163085938]\n",
            "[0.9824895262718201, 0.9852631688117981, 0.9862930774688721, 0.9819785356521606, 0.9851290583610535]\n",
            "5\n"
          ]
        }
      ]
    },
    {
      "cell_type": "code",
      "source": [
        "np.save('/content/drive/MyDrive/datamining/prisma/Sardinia/train_acc_lst', arr_acc)\n",
        "np.save('/content/drive/MyDrive/datamining/prisma/Sardinia/val_acc_lst', val_acc)\n",
        "np.save('/content/drive/MyDrive/datamining/prisma/Sardinia/val_acc_ls_max', val_acc_max)\n",
        "np.save('/content/drive/MyDrive/datamining/prisma/Sardinia/train_acc_lst_max', train_acc_max)"
      ],
      "metadata": {
        "id": "oAf4e4YK3aoy"
      },
      "execution_count": null,
      "outputs": []
    },
    {
      "cell_type": "code",
      "source": [
        "temp_array = np.load('/content/drive/MyDrive/datamining/prisma/Sardinia/train_acc_lst.npy', allow_pickle=True)\n",
        "print(temp_array.shape, type(temp_array))"
      ],
      "metadata": {
        "colab": {
          "base_uri": "https://localhost:8080/"
        },
        "id": "vAQK3-7C42-f",
        "outputId": "e0f01436-e14a-4520-aaaa-39e5f64e95a3"
      },
      "execution_count": null,
      "outputs": [
        {
          "output_type": "stream",
          "name": "stdout",
          "text": [
            "(5,) <class 'numpy.ndarray'>\n"
          ]
        }
      ]
    },
    {
      "cell_type": "code",
      "source": [
        "#model_saved1.history['val_accuracy']"
      ],
      "metadata": {
        "id": "uNYsUSEmfUI1"
      },
      "execution_count": null,
      "outputs": []
    },
    {
      "cell_type": "code",
      "source": [
        "#train_acc = np.array(train_acc_lst)\n",
        "test_acc = np.array(val_acc_ls_max)\n",
        "test_acc_mean = np.mean(val_acc_ls_max)\n",
        "#test_acc_mean = np.mean(test_acc)\n",
        "test_acc_std = np.std(test_acc)\n",
        "#test_acc_std = np.std(test_acc)\n"
      ],
      "metadata": {
        "id": "4L_5QsKodCAm"
      },
      "execution_count": null,
      "outputs": []
    },
    {
      "cell_type": "code",
      "source": [
        "#the mean and std of the k=5 models\n",
        "print(test_acc_mean, test_acc_std)\n"
      ],
      "metadata": {
        "colab": {
          "base_uri": "https://localhost:8080/"
        },
        "id": "p0f33RPUFtFr",
        "outputId": "bdfb96e4-f032-478a-a26f-1d98574d0cdb"
      },
      "execution_count": null,
      "outputs": [
        {
          "output_type": "stream",
          "name": "stdout",
          "text": [
            "0.9896990180015564 0.0018886511584383211\n"
          ]
        }
      ]
    },
    {
      "cell_type": "code",
      "source": [
        "#model_saved =  keras.models.load_model('/content/drive/MyDrive/datamining/prisma/Sardinia/deepUNet_200Ep4Classes3ChannelsWithNoise',compile=False)\n"
      ],
      "metadata": {
        "id": "h9bte3st3rFX"
      },
      "execution_count": null,
      "outputs": []
    },
    {
      "cell_type": "code",
      "source": [
        "#minutes_fit_time =(2456.1134254932404)/60\n",
        "#print(minutes_fit_time, \"minutes\")"
      ],
      "metadata": {
        "id": "P4fSJLWThiIq"
      },
      "execution_count": null,
      "outputs": []
    },
    {
      "cell_type": "code",
      "source": [
        "#loss = history.history['loss']\n",
        "#val_loss = history.history['val_loss']\n",
        "#epochs = range(1, len(loss) + 1)\n",
        "#acc = history.history['accuracy']\n",
        "#val_acc = history.history['val_accuracy']\n",
        "\n",
        "#plt.plot(epochs, acc, 'b', label='Training Accuracy')\n",
        "#plt.plot(epochs, val_acc, 'g', label='Validation Accuracy')\n",
        "#plt.title('Training and validation Accuracy balanced model')\n",
        "#plt.xlabel('Epochs')\n",
        "#plt.ylabel('Accuracy')\n",
        "#plt.legend()\n",
        "#plt.savefig(\"/content/drive/MyDrive/datamining/prisma/Sardinia/Accuracy.png\", bbox_inches='tight')\n",
        "\n",
        "#plt.show()"
      ],
      "metadata": {
        "id": "Hok3pMAuKLw7"
      },
      "execution_count": null,
      "outputs": []
    },
    {
      "cell_type": "code",
      "source": [
        "#plot the training and validation accuracy and loss at each epoch\n",
        "#loss = history.history['loss']\n",
        "#val_loss = history.history['val_loss']\n",
        "#epochs = range(1, len(loss) + 1)\n",
        "#plt.plot(epochs, loss, 'y', label='Training loss')\n",
        "#plt.plot(epochs, val_loss, 'r', label='Validation loss')\n",
        "#plt.title('Training and validation loss')\n",
        "#plt.xlabel('Epochs')\n",
        "#plt.ylabel('Loss')\n",
        "#plt.legend()\n",
        "#plt.savefig(\"/content/drive/MyDrive/datamining/prisma/Sardinia/LossFunction.png\", bbox_inches='tight')\n",
        "#plt.show()"
      ],
      "metadata": {
        "id": "ERBAUmNWSasD"
      },
      "execution_count": null,
      "outputs": []
    },
    {
      "cell_type": "code",
      "source": [
        ""
      ],
      "metadata": {
        "id": "HVhNcSki6PIe"
      },
      "execution_count": null,
      "outputs": []
    },
    {
      "cell_type": "code",
      "source": [
        "#label_masks={0 : \"background\",1 : 'sea', 2 : \"vegetation\", 3 : \"miner\"} "
      ],
      "metadata": {
        "id": "Hr2Rr7EhQ8ul"
      },
      "execution_count": null,
      "outputs": []
    },
    {
      "cell_type": "code",
      "source": [
        "#prediction = model.predict(X_test)"
      ],
      "metadata": {
        "id": "l5XlCo8bKLza"
      },
      "execution_count": null,
      "outputs": []
    },
    {
      "cell_type": "code",
      "source": [
        "#prediction.shape"
      ],
      "metadata": {
        "id": "VbUcZkO-S1Ir"
      },
      "execution_count": null,
      "outputs": []
    },
    {
      "cell_type": "code",
      "source": [
        "#predicted_img=np.argmax(prediction, axis=3)[45,:,:]"
      ],
      "metadata": {
        "id": "K2pWEamqTxG5"
      },
      "execution_count": null,
      "outputs": []
    },
    {
      "cell_type": "code",
      "source": [
        "#predicted_img.shape"
      ],
      "metadata": {
        "id": "x39VGGTdUJLf"
      },
      "execution_count": null,
      "outputs": []
    },
    {
      "cell_type": "code",
      "source": [
        "#from re import I\n",
        "#from random import randint\n",
        "#i = randint(0, 1046)\n",
        "#predicted_img=np.argmax(prediction, axis=3)[i,:,:]\n",
        "#print(\"PREDICTION\")\n",
        "#plt.imshow(predicted_img)\n",
        "#plt.show()\n",
        "#print(np.unique(predicted_img))\n",
        "#print(\"GROUND TRUTH\")\n",
        "#plt.imshow(y_test[i,:,:,0])\n",
        "#plt.show()\n",
        "#print(np.unique(y_test[i,:,:,0]))"
      ],
      "metadata": {
        "id": "myLNC3dTS8jT"
      },
      "execution_count": null,
      "outputs": []
    },
    {
      "cell_type": "code",
      "source": [
        "x_test1 = np.load('/content/drive/MyDrive/datamining/prisma/Sardinia/x_testK1.npy')\n",
        "y_test1 = np.load('/content/drive/MyDrive/datamining/prisma/Sardinia/y_testK1.npy')"
      ],
      "metadata": {
        "id": "hPLSAg3UGadd"
      },
      "execution_count": null,
      "outputs": []
    },
    {
      "cell_type": "code",
      "source": [
        "x_test2 = np.load('/content/drive/MyDrive/datamining/prisma/Sardinia/x_testK2.npy')\n",
        "y_test2 = np.load('/content/drive/MyDrive/datamining/prisma/Sardinia/y_testK2.npy')\n",
        "\n",
        "x_test3 = np.load('/content/drive/MyDrive/datamining/prisma/Sardinia/x_testK3.npy')\n",
        "y_test3 = np.load('/content/drive/MyDrive/datamining/prisma/Sardinia/y_testK3.npy')\n",
        "\n",
        "x_test4 = np.load('/content/drive/MyDrive/datamining/prisma/Sardinia/x_testK4.npy')\n",
        "y_test4 = np.load('/content/drive/MyDrive/datamining/prisma/Sardinia/y_testK4.npy')"
      ],
      "metadata": {
        "id": "9sM6rGpZkHT9"
      },
      "execution_count": null,
      "outputs": []
    },
    {
      "cell_type": "code",
      "source": [
        "x_test5 = np.load('/content/drive/MyDrive/datamining/prisma/Sardinia/x_testK5.npy')\n",
        "y_test5 = np.load('/content/drive/MyDrive/datamining/prisma/Sardinia/y_testK5.npy')"
      ],
      "metadata": {
        "id": "67yb7s0xlD--"
      },
      "execution_count": null,
      "outputs": []
    },
    {
      "cell_type": "code",
      "source": [
        "####### CONFUSION MATRIX ########\n",
        "from sklearn import svm, datasets\n",
        "from sklearn.metrics import confusion_matrix, multilabel_confusion_matrix\n",
        "\n",
        "pred1 = model_saved1.predict(x_test1)\n",
        "pred1 = np.argmax(pred1, axis = 3)\n",
        "y_test1 = np.argmax(y_test1, axis = 3)"
      ],
      "metadata": {
        "id": "HAnWL8RQUV4N"
      },
      "execution_count": null,
      "outputs": []
    },
    {
      "cell_type": "code",
      "source": [
        "pred2 = model_saved2.predict(x_test2)\n",
        "pred2 = np.argmax(pred2, axis = 3)\n",
        "y_test2 = np.argmax(y_test2, axis = 3)\n",
        "\n",
        "pred3 = model_saved3.predict(x_test3)\n",
        "pred3 = np.argmax(pred3, axis = 3)\n",
        "y_test3 = np.argmax(y_test3, axis = 3)\n",
        "\n",
        "pred4 = model_saved4.predict(x_test4)\n",
        "pred4 = np.argmax(pred4, axis = 3)\n",
        "y_test4 = np.argmax(y_test4, axis = 3)\n",
        "\n",
        "pred5 = model_saved5.predict(x_test5)\n",
        "pred5 = np.argmax(pred5, axis = 3)\n",
        "y_test5 = np.argmax(y_test5, axis = 3)"
      ],
      "metadata": {
        "id": "ps1WEj9YkX_g"
      },
      "execution_count": null,
      "outputs": []
    },
    {
      "cell_type": "code",
      "source": [
        "print(y_test1.shape, pred1.shape, np.unique(y_test1), np.unique(pred1))"
      ],
      "metadata": {
        "colab": {
          "base_uri": "https://localhost:8080/"
        },
        "id": "zn74OiMwINoM",
        "outputId": "1f953288-2d2b-43ca-f17b-ee51797ff506"
      },
      "execution_count": null,
      "outputs": [
        {
          "output_type": "stream",
          "name": "stdout",
          "text": [
            "(1046, 128, 128) (1046, 128, 128) [0 1 2 3] [0 1 2 3]\n"
          ]
        }
      ]
    },
    {
      "cell_type": "code",
      "source": [
        "plt.imshow(y_test1[0])\n",
        "plt.show()\n",
        "\n",
        "plt.imshow(pred1[0])\n",
        "plt.show()"
      ],
      "metadata": {
        "colab": {
          "base_uri": "https://localhost:8080/",
          "height": 519
        },
        "id": "kY_zQY8KIgqc",
        "outputId": "e73739e0-8181-4fee-b0ac-9470fa650ecd"
      },
      "execution_count": null,
      "outputs": [
        {
          "output_type": "display_data",
          "data": {
            "text/plain": [
              "<Figure size 432x288 with 1 Axes>"
            ],
            "image/png": "[encoded data removed]"
          },
          "metadata": {
            "needs_background": "light"
          }
        },
        {
          "output_type": "display_data",
          "data": {
            "text/plain": [
              "<Figure size 432x288 with 1 Axes>"
            ],
            "image/png": "[encoded data removed]"
          },
          "metadata": {
            "needs_background": "light"
          }
        }
      ]
    },
    {
      "cell_type": "code",
      "source": [
        "##### ALGORITHM TO CALCULATE TRUE POSITIVE AND TRUE NEGATIVE #####\n",
        "y_test1_bin = np.where(y_test1 ==1, 1,0)\n",
        "pred1_bin =  np.where(pred1 ==1, 1,0)"
      ],
      "metadata": {
        "id": "ZY9wQ6LuSuqO"
      },
      "execution_count": null,
      "outputs": []
    },
    {
      "cell_type": "code",
      "source": [
        "y_test2_bin = np.where(y_test2 ==1, 1,0)\n",
        "pred2_bin =  np.where(pred2 ==1, 1,0)\n",
        "\n",
        "y_test3_bin = np.where(y_test3 ==1, 1,0)\n",
        "pred3_bin =  np.where(pred3 ==1, 1,0)\n",
        "\n",
        "y_test4_bin = np.where(y_test4 ==1, 1,0)\n",
        "pred4_bin =  np.where(pred4 ==1, 1,0)\n",
        "\n",
        "y_test5_bin = np.where(y_test5 ==1, 1,0)\n",
        "pred5_bin =  np.where(pred5 ==1, 1,0)"
      ],
      "metadata": {
        "id": "gsdkyA7xj1EO"
      },
      "execution_count": null,
      "outputs": []
    },
    {
      "cell_type": "code",
      "source": [
        "print(y_test1_bin.shape, np.unique(y_test1_bin), pred1_bin.shape, np.unique(pred1_bin))"
      ],
      "metadata": {
        "colab": {
          "base_uri": "https://localhost:8080/"
        },
        "id": "KxlVmudBTvVT",
        "outputId": "75078116-8f12-4986-bc8a-8b7aab134fc3"
      },
      "execution_count": null,
      "outputs": [
        {
          "output_type": "stream",
          "name": "stdout",
          "text": [
            "(1046, 128, 128) [0 1] (1046, 128, 128) [0 1]\n"
          ]
        }
      ]
    },
    {
      "cell_type": "code",
      "source": [
        "############ K = 1 #############\n",
        "tp = 0 \n",
        "tn = 0 \n",
        "fp = 0 \n",
        "fn = 0\n",
        "for i in range (pred1_bin.shape[0]):\n",
        "  for j in range (pred1_bin.shape[1]):\n",
        "    for k in range (pred1_bin.shape[2]):\n",
        "      if ((pred1_bin[i,j,k] - y_test1_bin[i,j,k]==0) and (pred1_bin[i,j,k] == 1 and y_test1_bin[i,j,k]==1)):\n",
        "        tp = tp +1\n",
        "      elif ((pred1_bin[i,j,k] - y_test1_bin[i,j,k]==0) and (pred1_bin[i,j,k] == 0 and y_test1_bin[i,j,k]==0)):\n",
        "        tn = tn +1\n",
        "      elif (pred1_bin[i,j,k] - y_test1_bin[i,j,k]>0):\n",
        "        fp = fp +1\n",
        "      elif (pred1_bin[i,j,k] - y_test1_bin[i,j,k]<0):\n",
        "        fn = fn +1\n",
        "print(tp, tn, fp, fn)\n"
      ],
      "metadata": {
        "colab": {
          "base_uri": "https://localhost:8080/"
        },
        "id": "grR4SNAPHJXE",
        "outputId": "8614f3b5-ca1f-4d68-c1ed-0509ffe48aca"
      },
      "execution_count": null,
      "outputs": [
        {
          "output_type": "stream",
          "name": "stdout",
          "text": [
            "434744 16658678 17432 26810\n"
          ]
        }
      ]
    },
    {
      "cell_type": "code",
      "source": [
        "tp_norm1 = tp / np.count_nonzero(y_test1_bin)\n",
        "tn_norm1 = tn / ((1046*128*128)-np.count_nonzero(y_test1_bin))\n",
        "fp_norm1 = fp / np.count_nonzero(y_test1_bin)\n",
        "fn_norm1 = fn / ((1046*128*128)-np.count_nonzero(y_test1_bin))\n",
        "print(tp_norm1, tn_norm1, fp_norm1, fn_norm1)\n",
        "conf_mtrx1 = np.array([[tp_norm1, fn_norm1], [fp_norm1, tn_norm1]])\n",
        "print(conf_mtrx1, conf_mtrx1.shape)"
      ],
      "metadata": {
        "colab": {
          "base_uri": "https://localhost:8080/"
        },
        "id": "sK8zpmHpI6fr",
        "outputId": "1414b0cf-71c6-4d8d-ad26-07894b4868dd"
      },
      "execution_count": null,
      "outputs": [
        {
          "output_type": "stream",
          "name": "stdout",
          "text": [
            "0.9419136222413845 0.9989546722826846 0.03776806180858578 0.0016076890833653652\n",
            "[[0.94191362 0.00160769]\n",
            " [0.03776806 0.99895467]] (2, 2)\n"
          ]
        }
      ]
    },
    {
      "cell_type": "code",
      "source": [
        ""
      ],
      "metadata": {
        "colab": {
          "base_uri": "https://localhost:8080/"
        },
        "id": "9kpV0ijccAd_",
        "outputId": "6896e8e7-0e31-45db-a5ab-85a9c0a51394"
      },
      "execution_count": null,
      "outputs": [
        {
          "output_type": "execute_result",
          "data": {
            "text/plain": [
              "16676110"
            ]
          },
          "metadata": {},
          "execution_count": 56
        }
      ]
    },
    {
      "cell_type": "code",
      "source": [
        "############ K = 2 #############\n",
        "tp = 0 \n",
        "tn = 0 \n",
        "fp = 0 \n",
        "fn = 0\n",
        "for i in range (pred2_bin.shape[0]):\n",
        "  for j in range (pred2_bin.shape[1]):\n",
        "    for k in range (pred2_bin.shape[2]):\n",
        "      if ((pred2_bin[i,j,k] - y_test2_bin[i,j,k]==0) and (pred2_bin[i,j,k] == 1 and y_test2_bin[i,j,k]==1)):\n",
        "        tp = tp +1\n",
        "      elif ((pred2_bin[i,j,k] - y_test2_bin[i,j,k]==0) and (pred2_bin[i,j,k] == 0 and y_test2_bin[i,j,k]==0)):\n",
        "        tn = tn +1\n",
        "      elif (pred2_bin[i,j,k] - y_test2_bin[i,j,k]>0):\n",
        "        fp = fp +1\n",
        "      elif (pred2_bin[i,j,k] - y_test2_bin[i,j,k]<0):\n",
        "        fn = fn +1\n",
        "print(tp, tn, fp, fn)"
      ],
      "metadata": {
        "id": "4EspxgRyn9qW"
      },
      "execution_count": null,
      "outputs": []
    },
    {
      "cell_type": "code",
      "source": [
        "tp_norm2 = tp / np.count_nonzero((y_test2_bin))\n",
        "tn_norm2 = tn / ((1046*128*128)-np.count_nonzero(y_test2_bin))\n",
        "fp_norm2 = fp / np.count_nonzero((y_test2_bin))\n",
        "fn_norm2 = fn / ((1046*128*128)-np.count_nonzero(y_test2_bin))\n",
        "print(tp_norm2, tn_norm2, fp_norm2, fn_norm2)\n",
        "conf_mtrx2 = np.array([[tp_norm2, fn_norm2], [fp_norm2, tn_norm2]])\n",
        "print(conf_mtrx2, conf_mtrx2.shape)"
      ],
      "metadata": {
        "colab": {
          "base_uri": "https://localhost:8080/"
        },
        "id": "bBTQSXLscUlO",
        "outputId": "86702866-984a-49e6-d7dd-cd8dc6948ac6"
      },
      "execution_count": null,
      "outputs": [
        {
          "output_type": "stream",
          "name": "stdout",
          "text": [
            "1.0203106522695116 0.9966317301843769 0.02566971151764821 0.0011786489085640443\n",
            "[[1.02031065 0.00117865]\n",
            " [0.02566971 0.99663173]] (2, 2)\n"
          ]
        }
      ]
    },
    {
      "cell_type": "code",
      "source": [
        "############ K = 3 #############\n",
        "tp = 0 \n",
        "tn = 0 \n",
        "fp = 0 \n",
        "fn = 0\n",
        "for i in range (pred3_bin.shape[0]):\n",
        "  for j in range (pred3_bin.shape[1]):\n",
        "    for k in range (pred3_bin.shape[2]):\n",
        "      if ((pred3_bin[i,j,k] - y_test3_bin[i,j,k]==0) and (pred3_bin[i,j,k] == 1 and y_test3_bin[i,j,k]==1)):\n",
        "        tp = tp +1\n",
        "      elif ((pred3_bin[i,j,k] - y_test3_bin[i,j,k]==0) and (pred3_bin[i,j,k] == 0 and y_test3_bin[i,j,k]==0)):\n",
        "        tn = tn +1\n",
        "      elif (pred3_bin[i,j,k] - y_test3_bin[i,j,k]>0):\n",
        "        fp = fp +1\n",
        "      elif (pred3_bin[i,j,k] - y_test3_bin[i,j,k]<0):\n",
        "        fn = fn +1\n",
        "print(tp, tn, fp, fn)"
      ],
      "metadata": {
        "colab": {
          "base_uri": "https://localhost:8080/"
        },
        "id": "1vLXQGISca9W",
        "outputId": "5e34c5b9-8c32-4f1f-a27b-97b0ec50bab1"
      },
      "execution_count": null,
      "outputs": [
        {
          "output_type": "stream",
          "name": "stdout",
          "text": [
            "447797 16642535 11266 19682\n"
          ]
        }
      ]
    },
    {
      "cell_type": "code",
      "source": [
        "tp_norm3 = tp / np.count_nonzero((y_test3_bin))\n",
        "tn_norm3 = tn / ((1046*128*128)-np.count_nonzero(y_test3_bin))\n",
        "fp_norm3 = fp / np.count_nonzero((y_test3_bin))\n",
        "fn_norm3 = fn /((1046*128*128)-np.count_nonzero(y_test3_bin))\n",
        "print(tp_norm3, tn_norm3, fp_norm3, fn_norm3)\n",
        "conf_mtrx3 = np.array([[tp_norm3, fn_norm3], [fp_norm3, tn_norm3]])\n",
        "print(conf_mtrx3, conf_mtrx3.shape)"
      ],
      "metadata": {
        "colab": {
          "base_uri": "https://localhost:8080/"
        },
        "id": "z1gvXXslqdz9",
        "outputId": "a17ee559-1d44-46a5-ecfc-a5602c859f15"
      },
      "execution_count": null,
      "outputs": [
        {
          "output_type": "stream",
          "name": "stdout",
          "text": [
            "0.957897574008672 0.9983413501409852 0.024099478265333842 0.001180670760402479\n",
            "[[0.95789757 0.00118067]\n",
            " [0.02409948 0.99834135]] (2, 2)\n"
          ]
        }
      ]
    },
    {
      "cell_type": "code",
      "source": [
        "############ K = 4 #############\n",
        "tp = 0 \n",
        "tn = 0 \n",
        "fp = 0 \n",
        "fn = 0\n",
        "for i in range (pred4_bin.shape[0]):\n",
        "  for j in range (pred4_bin.shape[1]):\n",
        "    for k in range (pred4_bin.shape[2]):\n",
        "      if ((pred4_bin[i,j,k] - y_test4_bin[i,j,k]==0) and (pred4_bin[i,j,k] == 1 and y_test4_bin[i,j,k]==1)):\n",
        "        tp = tp +1\n",
        "      elif ((pred4_bin[i,j,k] - y_test4_bin[i,j,k]==0) and (pred4_bin[i,j,k] == 0 and y_test4_bin[i,j,k]==0)):\n",
        "        tn = tn +1\n",
        "      elif (pred4_bin[i,j,k] - y_test4_bin[i,j,k]>0):\n",
        "        fp = fp +1\n",
        "      elif (pred4_bin[i,j,k] - y_test4_bin[i,j,k]<0):\n",
        "        fn = fn +1\n",
        "print(tp, tn, fp, fn)"
      ],
      "metadata": {
        "colab": {
          "base_uri": "https://localhost:8080/"
        },
        "id": "b9n9tyuMrNUg",
        "outputId": "3a5e37c6-1503-4901-fbb8-632ca6e5bffc"
      },
      "execution_count": null,
      "outputs": [
        {
          "output_type": "stream",
          "name": "stdout",
          "text": [
            "437657 16639316 28051 16256\n"
          ]
        }
      ]
    },
    {
      "cell_type": "code",
      "source": [
        "tp_norm4 = tp / np.count_nonzero((y_test4_bin))\n",
        "tn_norm4 = tn / ((1046*128*128)-np.count_nonzero(y_test4_bin))\n",
        "fp_norm4 = fp / np.count_nonzero((y_test4_bin))\n",
        "fn_norm4 = fn / ((1046*128*128)-np.count_nonzero(y_test4_bin))\n",
        "print(tp_norm4, tn_norm4, fp_norm4, fn_norm4)\n",
        "conf_mtrx4 = np.array([[tp_norm4, fn_norm4], [fp_norm4, tn_norm4]])\n",
        "print(conf_mtrx4, conf_mtrx4.shape)"
      ],
      "metadata": {
        "colab": {
          "base_uri": "https://localhost:8080/"
        },
        "id": "z6T8J_AJrNX8",
        "outputId": "a6410f58-2901-440f-a2b4-317e34863910"
      },
      "execution_count": null,
      "outputs": [
        {
          "output_type": "stream",
          "name": "stdout",
          "text": [
            "0.9641869697497097 0.9973366301139354 0.06179818599599483 0.0009743612212865081\n",
            "[[9.64186970e-01 9.74361221e-04]\n",
            " [6.17981860e-02 9.97336630e-01]] (2, 2)\n"
          ]
        }
      ]
    },
    {
      "cell_type": "code",
      "source": [
        "############ K = 5 #############\n",
        "tp = 0 \n",
        "tn = 0 \n",
        "fp = 0 \n",
        "fn = 0\n",
        "for i in range (pred5_bin.shape[0]):\n",
        "  for j in range (pred5_bin.shape[1]):\n",
        "    for k in range (pred5_bin.shape[2]):\n",
        "      if ((pred5_bin[i,j,k] - y_test5_bin[i,j,k]==0) and (pred5_bin[i,j,k] == 1 and y_test5_bin[i,j,k]==1)):\n",
        "        tp = tp +1\n",
        "      elif ((pred5_bin[i,j,k] - y_test5_bin[i,j,k]==0) and (pred5_bin[i,j,k] == 0 and y_test5_bin[i,j,k]==0)):\n",
        "        tn = tn +1\n",
        "      elif (pred5_bin[i,j,k] - y_test5_bin[i,j,k]>0):\n",
        "        fp = fp +1\n",
        "      elif (pred5_bin[i,j,k] - y_test5_bin[i,j,k]<0):\n",
        "        fn = fn +1\n",
        "print(tp, tn, fp, fn)"
      ],
      "metadata": {
        "colab": {
          "base_uri": "https://localhost:8080/"
        },
        "id": "47V8JmO7s8Nd",
        "outputId": "ae0e76d2-eac5-48c4-b406-a1d8b48fbcd8"
      },
      "execution_count": null,
      "outputs": [
        {
          "output_type": "stream",
          "name": "stdout",
          "text": [
            "440975 16649284 15967 15054\n"
          ]
        }
      ]
    },
    {
      "cell_type": "code",
      "source": [
        "tp_norm5 = tp / np.count_nonzero((y_test5_bin))\n",
        "tn_norm5 = tn / ((1046*128*128)-np.count_nonzero(y_test5_bin))\n",
        "fp_norm5 = fp / np.count_nonzero((y_test5_bin))\n",
        "fn_norm5 = fn / ((1046*128*128)-np.count_nonzero(y_test5_bin))\n",
        "print(tp_norm5, tn_norm5, fp_norm5, fn_norm5)\n",
        "conf_mtrx5 = np.array([[tp_norm5, fn_norm5], [fp_norm5, tn_norm5]])\n",
        "print(conf_mtrx5, conf_mtrx5.shape)"
      ],
      "metadata": {
        "colab": {
          "base_uri": "https://localhost:8080/"
        },
        "id": "RB8zqGELs_EC",
        "outputId": "b7ff7bd7-bdbe-4e8b-f291-d3e60b43c9e1"
      },
      "execution_count": null,
      "outputs": [
        {
          "output_type": "stream",
          "name": "stdout",
          "text": [
            "0.9669889414927559 0.9980606817017637 0.03501312416534914 0.0009024295280408665\n",
            "[[9.66988941e-01 9.02429528e-04]\n",
            " [3.50131242e-02 9.98060682e-01]] (2, 2)\n"
          ]
        }
      ]
    },
    {
      "cell_type": "code",
      "source": [
        "tp_norm_mean = np.mean([tp_norm1, tp_norm2, tp_norm3, tp_norm4, tp_norm5])\n",
        "tn_norm_mean = np.mean([tn_norm1, tn_norm2, tn_norm3, tn_norm4, tn_norm5])\n",
        "fp_norm_mean = np.mean([fp_norm1, fp_norm2, fp_norm3, fp_norm4, fp_norm5])\n",
        "fn_norm_mean = np.mean([fn_norm1, fn_norm2, fn_norm3, fn_norm4, fn_norm5])\n",
        "\n",
        "tp_norm_std = np.std([tp_norm1, tp_norm2, tp_norm3, tp_norm4, tp_norm5])\n",
        "tn_norm_std = np.std([tn_norm1, tn_norm2, tn_norm3, tn_norm4, tn_norm5])\n",
        "fp_norm_std = np.std([fp_norm1, fp_norm2, fp_norm3, fp_norm4, fp_norm5])\n",
        "fn_norm_std = np.std([fn_norm1, fn_norm2, fn_norm3, fn_norm4, fn_norm5])\n",
        "\n"
      ],
      "metadata": {
        "id": "8qyXWn8bt352"
      },
      "execution_count": null,
      "outputs": []
    },
    {
      "cell_type": "code",
      "source": [
        "conf_mtrx_mean = np.array([[tp_norm_mean, fn_norm_mean], [fp_norm_mean, tn_norm_mean]])\n",
        "print(conf_mtrx_mean, conf_mtrx_mean.shape)\n",
        "conf_mtrx_std = np.array([[tp_norm_std, fn_norm_std], [fp_norm_std, tn_norm_std]])\n",
        "print(conf_mtrx_std, conf_mtrx_std.shape)"
      ],
      "metadata": {
        "colab": {
          "base_uri": "https://localhost:8080/"
        },
        "id": "Eyvp8c2Cu5Wq",
        "outputId": "2b449a05-ee50-442e-adc9-d93ba0b58635"
      },
      "execution_count": null,
      "outputs": [
        {
          "output_type": "stream",
          "name": "stdout",
          "text": [
            "[[0.97025955 0.0011275 ]\n",
            " [0.04440945 0.99786501]] (2, 2)\n",
            "[[0.02649149 0.0002572 ]\n",
            " [0.01475339 0.00080656]] (2, 2)\n"
          ]
        }
      ]
    },
    {
      "cell_type": "code",
      "source": [
        "#np.save('/content/drive/MyDrive/datamining/prisma/Sardinia/conf_mtrx_mean', conf_mtrx_mean)\n",
        "#np.save('/content/drive/MyDrive/datamining/prisma/Sardinia/conf_mtrx_std', conf_mtrx_std)\n",
        "conf_mtrx_mean = np.load('/content/drive/MyDrive/datamining/prisma/Sardinia/conf_mtrx_mean.npy')\n",
        "conf_mtrx_std = np.load('/content/drive/MyDrive/datamining/prisma/Sardinia/conf_mtrx_std.npy')"
      ],
      "metadata": {
        "id": "vp1NmxX_veTW"
      },
      "execution_count": null,
      "outputs": []
    },
    {
      "cell_type": "code",
      "source": [
        "######## PRECISION RECALL ######\n",
        "#precision = tp/(tp + fp)\n",
        "#recall = tp/(tp + fn)\n",
        "#dq = sqrt((dq/dx * dx)^^2 + (dq/dy * dy)^^2)\n",
        "std_precision = (conf_mtrx_mean[0,0]/((conf_mtrx_mean[0,0] + conf_mtrx_mean[1,0])**2) * conf_mtrx_std[0,0] + \n",
        "                 conf_mtrx_std[0,0] * conf_mtrx_std[1,0])\n",
        "\n",
        "std_recall = (conf_mtrx_mean[0,0]/((conf_mtrx_mean[0,0] + conf_mtrx_mean[0,1])**2) * conf_mtrx_std[0,0] + \n",
        "                 conf_mtrx_std[0,0] * conf_mtrx_std[0,1])\n"
      ],
      "metadata": {
        "id": "g-52Qn76bTX7"
      },
      "execution_count": null,
      "outputs": []
    },
    {
      "cell_type": "code",
      "source": [
        "print(std_precision, std_recall)"
      ],
      "metadata": {
        "colab": {
          "base_uri": "https://localhost:8080/"
        },
        "id": "ORJae1wFtIV8",
        "outputId": "221f7b8c-9e82-46b9-f7a2-a2c7c14b2bd7"
      },
      "execution_count": null,
      "outputs": [
        {
          "output_type": "stream",
          "name": "stdout",
          "text": [
            "0.02535664437760407 0.027246979220404702\n"
          ]
        }
      ]
    },
    {
      "cell_type": "code",
      "source": [
        "precision = conf_mtrx_mean[0,0]/ (conf_mtrx_mean[0,0] + conf_mtrx_mean[1,0])\n",
        "recall = conf_mtrx_mean[0,0]/ (conf_mtrx_mean[0,0] + conf_mtrx_mean[0,1])\n",
        "\n",
        "print(precision, recall)"
      ],
      "metadata": {
        "colab": {
          "base_uri": "https://localhost:8080/"
        },
        "id": "0KLFd13fuolr",
        "outputId": "db738ab7-1815-4ab2-86f1-0be3280dcfeb"
      },
      "execution_count": null,
      "outputs": [
        {
          "output_type": "stream",
          "name": "stdout",
          "text": [
            "0.9562325707785361 0.9988392906899751\n"
          ]
        }
      ]
    },
    {
      "cell_type": "code",
      "source": [
        "#precision and recall are close to 1. It means that there are few false positive and negative"
      ],
      "metadata": {
        "id": "WcMj4Ry0YMAX"
      },
      "execution_count": null,
      "outputs": []
    }
  ]
}