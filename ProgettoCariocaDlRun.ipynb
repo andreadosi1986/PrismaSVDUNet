{
  "nbformat": 4,
  "nbformat_minor": 0,
  "metadata": {
    "colab": {
      "provenance": [],
      "machine_shape": "hm",
      "authorship_tag": "ABX9TyOG7+37BdhUnNfhLbFtoYGc",
      "include_colab_link": true
    },
    "kernelspec": {
      "name": "python3",
      "display_name": "Python 3"
    },
    "language_info": {
      "name": "python"
    },
    "accelerator": "GPU"
  },
  "cells": [
    {
      "cell_type": "markdown",
      "metadata": {
        "id": "view-in-github",
        "colab_type": "text"
      },
      "source": [
        "<a href=\"https://colab.research.google.com/github/andreadosi1986/PrismaSVDUNet/blob/master/ProgettoCariocaDlRun.ipynb\" target=\"_parent\"><img src=\"https://colab.research.google.com/assets/colab-badge.svg\" alt=\"Open In Colab\"/></a>"
      ]
    },
    {
      "cell_type": "code",
      "execution_count": null,
      "metadata": {
        "colab": {
          "base_uri": "https://localhost:8080/"
        },
        "id": "WOuSt7EWGRWl",
        "outputId": "e5851178-b2cf-41ca-88f1-d7e6fec7353c"
      },
      "outputs": [
        {
          "output_type": "stream",
          "name": "stdout",
          "text": [
            "Mounted at /content/drive\n"
          ]
        }
      ],
      "source": [
        "from google.colab import drive\n",
        "drive.mount('/content/drive', force_remount=True)"
      ]
    },
    {
      "cell_type": "code",
      "source": [
        "!pip install segmentation_models"
      ],
      "metadata": {
        "colab": {
          "base_uri": "https://localhost:8080/"
        },
        "id": "BDrfZKr7SrJp",
        "outputId": "415423b1-0714-47a0-d93a-09f08c7b5342"
      },
      "execution_count": null,
      "outputs": [
        {
          "output_type": "stream",
          "name": "stdout",
          "text": [
            "Looking in indexes: https://pypi.org/simple, https://us-python.pkg.dev/colab-wheels/public/simple/\n",
            "Collecting segmentation_models\n",
            "  Downloading segmentation_models-1.0.1-py3-none-any.whl (33 kB)\n",
            "Collecting keras-applications<=1.0.8,>=1.0.7\n",
            "  Downloading Keras_Applications-1.0.8-py3-none-any.whl (50 kB)\n",
            "\u001b[K     |████████████████████████████████| 50 kB 6.6 MB/s \n",
            "\u001b[?25hCollecting image-classifiers==1.0.0\n",
            "  Downloading image_classifiers-1.0.0-py3-none-any.whl (19 kB)\n",
            "Collecting efficientnet==1.0.0\n",
            "  Downloading efficientnet-1.0.0-py3-none-any.whl (17 kB)\n",
            "Requirement already satisfied: scikit-image in /usr/local/lib/python3.7/dist-packages (from efficientnet==1.0.0->segmentation_models) (0.18.3)\n",
            "Requirement already satisfied: h5py in /usr/local/lib/python3.7/dist-packages (from keras-applications<=1.0.8,>=1.0.7->segmentation_models) (3.1.0)\n",
            "Requirement already satisfied: numpy>=1.9.1 in /usr/local/lib/python3.7/dist-packages (from keras-applications<=1.0.8,>=1.0.7->segmentation_models) (1.21.6)\n",
            "Requirement already satisfied: cached-property in /usr/local/lib/python3.7/dist-packages (from h5py->keras-applications<=1.0.8,>=1.0.7->segmentation_models) (1.5.2)\n",
            "Requirement already satisfied: matplotlib!=3.0.0,>=2.0.0 in /usr/local/lib/python3.7/dist-packages (from scikit-image->efficientnet==1.0.0->segmentation_models) (3.2.2)\n",
            "Requirement already satisfied: PyWavelets>=1.1.1 in /usr/local/lib/python3.7/dist-packages (from scikit-image->efficientnet==1.0.0->segmentation_models) (1.3.0)\n",
            "Requirement already satisfied: tifffile>=2019.7.26 in /usr/local/lib/python3.7/dist-packages (from scikit-image->efficientnet==1.0.0->segmentation_models) (2021.11.2)\n",
            "Requirement already satisfied: pillow!=7.1.0,!=7.1.1,>=4.3.0 in /usr/local/lib/python3.7/dist-packages (from scikit-image->efficientnet==1.0.0->segmentation_models) (7.1.2)\n",
            "Requirement already satisfied: scipy>=1.0.1 in /usr/local/lib/python3.7/dist-packages (from scikit-image->efficientnet==1.0.0->segmentation_models) (1.4.1)\n",
            "Requirement already satisfied: imageio>=2.3.0 in /usr/local/lib/python3.7/dist-packages (from scikit-image->efficientnet==1.0.0->segmentation_models) (2.4.1)\n",
            "Requirement already satisfied: networkx>=2.0 in /usr/local/lib/python3.7/dist-packages (from scikit-image->efficientnet==1.0.0->segmentation_models) (2.6.3)\n",
            "Requirement already satisfied: cycler>=0.10 in /usr/local/lib/python3.7/dist-packages (from matplotlib!=3.0.0,>=2.0.0->scikit-image->efficientnet==1.0.0->segmentation_models) (0.11.0)\n",
            "Requirement already satisfied: pyparsing!=2.0.4,!=2.1.2,!=2.1.6,>=2.0.1 in /usr/local/lib/python3.7/dist-packages (from matplotlib!=3.0.0,>=2.0.0->scikit-image->efficientnet==1.0.0->segmentation_models) (3.0.9)\n",
            "Requirement already satisfied: kiwisolver>=1.0.1 in /usr/local/lib/python3.7/dist-packages (from matplotlib!=3.0.0,>=2.0.0->scikit-image->efficientnet==1.0.0->segmentation_models) (1.4.2)\n",
            "Requirement already satisfied: python-dateutil>=2.1 in /usr/local/lib/python3.7/dist-packages (from matplotlib!=3.0.0,>=2.0.0->scikit-image->efficientnet==1.0.0->segmentation_models) (2.8.2)\n",
            "Requirement already satisfied: typing-extensions in /usr/local/lib/python3.7/dist-packages (from kiwisolver>=1.0.1->matplotlib!=3.0.0,>=2.0.0->scikit-image->efficientnet==1.0.0->segmentation_models) (4.2.0)\n",
            "Requirement already satisfied: six>=1.5 in /usr/local/lib/python3.7/dist-packages (from python-dateutil>=2.1->matplotlib!=3.0.0,>=2.0.0->scikit-image->efficientnet==1.0.0->segmentation_models) (1.15.0)\n",
            "Installing collected packages: keras-applications, image-classifiers, efficientnet, segmentation-models\n",
            "Successfully installed efficientnet-1.0.0 image-classifiers-1.0.0 keras-applications-1.0.8 segmentation-models-1.0.1\n"
          ]
        }
      ]
    },
    {
      "cell_type": "code",
      "source": [
        "gpu_info = !nvidia-smi\n",
        "gpu_info = '\\n'.join(gpu_info)\n",
        "if gpu_info.find('failed') >= 0:\n",
        "  print('Not connected to a GPU')\n",
        "else:\n",
        "  print(gpu_info)"
      ],
      "metadata": {
        "colab": {
          "base_uri": "https://localhost:8080/"
        },
        "id": "yr6tmKDya4hu",
        "outputId": "ec7e454b-d055-4ed3-9c61-99c2ec737e45"
      },
      "execution_count": null,
      "outputs": [
        {
          "output_type": "stream",
          "name": "stdout",
          "text": [
            "Thu May 26 08:13:05 2022       \n",
            "+-----------------------------------------------------------------------------+\n",
            "| NVIDIA-SMI 460.32.03    Driver Version: 460.32.03    CUDA Version: 11.2     |\n",
            "|-------------------------------+----------------------+----------------------+\n",
            "| GPU  Name        Persistence-M| Bus-Id        Disp.A | Volatile Uncorr. ECC |\n",
            "| Fan  Temp  Perf  Pwr:Usage/Cap|         Memory-Usage | GPU-Util  Compute M. |\n",
            "|                               |                      |               MIG M. |\n",
            "|===============================+======================+======================|\n",
            "|   0  Tesla T4            Off  | 00000000:00:04.0 Off |                    0 |\n",
            "| N/A   33C    P8     9W /  70W |      0MiB / 15109MiB |      0%      Default |\n",
            "|                               |                      |                  N/A |\n",
            "+-------------------------------+----------------------+----------------------+\n",
            "                                                                               \n",
            "+-----------------------------------------------------------------------------+\n",
            "| Processes:                                                                  |\n",
            "|  GPU   GI   CI        PID   Type   Process name                  GPU Memory |\n",
            "|        ID   ID                                                   Usage      |\n",
            "|=============================================================================|\n",
            "|  No running processes found                                                 |\n",
            "+-----------------------------------------------------------------------------+\n"
          ]
        }
      ]
    },
    {
      "cell_type": "code",
      "source": [
        "import cv2\n",
        "import numpy as np\n",
        "import matplotlib\n",
        "import matplotlib.pyplot as plt\n",
        "import matplotlib.image as img\n",
        "import matplotlib.animation as animation\n",
        "from matplotlib import rc\n",
        "import skimage\n",
        "from skimage.measure import regionprops\n",
        "import random\n",
        "import pandas as pd\n",
        "from skimage import filters\n",
        "import tifffile as tiff\n",
        "import tensorflow as tf\n",
        "import keras\n",
        "import pickle"
      ],
      "metadata": {
        "id": "pRK-n7K9Gx0J"
      },
      "execution_count": null,
      "outputs": []
    },
    {
      "cell_type": "code",
      "source": [
        "### IMPORT TRAINING TEST SET AND CORRISPONDING LABELLING ####"
      ],
      "metadata": {
        "id": "Cqru6rVFG42Y"
      },
      "execution_count": null,
      "outputs": []
    },
    {
      "cell_type": "code",
      "source": [
        "X_train = np.load('/content/drive/MyDrive/datamining/prisma/Sardinia/X_train4classesNoNoise.npy')"
      ],
      "metadata": {
        "id": "95eCMIBxG46Y"
      },
      "execution_count": null,
      "outputs": []
    },
    {
      "cell_type": "code",
      "source": [
        "X_test = np.load('/content/drive/MyDrive/datamining/prisma/Sardinia/X_test4classesNoNoise.npy')\n",
        "y_train_cat = np.load('/content/drive/MyDrive/datamining/prisma/Sardinia/y_train_cat4classesNoNoise.npy')\n",
        "y_test_cat = np.load('/content/drive/MyDrive/datamining/prisma/Sardinia/y_test_cat4classesNoNoise.npy')"
      ],
      "metadata": {
        "id": "vBuVFe7dG49Q"
      },
      "execution_count": null,
      "outputs": []
    },
    {
      "cell_type": "code",
      "source": [
        "y_train = np.load('/content/drive/MyDrive/datamining/prisma/Sardinia/y_train4classesNoNoise.npy')\n",
        "y_test = np.load('/content/drive/MyDrive/datamining/prisma/Sardinia/y_test4classesNoNoise.npy')"
      ],
      "metadata": {
        "id": "tbVffVSmQaE_"
      },
      "execution_count": null,
      "outputs": []
    },
    {
      "cell_type": "code",
      "source": [
        "print(X_train.shape, X_test.shape, y_train_cat.shape, y_test_cat.shape)"
      ],
      "metadata": {
        "colab": {
          "base_uri": "https://localhost:8080/"
        },
        "id": "dQWwuV0sfFlz",
        "outputId": "c8f23c58-7880-45d4-fcb3-c35dfdab7335"
      },
      "execution_count": null,
      "outputs": [
        {
          "output_type": "stream",
          "name": "stdout",
          "text": [
            "(2673, 128, 128, 1) (669, 128, 128, 1) (2673, 128, 128, 4) (669, 128, 128, 4)\n"
          ]
        }
      ]
    },
    {
      "cell_type": "code",
      "source": [
        "#class_weight_array = np.load('/content/drive/MyDrive/datamining/prisma/Sardinia/class_weight.npy')"
      ],
      "metadata": {
        "id": "ELPQ_Rit4vdC"
      },
      "execution_count": null,
      "outputs": []
    },
    {
      "cell_type": "code",
      "source": [
        "#print(class_weight_array)"
      ],
      "metadata": {
        "id": "bJLoUTC87Gor"
      },
      "execution_count": null,
      "outputs": []
    },
    {
      "cell_type": "code",
      "source": [
        "#classes = np.array([0,1,2,3,4,5])"
      ],
      "metadata": {
        "id": "ZE_yL0blHFAM"
      },
      "execution_count": null,
      "outputs": []
    },
    {
      "cell_type": "code",
      "source": [
        "#class_weight = {0:class_weight_array[0], 1:class_weight_array[1], 2:class_weight_array[2], 3:class_weight_array[3], 4:class_weight_array[4], 5:class_weight_array[5]}"
      ],
      "metadata": {
        "id": "lmPl5HHB5D7w"
      },
      "execution_count": null,
      "outputs": []
    },
    {
      "cell_type": "code",
      "source": [
        "#from tensorflow.python.keras.engine.training_utils_v1 import standardize_weights\n",
        "#standardize_weights(classes, class_weight=class_weight)"
      ],
      "metadata": {
        "id": "OkP3bwz7Bha0"
      },
      "execution_count": null,
      "outputs": []
    },
    {
      "cell_type": "code",
      "source": [
        "import segmentation_models as sm\n",
        "#class_weights = [0.1666, 0.1666, 0.1666, 0.1666, 0.1666, 0.1666]\n",
        "#dice_loss = sm.losses.DiceLoss(class_weights=class_weight_array) \n",
        "focal_loss = sm.losses.CategoricalFocalLoss()\n",
        "#total_loss = dice_loss + (1 * focal_loss)\n",
        "#jaccard_loss = sm.losses.bce_jaccard_loss(class_weights=class_weight_array)"
      ],
      "metadata": {
        "id": "j-ns_v7xSlRr"
      },
      "execution_count": null,
      "outputs": []
    },
    {
      "cell_type": "code",
      "source": [
        "################################################################ U-NET BUILD ###########################################\n",
        "\n",
        "from keras.models import Model\n",
        "from keras.layers import Input, Conv2D, MaxPooling2D, UpSampling2D, concatenate, Conv2DTranspose, BatchNormalization, Dropout, Lambda\n",
        "\n",
        "def multi_unet_model(n_classes, IMG_HEIGHT, IMG_WIDTH, IMG_CHANNELS):\n",
        "#Build the model\n",
        "    inputs = Input((IMG_HEIGHT, IMG_WIDTH, IMG_CHANNELS))\n",
        "    #s = Lambda(lambda x: x / 255)(inputs)   #No need for this if we normalize our inputs beforehand\n",
        "    s = inputs\n",
        "\n",
        "    #Contraction path\n",
        "    c1 = Conv2D(16, (3, 3), activation='relu', kernel_initializer='he_normal', padding='same')(s)\n",
        "    c1 = Dropout(0.1)(c1)\n",
        "    c1 = Conv2D(16, (3, 3), activation='relu', kernel_initializer='he_normal', padding='same')(c1)\n",
        "    p1 = MaxPooling2D((2, 2))(c1)\n",
        "    \n",
        "    c2 = Conv2D(32, (3, 3), activation='relu', kernel_initializer='he_normal', padding='same')(p1)\n",
        "    c2 = Dropout(0.1)(c2)\n",
        "    c2 = Conv2D(32, (3, 3), activation='relu', kernel_initializer='he_normal', padding='same')(c2)\n",
        "    p2 = MaxPooling2D((2, 2))(c2)\n",
        "     \n",
        "    c3 = Conv2D(64, (3, 3), activation='relu', kernel_initializer='he_normal', padding='same')(p2)\n",
        "    c3 = Dropout(0.2)(c3)\n",
        "    c3 = Conv2D(64, (3, 3), activation='relu', kernel_initializer='he_normal', padding='same')(c3)\n",
        "    p3 = MaxPooling2D((2, 2))(c3)\n",
        "     \n",
        "    c4 = Conv2D(128, (3, 3), activation='relu', kernel_initializer='he_normal', padding='same')(p3)\n",
        "    c4 = Dropout(0.2)(c4)\n",
        "    c4 = Conv2D(128, (3, 3), activation='relu', kernel_initializer='he_normal', padding='same')(c4)\n",
        "    p4 = MaxPooling2D(pool_size=(2, 2))(c4)\n",
        "     \n",
        "    c5 = Conv2D(256, (3, 3), activation='relu', kernel_initializer='he_normal', padding='same')(p4)\n",
        "    c5 = Dropout(0.3)(c5)\n",
        "    c5 = Conv2D(256, (3, 3), activation='relu', kernel_initializer='he_normal', padding='same')(c5)\n",
        "    \n",
        "    #Expansive path \n",
        "    u6 = Conv2DTranspose(128, (2, 2), strides=(2, 2), padding='same')(c5)\n",
        "    u6 = concatenate([u6, c4])\n",
        "    c6 = Conv2D(128, (3, 3), activation='relu', kernel_initializer='he_normal', padding='same')(u6)\n",
        "    c6 = Dropout(0.2)(c6)\n",
        "    c6 = Conv2D(128, (3, 3), activation='relu', kernel_initializer='he_normal', padding='same')(c6)\n",
        "     \n",
        "    u7 = Conv2DTranspose(64, (2, 2), strides=(2, 2), padding='same')(c6)\n",
        "    u7 = concatenate([u7, c3])\n",
        "    c7 = Conv2D(64, (3, 3), activation='relu', kernel_initializer='he_normal', padding='same')(u7)\n",
        "    c7 = Dropout(0.2)(c7)\n",
        "    c7 = Conv2D(64, (3, 3), activation='relu', kernel_initializer='he_normal', padding='same')(c7)\n",
        "     \n",
        "    u8 = Conv2DTranspose(32, (2, 2), strides=(2, 2), padding='same')(c7)\n",
        "    u8 = concatenate([u8, c2])\n",
        "    c8 = Conv2D(32, (3, 3), activation='relu', kernel_initializer='he_normal', padding='same')(u8)\n",
        "    c8 = Dropout(0.1)(c8)\n",
        "    c8 = Conv2D(32, (3, 3), activation='relu', kernel_initializer='he_normal', padding='same')(c8)\n",
        "     \n",
        "    u9 = Conv2DTranspose(16, (2, 2), strides=(2, 2), padding='same')(c8)\n",
        "    u9 = concatenate([u9, c1], axis=3)\n",
        "    c9 = Conv2D(16, (3, 3), activation='relu', kernel_initializer='he_normal', padding='same')(u9)\n",
        "    c9 = Dropout(0.1)(c9)\n",
        "    c9 = Conv2D(16, (3, 3), activation='relu', kernel_initializer='he_normal', padding='same')(c9)\n",
        "     \n",
        "    outputs = Conv2D(n_classes, (1, 1), activation='softmax')(c9)\n",
        "     \n",
        "    model = Model(inputs=[inputs], outputs=[outputs])\n",
        "    \n",
        "    #NOTE: Compile the model in the main program to make it easy to test with various loss functions\n",
        "    #model.compile(optimizer='adam', loss='binary_crossentropy', metrics=['accuracy'])\n",
        "    \n",
        "    #model.summary()\n",
        "    \n",
        "    return model"
      ],
      "metadata": {
        "id": "0TfbeH4LG4_q"
      },
      "execution_count": null,
      "outputs": []
    },
    {
      "cell_type": "code",
      "source": [
        "IMG_HEIGHT = X_train.shape[1]\n",
        "IMG_WIDTH  = X_train.shape[2]\n",
        "IMG_CHANNELS = X_train.shape[3]\n",
        "n_classes=4"
      ],
      "metadata": {
        "id": "1j_z_QSlG5EQ"
      },
      "execution_count": null,
      "outputs": []
    },
    {
      "cell_type": "code",
      "source": [
        "#total_loss= weightedLoss(keras.losses.categorical_crossentropy, class_weights)\n",
        "#model = multi_unet_model(n_classes, IMG_HEIGHT, IMG_WIDTH, IMG_CHANNELS)\n",
        "#model.compile(optimizer='adam', loss= 'categorical_crossentropy', metrics = ['accuracy'])\n",
        "#model.summary()"
      ],
      "metadata": {
        "id": "vIPPShaHJ5t0"
      },
      "execution_count": null,
      "outputs": []
    },
    {
      "cell_type": "code",
      "source": [
        "#total_loss= weightedLoss(keras.losses.categorical_crossentropy, class_weights)\n",
        "model = multi_unet_model(n_classes, IMG_HEIGHT, IMG_WIDTH, IMG_CHANNELS)\n",
        "model.compile(optimizer='adam', loss= focal_loss, metrics = ['accuracy'])\n",
        "model.summary()"
      ],
      "metadata": {
        "colab": {
          "base_uri": "https://localhost:8080/"
        },
        "id": "xTVteiUlTorW",
        "outputId": "2148a222-cdc5-4f03-9df7-1699a3273e63"
      },
      "execution_count": null,
      "outputs": [
        {
          "output_type": "stream",
          "name": "stdout",
          "text": [
            "Model: \"model_11\"\n",
            "__________________________________________________________________________________________________\n",
            " Layer (type)                   Output Shape         Param #     Connected to                     \n",
            "==================================================================================================\n",
            " input_12 (InputLayer)          [(None, 128, 128, 1  0           []                               \n",
            "                                )]                                                                \n",
            "                                                                                                  \n",
            " conv2d_209 (Conv2D)            (None, 128, 128, 16  160         ['input_12[0][0]']               \n",
            "                                )                                                                 \n",
            "                                                                                                  \n",
            " dropout_99 (Dropout)           (None, 128, 128, 16  0           ['conv2d_209[0][0]']             \n",
            "                                )                                                                 \n",
            "                                                                                                  \n",
            " conv2d_210 (Conv2D)            (None, 128, 128, 16  2320        ['dropout_99[0][0]']             \n",
            "                                )                                                                 \n",
            "                                                                                                  \n",
            " max_pooling2d_44 (MaxPooling2D  (None, 64, 64, 16)  0           ['conv2d_210[0][0]']             \n",
            " )                                                                                                \n",
            "                                                                                                  \n",
            " conv2d_211 (Conv2D)            (None, 64, 64, 32)   4640        ['max_pooling2d_44[0][0]']       \n",
            "                                                                                                  \n",
            " dropout_100 (Dropout)          (None, 64, 64, 32)   0           ['conv2d_211[0][0]']             \n",
            "                                                                                                  \n",
            " conv2d_212 (Conv2D)            (None, 64, 64, 32)   9248        ['dropout_100[0][0]']            \n",
            "                                                                                                  \n",
            " max_pooling2d_45 (MaxPooling2D  (None, 32, 32, 32)  0           ['conv2d_212[0][0]']             \n",
            " )                                                                                                \n",
            "                                                                                                  \n",
            " conv2d_213 (Conv2D)            (None, 32, 32, 64)   18496       ['max_pooling2d_45[0][0]']       \n",
            "                                                                                                  \n",
            " dropout_101 (Dropout)          (None, 32, 32, 64)   0           ['conv2d_213[0][0]']             \n",
            "                                                                                                  \n",
            " conv2d_214 (Conv2D)            (None, 32, 32, 64)   36928       ['dropout_101[0][0]']            \n",
            "                                                                                                  \n",
            " max_pooling2d_46 (MaxPooling2D  (None, 16, 16, 64)  0           ['conv2d_214[0][0]']             \n",
            " )                                                                                                \n",
            "                                                                                                  \n",
            " conv2d_215 (Conv2D)            (None, 16, 16, 128)  73856       ['max_pooling2d_46[0][0]']       \n",
            "                                                                                                  \n",
            " dropout_102 (Dropout)          (None, 16, 16, 128)  0           ['conv2d_215[0][0]']             \n",
            "                                                                                                  \n",
            " conv2d_216 (Conv2D)            (None, 16, 16, 128)  147584      ['dropout_102[0][0]']            \n",
            "                                                                                                  \n",
            " max_pooling2d_47 (MaxPooling2D  (None, 8, 8, 128)   0           ['conv2d_216[0][0]']             \n",
            " )                                                                                                \n",
            "                                                                                                  \n",
            " conv2d_217 (Conv2D)            (None, 8, 8, 256)    295168      ['max_pooling2d_47[0][0]']       \n",
            "                                                                                                  \n",
            " dropout_103 (Dropout)          (None, 8, 8, 256)    0           ['conv2d_217[0][0]']             \n",
            "                                                                                                  \n",
            " conv2d_218 (Conv2D)            (None, 8, 8, 256)    590080      ['dropout_103[0][0]']            \n",
            "                                                                                                  \n",
            " conv2d_transpose_44 (Conv2DTra  (None, 16, 16, 128)  131200     ['conv2d_218[0][0]']             \n",
            " nspose)                                                                                          \n",
            "                                                                                                  \n",
            " concatenate_44 (Concatenate)   (None, 16, 16, 256)  0           ['conv2d_transpose_44[0][0]',    \n",
            "                                                                  'conv2d_216[0][0]']             \n",
            "                                                                                                  \n",
            " conv2d_219 (Conv2D)            (None, 16, 16, 128)  295040      ['concatenate_44[0][0]']         \n",
            "                                                                                                  \n",
            " dropout_104 (Dropout)          (None, 16, 16, 128)  0           ['conv2d_219[0][0]']             \n",
            "                                                                                                  \n",
            " conv2d_220 (Conv2D)            (None, 16, 16, 128)  147584      ['dropout_104[0][0]']            \n",
            "                                                                                                  \n",
            " conv2d_transpose_45 (Conv2DTra  (None, 32, 32, 64)  32832       ['conv2d_220[0][0]']             \n",
            " nspose)                                                                                          \n",
            "                                                                                                  \n",
            " concatenate_45 (Concatenate)   (None, 32, 32, 128)  0           ['conv2d_transpose_45[0][0]',    \n",
            "                                                                  'conv2d_214[0][0]']             \n",
            "                                                                                                  \n",
            " conv2d_221 (Conv2D)            (None, 32, 32, 64)   73792       ['concatenate_45[0][0]']         \n",
            "                                                                                                  \n",
            " dropout_105 (Dropout)          (None, 32, 32, 64)   0           ['conv2d_221[0][0]']             \n",
            "                                                                                                  \n",
            " conv2d_222 (Conv2D)            (None, 32, 32, 64)   36928       ['dropout_105[0][0]']            \n",
            "                                                                                                  \n",
            " conv2d_transpose_46 (Conv2DTra  (None, 64, 64, 32)  8224        ['conv2d_222[0][0]']             \n",
            " nspose)                                                                                          \n",
            "                                                                                                  \n",
            " concatenate_46 (Concatenate)   (None, 64, 64, 64)   0           ['conv2d_transpose_46[0][0]',    \n",
            "                                                                  'conv2d_212[0][0]']             \n",
            "                                                                                                  \n",
            " conv2d_223 (Conv2D)            (None, 64, 64, 32)   18464       ['concatenate_46[0][0]']         \n",
            "                                                                                                  \n",
            " dropout_106 (Dropout)          (None, 64, 64, 32)   0           ['conv2d_223[0][0]']             \n",
            "                                                                                                  \n",
            " conv2d_224 (Conv2D)            (None, 64, 64, 32)   9248        ['dropout_106[0][0]']            \n",
            "                                                                                                  \n",
            " conv2d_transpose_47 (Conv2DTra  (None, 128, 128, 16  2064       ['conv2d_224[0][0]']             \n",
            " nspose)                        )                                                                 \n",
            "                                                                                                  \n",
            " concatenate_47 (Concatenate)   (None, 128, 128, 32  0           ['conv2d_transpose_47[0][0]',    \n",
            "                                )                                 'conv2d_210[0][0]']             \n",
            "                                                                                                  \n",
            " conv2d_225 (Conv2D)            (None, 128, 128, 16  4624        ['concatenate_47[0][0]']         \n",
            "                                )                                                                 \n",
            "                                                                                                  \n",
            " dropout_107 (Dropout)          (None, 128, 128, 16  0           ['conv2d_225[0][0]']             \n",
            "                                )                                                                 \n",
            "                                                                                                  \n",
            " conv2d_226 (Conv2D)            (None, 128, 128, 16  2320        ['dropout_107[0][0]']            \n",
            "                                )                                                                 \n",
            "                                                                                                  \n",
            " conv2d_227 (Conv2D)            (None, 128, 128, 4)  68          ['conv2d_226[0][0]']             \n",
            "                                                                                                  \n",
            "==================================================================================================\n",
            "Total params: 1,940,868\n",
            "Trainable params: 1,940,868\n",
            "Non-trainable params: 0\n",
            "__________________________________________________________________________________________________\n"
          ]
        }
      ]
    },
    {
      "cell_type": "code",
      "source": [
        "import time\n",
        "start = time.time()\n",
        "\n",
        "history = model.fit(X_train, y_train_cat, \n",
        "                    batch_size = 16, \n",
        "                    verbose=1, \n",
        "                    epochs=300, \n",
        "                    validation_data=(X_test, y_test_cat), \n",
        "                    #sample_weight=class_weight_array,\n",
        "                    shuffle=False)\n",
        "\n",
        "print(\"Total model fit time: \", time.time() - start, \"seconds\")"
      ],
      "metadata": {
        "colab": {
          "base_uri": "https://localhost:8080/"
        },
        "id": "v1ajrWx5KLrM",
        "outputId": "e3b9e416-5af4-4c1a-80c6-678b9297973e"
      },
      "execution_count": null,
      "outputs": [
        {
          "output_type": "stream",
          "name": "stdout",
          "text": [
            "Epoch 1/300\n",
            "168/168 [==============================] - 10s 47ms/step - loss: 0.0175 - accuracy: 0.7777 - val_loss: 0.0138 - val_accuracy: 0.8756\n",
            "Epoch 2/300\n",
            "168/168 [==============================] - 7s 45ms/step - loss: 0.0091 - accuracy: 0.8752 - val_loss: 0.0107 - val_accuracy: 0.8833\n",
            "Epoch 3/300\n",
            "168/168 [==============================] - 8s 45ms/step - loss: 0.0076 - accuracy: 0.8768 - val_loss: 0.0113 - val_accuracy: 0.8824\n",
            "Epoch 4/300\n",
            "168/168 [==============================] - 8s 45ms/step - loss: 0.0067 - accuracy: 0.8796 - val_loss: 0.0067 - val_accuracy: 0.8881\n",
            "Epoch 5/300\n",
            "168/168 [==============================] - 8s 45ms/step - loss: 0.0051 - accuracy: 0.8979 - val_loss: 0.0049 - val_accuracy: 0.9146\n",
            "Epoch 6/300\n",
            "168/168 [==============================] - 8s 46ms/step - loss: 0.0042 - accuracy: 0.9161 - val_loss: 0.0069 - val_accuracy: 0.9106\n",
            "Epoch 7/300\n",
            "168/168 [==============================] - 8s 46ms/step - loss: 0.0033 - accuracy: 0.9319 - val_loss: 0.0079 - val_accuracy: 0.9129\n",
            "Epoch 8/300\n",
            "168/168 [==============================] - 8s 46ms/step - loss: 0.0029 - accuracy: 0.9388 - val_loss: 0.0049 - val_accuracy: 0.9260\n",
            "Epoch 9/300\n",
            "168/168 [==============================] - 8s 46ms/step - loss: 0.0024 - accuracy: 0.9467 - val_loss: 0.0055 - val_accuracy: 0.9258\n",
            "Epoch 10/300\n",
            "168/168 [==============================] - 8s 46ms/step - loss: 0.0022 - accuracy: 0.9515 - val_loss: 0.0033 - val_accuracy: 0.9328\n",
            "Epoch 11/300\n",
            "168/168 [==============================] - 8s 46ms/step - loss: 0.0020 - accuracy: 0.9549 - val_loss: 0.0033 - val_accuracy: 0.9433\n",
            "Epoch 12/300\n",
            "168/168 [==============================] - 8s 45ms/step - loss: 0.0018 - accuracy: 0.9580 - val_loss: 0.0039 - val_accuracy: 0.9427\n",
            "Epoch 13/300\n",
            "168/168 [==============================] - 8s 45ms/step - loss: 0.0016 - accuracy: 0.9613 - val_loss: 0.0036 - val_accuracy: 0.9457\n",
            "Epoch 14/300\n",
            "168/168 [==============================] - 8s 45ms/step - loss: 0.0015 - accuracy: 0.9636 - val_loss: 0.0035 - val_accuracy: 0.9484\n",
            "Epoch 15/300\n",
            "168/168 [==============================] - 8s 45ms/step - loss: 0.0015 - accuracy: 0.9649 - val_loss: 0.0034 - val_accuracy: 0.9502\n",
            "Epoch 16/300\n",
            "168/168 [==============================] - 8s 45ms/step - loss: 0.0014 - accuracy: 0.9671 - val_loss: 0.0029 - val_accuracy: 0.9552\n",
            "Epoch 17/300\n",
            "168/168 [==============================] - 8s 46ms/step - loss: 0.0013 - accuracy: 0.9676 - val_loss: 0.0030 - val_accuracy: 0.9550\n",
            "Epoch 18/300\n",
            "168/168 [==============================] - 8s 46ms/step - loss: 0.0012 - accuracy: 0.9694 - val_loss: 0.0062 - val_accuracy: 0.9340\n",
            "Epoch 19/300\n",
            "168/168 [==============================] - 8s 46ms/step - loss: 0.0013 - accuracy: 0.9681 - val_loss: 0.0025 - val_accuracy: 0.9596\n",
            "Epoch 20/300\n",
            "168/168 [==============================] - 8s 46ms/step - loss: 0.0012 - accuracy: 0.9708 - val_loss: 0.0031 - val_accuracy: 0.9552\n",
            "Epoch 21/300\n",
            "168/168 [==============================] - 8s 46ms/step - loss: 0.0012 - accuracy: 0.9714 - val_loss: 0.0021 - val_accuracy: 0.9639\n",
            "Epoch 22/300\n",
            "168/168 [==============================] - 8s 46ms/step - loss: 0.0013 - accuracy: 0.9692 - val_loss: 0.0025 - val_accuracy: 0.9594\n",
            "Epoch 23/300\n",
            "168/168 [==============================] - 8s 46ms/step - loss: 0.0013 - accuracy: 0.9699 - val_loss: 0.0018 - val_accuracy: 0.9678\n",
            "Epoch 24/300\n",
            "168/168 [==============================] - 8s 46ms/step - loss: 0.0011 - accuracy: 0.9729 - val_loss: 0.0020 - val_accuracy: 0.9673\n",
            "Epoch 25/300\n",
            "168/168 [==============================] - 8s 46ms/step - loss: 0.0010 - accuracy: 0.9744 - val_loss: 0.0015 - val_accuracy: 0.9715\n",
            "Epoch 26/300\n",
            "168/168 [==============================] - 8s 46ms/step - loss: 9.6646e-04 - accuracy: 0.9754 - val_loss: 0.0015 - val_accuracy: 0.9723\n",
            "Epoch 27/300\n",
            "168/168 [==============================] - 8s 46ms/step - loss: 9.6441e-04 - accuracy: 0.9757 - val_loss: 0.0017 - val_accuracy: 0.9704\n",
            "Epoch 28/300\n",
            "168/168 [==============================] - 8s 46ms/step - loss: 9.5688e-04 - accuracy: 0.9759 - val_loss: 0.0019 - val_accuracy: 0.9688\n",
            "Epoch 29/300\n",
            "168/168 [==============================] - 8s 46ms/step - loss: 9.1004e-04 - accuracy: 0.9768 - val_loss: 0.0018 - val_accuracy: 0.9714\n",
            "Epoch 30/300\n",
            "168/168 [==============================] - 8s 46ms/step - loss: 8.9334e-04 - accuracy: 0.9772 - val_loss: 0.0020 - val_accuracy: 0.9700\n",
            "Epoch 31/300\n",
            "168/168 [==============================] - 8s 46ms/step - loss: 8.6984e-04 - accuracy: 0.9778 - val_loss: 0.0020 - val_accuracy: 0.9687\n",
            "Epoch 32/300\n",
            "168/168 [==============================] - 8s 46ms/step - loss: 9.4169e-04 - accuracy: 0.9765 - val_loss: 0.0015 - val_accuracy: 0.9719\n",
            "Epoch 33/300\n",
            "168/168 [==============================] - 8s 46ms/step - loss: 0.0010 - accuracy: 0.9752 - val_loss: 0.0015 - val_accuracy: 0.9740\n",
            "Epoch 34/300\n",
            "168/168 [==============================] - 8s 46ms/step - loss: 8.8931e-04 - accuracy: 0.9775 - val_loss: 0.0014 - val_accuracy: 0.9748\n",
            "Epoch 35/300\n",
            "168/168 [==============================] - 8s 46ms/step - loss: 8.8697e-04 - accuracy: 0.9776 - val_loss: 0.0014 - val_accuracy: 0.9752\n",
            "Epoch 36/300\n",
            "168/168 [==============================] - 8s 46ms/step - loss: 8.2116e-04 - accuracy: 0.9789 - val_loss: 0.0017 - val_accuracy: 0.9725\n",
            "Epoch 37/300\n",
            "168/168 [==============================] - 8s 46ms/step - loss: 8.0684e-04 - accuracy: 0.9793 - val_loss: 0.0016 - val_accuracy: 0.9744\n",
            "Epoch 38/300\n",
            "168/168 [==============================] - 8s 46ms/step - loss: 0.0013 - accuracy: 0.9719 - val_loss: 0.0016 - val_accuracy: 0.9681\n",
            "Epoch 39/300\n",
            "168/168 [==============================] - 8s 46ms/step - loss: 0.0012 - accuracy: 0.9719 - val_loss: 0.0015 - val_accuracy: 0.9721\n",
            "Epoch 40/300\n",
            "168/168 [==============================] - 8s 46ms/step - loss: 9.1864e-04 - accuracy: 0.9771 - val_loss: 0.0014 - val_accuracy: 0.9753\n",
            "Epoch 41/300\n",
            "168/168 [==============================] - 8s 46ms/step - loss: 8.3783e-04 - accuracy: 0.9787 - val_loss: 0.0013 - val_accuracy: 0.9760\n",
            "Epoch 42/300\n",
            "168/168 [==============================] - 8s 46ms/step - loss: 7.8532e-04 - accuracy: 0.9798 - val_loss: 0.0013 - val_accuracy: 0.9777\n",
            "Epoch 43/300\n",
            "168/168 [==============================] - 8s 46ms/step - loss: 7.5119e-04 - accuracy: 0.9806 - val_loss: 0.0014 - val_accuracy: 0.9770\n",
            "Epoch 44/300\n",
            "168/168 [==============================] - 8s 46ms/step - loss: 7.3755e-04 - accuracy: 0.9809 - val_loss: 0.0014 - val_accuracy: 0.9774\n",
            "Epoch 45/300\n",
            "168/168 [==============================] - 8s 46ms/step - loss: 7.2290e-04 - accuracy: 0.9812 - val_loss: 0.0013 - val_accuracy: 0.9784\n",
            "Epoch 46/300\n",
            "168/168 [==============================] - 8s 46ms/step - loss: 7.2516e-04 - accuracy: 0.9812 - val_loss: 0.0013 - val_accuracy: 0.9781\n",
            "Epoch 47/300\n",
            "168/168 [==============================] - 8s 46ms/step - loss: 7.0075e-04 - accuracy: 0.9818 - val_loss: 0.0015 - val_accuracy: 0.9777\n",
            "Epoch 48/300\n",
            "168/168 [==============================] - 8s 46ms/step - loss: 6.9976e-04 - accuracy: 0.9818 - val_loss: 0.0014 - val_accuracy: 0.9782\n",
            "Epoch 49/300\n",
            "168/168 [==============================] - 8s 46ms/step - loss: 7.1982e-04 - accuracy: 0.9816 - val_loss: 0.0015 - val_accuracy: 0.9777\n",
            "Epoch 50/300\n",
            "168/168 [==============================] - 8s 46ms/step - loss: 7.0695e-04 - accuracy: 0.9818 - val_loss: 0.0013 - val_accuracy: 0.9789\n",
            "Epoch 51/300\n",
            "168/168 [==============================] - 8s 46ms/step - loss: 7.0781e-04 - accuracy: 0.9818 - val_loss: 0.0014 - val_accuracy: 0.9776\n",
            "Epoch 52/300\n",
            "168/168 [==============================] - 8s 46ms/step - loss: 0.0012 - accuracy: 0.9722 - val_loss: 0.0013 - val_accuracy: 0.9747\n",
            "Epoch 53/300\n",
            "168/168 [==============================] - 8s 46ms/step - loss: 9.0314e-04 - accuracy: 0.9779 - val_loss: 0.0013 - val_accuracy: 0.9770\n",
            "Epoch 54/300\n",
            "168/168 [==============================] - 8s 46ms/step - loss: 7.7039e-04 - accuracy: 0.9806 - val_loss: 0.0014 - val_accuracy: 0.9764\n",
            "Epoch 55/300\n",
            "168/168 [==============================] - 8s 46ms/step - loss: 7.3036e-04 - accuracy: 0.9813 - val_loss: 0.0014 - val_accuracy: 0.9781\n",
            "Epoch 56/300\n",
            "168/168 [==============================] - 8s 46ms/step - loss: 6.9822e-04 - accuracy: 0.9820 - val_loss: 0.0014 - val_accuracy: 0.9775\n",
            "Epoch 57/300\n",
            "168/168 [==============================] - 8s 46ms/step - loss: 6.7696e-04 - accuracy: 0.9826 - val_loss: 0.0012 - val_accuracy: 0.9798\n",
            "Epoch 58/300\n",
            "168/168 [==============================] - 8s 46ms/step - loss: 6.7107e-04 - accuracy: 0.9827 - val_loss: 0.0013 - val_accuracy: 0.9799\n",
            "Epoch 59/300\n",
            "168/168 [==============================] - 8s 46ms/step - loss: 6.5051e-04 - accuracy: 0.9832 - val_loss: 0.0013 - val_accuracy: 0.9793\n",
            "Epoch 60/300\n",
            "168/168 [==============================] - 8s 46ms/step - loss: 6.4353e-04 - accuracy: 0.9833 - val_loss: 0.0014 - val_accuracy: 0.9797\n",
            "Epoch 61/300\n",
            "168/168 [==============================] - 8s 46ms/step - loss: 6.3178e-04 - accuracy: 0.9836 - val_loss: 0.0014 - val_accuracy: 0.9798\n",
            "Epoch 62/300\n",
            "168/168 [==============================] - 8s 46ms/step - loss: 6.2979e-04 - accuracy: 0.9837 - val_loss: 0.0013 - val_accuracy: 0.9804\n",
            "Epoch 63/300\n",
            "168/168 [==============================] - 8s 46ms/step - loss: 6.2679e-04 - accuracy: 0.9838 - val_loss: 0.0013 - val_accuracy: 0.9807\n",
            "Epoch 64/300\n",
            "168/168 [==============================] - 8s 46ms/step - loss: 6.3670e-04 - accuracy: 0.9836 - val_loss: 0.0013 - val_accuracy: 0.9804\n",
            "Epoch 65/300\n",
            "168/168 [==============================] - 8s 46ms/step - loss: 6.2820e-04 - accuracy: 0.9838 - val_loss: 0.0012 - val_accuracy: 0.9805\n",
            "Epoch 66/300\n",
            "168/168 [==============================] - 8s 46ms/step - loss: 6.1025e-04 - accuracy: 0.9841 - val_loss: 0.0013 - val_accuracy: 0.9813\n",
            "Epoch 67/300\n",
            "168/168 [==============================] - 8s 46ms/step - loss: 6.6276e-04 - accuracy: 0.9831 - val_loss: 0.0013 - val_accuracy: 0.9805\n",
            "Epoch 68/300\n",
            "168/168 [==============================] - 8s 46ms/step - loss: 0.0011 - accuracy: 0.9761 - val_loss: 0.0014 - val_accuracy: 0.9741\n",
            "Epoch 69/300\n",
            "168/168 [==============================] - 8s 46ms/step - loss: 8.3037e-04 - accuracy: 0.9797 - val_loss: 0.0013 - val_accuracy: 0.9784\n",
            "Epoch 70/300\n",
            "168/168 [==============================] - 8s 46ms/step - loss: 7.0641e-04 - accuracy: 0.9822 - val_loss: 0.0013 - val_accuracy: 0.9791\n",
            "Epoch 71/300\n",
            "168/168 [==============================] - 8s 46ms/step - loss: 6.5097e-04 - accuracy: 0.9834 - val_loss: 0.0012 - val_accuracy: 0.9807\n",
            "Epoch 72/300\n",
            "168/168 [==============================] - 8s 46ms/step - loss: 6.2504e-04 - accuracy: 0.9839 - val_loss: 0.0012 - val_accuracy: 0.9811\n",
            "Epoch 73/300\n",
            "168/168 [==============================] - 8s 46ms/step - loss: 6.1163e-04 - accuracy: 0.9843 - val_loss: 0.0013 - val_accuracy: 0.9803\n",
            "Epoch 74/300\n",
            "168/168 [==============================] - 8s 46ms/step - loss: 6.0258e-04 - accuracy: 0.9844 - val_loss: 0.0013 - val_accuracy: 0.9813\n",
            "Epoch 75/300\n",
            "168/168 [==============================] - 8s 46ms/step - loss: 5.8843e-04 - accuracy: 0.9848 - val_loss: 0.0013 - val_accuracy: 0.9807\n",
            "Epoch 76/300\n",
            "168/168 [==============================] - 8s 46ms/step - loss: 5.9567e-04 - accuracy: 0.9847 - val_loss: 0.0012 - val_accuracy: 0.9816\n",
            "Epoch 77/300\n",
            "168/168 [==============================] - 8s 46ms/step - loss: 5.8750e-04 - accuracy: 0.9849 - val_loss: 0.0013 - val_accuracy: 0.9811\n",
            "Epoch 78/300\n",
            "168/168 [==============================] - 8s 46ms/step - loss: 5.7528e-04 - accuracy: 0.9851 - val_loss: 0.0013 - val_accuracy: 0.9819\n",
            "Epoch 79/300\n",
            "168/168 [==============================] - 8s 46ms/step - loss: 5.7165e-04 - accuracy: 0.9853 - val_loss: 0.0015 - val_accuracy: 0.9802\n",
            "Epoch 80/300\n",
            "168/168 [==============================] - 8s 46ms/step - loss: 5.7561e-04 - accuracy: 0.9852 - val_loss: 0.0013 - val_accuracy: 0.9821\n",
            "Epoch 81/300\n",
            "168/168 [==============================] - 8s 46ms/step - loss: 5.6890e-04 - accuracy: 0.9853 - val_loss: 0.0012 - val_accuracy: 0.9821\n",
            "Epoch 82/300\n",
            "168/168 [==============================] - 8s 46ms/step - loss: 5.6391e-04 - accuracy: 0.9855 - val_loss: 0.0012 - val_accuracy: 0.9822\n",
            "Epoch 83/300\n",
            "168/168 [==============================] - 8s 46ms/step - loss: 5.6614e-04 - accuracy: 0.9854 - val_loss: 0.0015 - val_accuracy: 0.9798\n",
            "Epoch 84/300\n",
            "168/168 [==============================] - 8s 46ms/step - loss: 5.5929e-04 - accuracy: 0.9856 - val_loss: 0.0014 - val_accuracy: 0.9817\n",
            "Epoch 85/300\n",
            "168/168 [==============================] - 8s 46ms/step - loss: 5.7890e-04 - accuracy: 0.9852 - val_loss: 0.0014 - val_accuracy: 0.9812\n",
            "Epoch 86/300\n",
            "168/168 [==============================] - 8s 46ms/step - loss: 5.7469e-04 - accuracy: 0.9853 - val_loss: 0.0013 - val_accuracy: 0.9820\n",
            "Epoch 87/300\n",
            "168/168 [==============================] - 8s 46ms/step - loss: 5.5902e-04 - accuracy: 0.9856 - val_loss: 0.0012 - val_accuracy: 0.9830\n",
            "Epoch 88/300\n",
            "168/168 [==============================] - 8s 46ms/step - loss: 5.5755e-04 - accuracy: 0.9857 - val_loss: 0.0013 - val_accuracy: 0.9821\n",
            "Epoch 89/300\n",
            "168/168 [==============================] - 8s 46ms/step - loss: 0.0024 - accuracy: 0.9543 - val_loss: 0.0019 - val_accuracy: 0.9629\n",
            "Epoch 90/300\n",
            "168/168 [==============================] - 8s 46ms/step - loss: 0.0012 - accuracy: 0.9716 - val_loss: 0.0015 - val_accuracy: 0.9738\n",
            "Epoch 91/300\n",
            "168/168 [==============================] - 8s 46ms/step - loss: 8.5897e-04 - accuracy: 0.9790 - val_loss: 0.0013 - val_accuracy: 0.9779\n",
            "Epoch 92/300\n",
            "168/168 [==============================] - 8s 46ms/step - loss: 7.3970e-04 - accuracy: 0.9814 - val_loss: 0.0013 - val_accuracy: 0.9789\n",
            "Epoch 93/300\n",
            "168/168 [==============================] - 8s 46ms/step - loss: 6.8193e-04 - accuracy: 0.9827 - val_loss: 0.0012 - val_accuracy: 0.9802\n",
            "Epoch 94/300\n",
            "168/168 [==============================] - 8s 46ms/step - loss: 6.4307e-04 - accuracy: 0.9836 - val_loss: 0.0014 - val_accuracy: 0.9801\n",
            "Epoch 95/300\n",
            "168/168 [==============================] - 8s 46ms/step - loss: 6.2952e-04 - accuracy: 0.9840 - val_loss: 0.0012 - val_accuracy: 0.9813\n",
            "Epoch 96/300\n",
            "168/168 [==============================] - 8s 46ms/step - loss: 6.0004e-04 - accuracy: 0.9846 - val_loss: 0.0013 - val_accuracy: 0.9816\n",
            "Epoch 97/300\n",
            "168/168 [==============================] - 8s 46ms/step - loss: 5.8273e-04 - accuracy: 0.9850 - val_loss: 0.0013 - val_accuracy: 0.9820\n",
            "Epoch 98/300\n",
            "168/168 [==============================] - 8s 46ms/step - loss: 5.6820e-04 - accuracy: 0.9853 - val_loss: 0.0014 - val_accuracy: 0.9814\n",
            "Epoch 99/300\n",
            "168/168 [==============================] - 8s 46ms/step - loss: 5.6121e-04 - accuracy: 0.9855 - val_loss: 0.0013 - val_accuracy: 0.9822\n",
            "Epoch 100/300\n",
            "168/168 [==============================] - 8s 46ms/step - loss: 5.5350e-04 - accuracy: 0.9857 - val_loss: 0.0013 - val_accuracy: 0.9824\n",
            "Epoch 101/300\n",
            "168/168 [==============================] - 8s 46ms/step - loss: 5.4609e-04 - accuracy: 0.9859 - val_loss: 0.0013 - val_accuracy: 0.9824\n",
            "Epoch 102/300\n",
            "168/168 [==============================] - 8s 46ms/step - loss: 5.4027e-04 - accuracy: 0.9860 - val_loss: 0.0014 - val_accuracy: 0.9819\n",
            "Epoch 103/300\n",
            "168/168 [==============================] - 8s 46ms/step - loss: 5.3423e-04 - accuracy: 0.9862 - val_loss: 0.0012 - val_accuracy: 0.9830\n",
            "Epoch 104/300\n",
            "168/168 [==============================] - 8s 46ms/step - loss: 5.4102e-04 - accuracy: 0.9861 - val_loss: 0.0012 - val_accuracy: 0.9829\n",
            "Epoch 105/300\n",
            "168/168 [==============================] - 8s 46ms/step - loss: 5.3516e-04 - accuracy: 0.9863 - val_loss: 0.0012 - val_accuracy: 0.9826\n",
            "Epoch 106/300\n",
            "168/168 [==============================] - 8s 46ms/step - loss: 5.2792e-04 - accuracy: 0.9864 - val_loss: 0.0013 - val_accuracy: 0.9831\n",
            "Epoch 107/300\n",
            "168/168 [==============================] - 8s 46ms/step - loss: 5.2102e-04 - accuracy: 0.9866 - val_loss: 0.0013 - val_accuracy: 0.9831\n",
            "Epoch 108/300\n",
            "168/168 [==============================] - 8s 46ms/step - loss: 5.2127e-04 - accuracy: 0.9866 - val_loss: 0.0011 - val_accuracy: 0.9837\n",
            "Epoch 109/300\n",
            "168/168 [==============================] - 8s 46ms/step - loss: 5.1534e-04 - accuracy: 0.9867 - val_loss: 0.0013 - val_accuracy: 0.9832\n",
            "Epoch 110/300\n",
            "168/168 [==============================] - 8s 46ms/step - loss: 6.7741e-04 - accuracy: 0.9836 - val_loss: 0.0014 - val_accuracy: 0.9817\n",
            "Epoch 111/300\n",
            "168/168 [==============================] - 8s 46ms/step - loss: 6.0007e-04 - accuracy: 0.9849 - val_loss: 0.0013 - val_accuracy: 0.9828\n",
            "Epoch 112/300\n",
            "168/168 [==============================] - 8s 46ms/step - loss: 5.4084e-04 - accuracy: 0.9861 - val_loss: 0.0012 - val_accuracy: 0.9834\n",
            "Epoch 113/300\n",
            "168/168 [==============================] - 8s 46ms/step - loss: 5.2653e-04 - accuracy: 0.9865 - val_loss: 0.0013 - val_accuracy: 0.9834\n",
            "Epoch 114/300\n",
            "168/168 [==============================] - 8s 46ms/step - loss: 6.1781e-04 - accuracy: 0.9850 - val_loss: 0.0014 - val_accuracy: 0.9761\n",
            "Epoch 115/300\n",
            "168/168 [==============================] - 8s 46ms/step - loss: 7.3786e-04 - accuracy: 0.9823 - val_loss: 0.0012 - val_accuracy: 0.9823\n",
            "Epoch 116/300\n",
            "168/168 [==============================] - 8s 46ms/step - loss: 5.7498e-04 - accuracy: 0.9854 - val_loss: 0.0013 - val_accuracy: 0.9828\n",
            "Epoch 117/300\n",
            "168/168 [==============================] - 8s 46ms/step - loss: 5.5187e-04 - accuracy: 0.9860 - val_loss: 0.0012 - val_accuracy: 0.9834\n",
            "Epoch 118/300\n",
            "168/168 [==============================] - 8s 46ms/step - loss: 5.2148e-04 - accuracy: 0.9866 - val_loss: 0.0012 - val_accuracy: 0.9835\n",
            "Epoch 119/300\n",
            "168/168 [==============================] - 8s 46ms/step - loss: 5.1482e-04 - accuracy: 0.9868 - val_loss: 0.0013 - val_accuracy: 0.9830\n",
            "Epoch 120/300\n",
            "168/168 [==============================] - 8s 46ms/step - loss: 5.1781e-04 - accuracy: 0.9867 - val_loss: 0.0014 - val_accuracy: 0.9830\n",
            "Epoch 121/300\n",
            "168/168 [==============================] - 8s 46ms/step - loss: 5.0887e-04 - accuracy: 0.9869 - val_loss: 0.0013 - val_accuracy: 0.9839\n",
            "Epoch 122/300\n",
            "168/168 [==============================] - 8s 46ms/step - loss: 4.9087e-04 - accuracy: 0.9873 - val_loss: 0.0013 - val_accuracy: 0.9839\n",
            "Epoch 123/300\n",
            "168/168 [==============================] - 8s 46ms/step - loss: 5.0174e-04 - accuracy: 0.9871 - val_loss: 0.0011 - val_accuracy: 0.9845\n",
            "Epoch 124/300\n",
            "168/168 [==============================] - 8s 46ms/step - loss: 4.8697e-04 - accuracy: 0.9875 - val_loss: 0.0013 - val_accuracy: 0.9842\n",
            "Epoch 125/300\n",
            "168/168 [==============================] - 8s 46ms/step - loss: 4.8363e-04 - accuracy: 0.9875 - val_loss: 0.0012 - val_accuracy: 0.9846\n",
            "Epoch 126/300\n",
            "168/168 [==============================] - 8s 46ms/step - loss: 4.9100e-04 - accuracy: 0.9874 - val_loss: 0.0013 - val_accuracy: 0.9836\n",
            "Epoch 127/300\n",
            "168/168 [==============================] - 8s 46ms/step - loss: 4.8710e-04 - accuracy: 0.9875 - val_loss: 0.0012 - val_accuracy: 0.9839\n",
            "Epoch 128/300\n",
            "168/168 [==============================] - 8s 46ms/step - loss: 4.8832e-04 - accuracy: 0.9874 - val_loss: 0.0013 - val_accuracy: 0.9828\n",
            "Epoch 129/300\n",
            "168/168 [==============================] - 8s 46ms/step - loss: 4.8508e-04 - accuracy: 0.9875 - val_loss: 0.0012 - val_accuracy: 0.9848\n",
            "Epoch 130/300\n",
            "168/168 [==============================] - 8s 46ms/step - loss: 4.7588e-04 - accuracy: 0.9877 - val_loss: 0.0013 - val_accuracy: 0.9843\n",
            "Epoch 131/300\n",
            "168/168 [==============================] - 8s 46ms/step - loss: 4.9221e-04 - accuracy: 0.9874 - val_loss: 0.0012 - val_accuracy: 0.9848\n",
            "Epoch 132/300\n",
            "168/168 [==============================] - 8s 46ms/step - loss: 5.0267e-04 - accuracy: 0.9871 - val_loss: 0.0012 - val_accuracy: 0.9846\n",
            "Epoch 133/300\n",
            "168/168 [==============================] - 8s 46ms/step - loss: 4.8699e-04 - accuracy: 0.9875 - val_loss: 0.0013 - val_accuracy: 0.9835\n",
            "Epoch 134/300\n",
            "168/168 [==============================] - 8s 46ms/step - loss: 5.5253e-04 - accuracy: 0.9863 - val_loss: 0.0013 - val_accuracy: 0.9794\n",
            "Epoch 135/300\n",
            "168/168 [==============================] - 8s 46ms/step - loss: 0.0011 - accuracy: 0.9768 - val_loss: 0.0012 - val_accuracy: 0.9803\n",
            "Epoch 136/300\n",
            "168/168 [==============================] - 8s 46ms/step - loss: 6.4248e-04 - accuracy: 0.9843 - val_loss: 0.0011 - val_accuracy: 0.9832\n",
            "Epoch 137/300\n",
            "168/168 [==============================] - 8s 46ms/step - loss: 5.5273e-04 - accuracy: 0.9861 - val_loss: 0.0011 - val_accuracy: 0.9840\n",
            "Epoch 138/300\n",
            "168/168 [==============================] - 8s 46ms/step - loss: 5.1770e-04 - accuracy: 0.9868 - val_loss: 0.0012 - val_accuracy: 0.9842\n",
            "Epoch 139/300\n",
            "168/168 [==============================] - 8s 45ms/step - loss: 5.0176e-04 - accuracy: 0.9872 - val_loss: 0.0013 - val_accuracy: 0.9840\n",
            "Epoch 140/300\n",
            "168/168 [==============================] - 8s 45ms/step - loss: 4.9133e-04 - accuracy: 0.9874 - val_loss: 0.0012 - val_accuracy: 0.9845\n",
            "Epoch 141/300\n",
            "168/168 [==============================] - 8s 46ms/step - loss: 4.8100e-04 - accuracy: 0.9876 - val_loss: 0.0012 - val_accuracy: 0.9848\n",
            "Epoch 142/300\n",
            "168/168 [==============================] - 8s 45ms/step - loss: 4.7550e-04 - accuracy: 0.9878 - val_loss: 0.0012 - val_accuracy: 0.9852\n",
            "Epoch 143/300\n",
            "168/168 [==============================] - 8s 45ms/step - loss: 4.7260e-04 - accuracy: 0.9879 - val_loss: 0.0013 - val_accuracy: 0.9850\n",
            "Epoch 144/300\n",
            "168/168 [==============================] - 8s 46ms/step - loss: 4.6502e-04 - accuracy: 0.9880 - val_loss: 0.0013 - val_accuracy: 0.9849\n",
            "Epoch 145/300\n",
            "168/168 [==============================] - 8s 45ms/step - loss: 4.6163e-04 - accuracy: 0.9881 - val_loss: 0.0012 - val_accuracy: 0.9853\n",
            "Epoch 146/300\n",
            "168/168 [==============================] - 8s 46ms/step - loss: 4.6210e-04 - accuracy: 0.9881 - val_loss: 0.0012 - val_accuracy: 0.9844\n",
            "Epoch 147/300\n",
            "168/168 [==============================] - 8s 46ms/step - loss: 4.8657e-04 - accuracy: 0.9877 - val_loss: 0.0011 - val_accuracy: 0.9849\n",
            "Epoch 148/300\n",
            "168/168 [==============================] - 8s 46ms/step - loss: 4.6232e-04 - accuracy: 0.9881 - val_loss: 0.0012 - val_accuracy: 0.9849\n",
            "Epoch 149/300\n",
            "168/168 [==============================] - 8s 46ms/step - loss: 4.5788e-04 - accuracy: 0.9882 - val_loss: 0.0012 - val_accuracy: 0.9856\n",
            "Epoch 150/300\n",
            "168/168 [==============================] - 8s 46ms/step - loss: 4.5513e-04 - accuracy: 0.9883 - val_loss: 0.0012 - val_accuracy: 0.9855\n",
            "Epoch 151/300\n",
            "168/168 [==============================] - 8s 46ms/step - loss: 4.5498e-04 - accuracy: 0.9883 - val_loss: 0.0012 - val_accuracy: 0.9853\n",
            "Epoch 152/300\n",
            "168/168 [==============================] - 8s 46ms/step - loss: 4.5278e-04 - accuracy: 0.9884 - val_loss: 0.0012 - val_accuracy: 0.9854\n",
            "Epoch 153/300\n",
            "168/168 [==============================] - 8s 46ms/step - loss: 4.4787e-04 - accuracy: 0.9885 - val_loss: 0.0013 - val_accuracy: 0.9851\n",
            "Epoch 154/300\n",
            "168/168 [==============================] - 8s 46ms/step - loss: 4.5847e-04 - accuracy: 0.9883 - val_loss: 0.0013 - val_accuracy: 0.9855\n",
            "Epoch 155/300\n",
            "168/168 [==============================] - 8s 46ms/step - loss: 4.4640e-04 - accuracy: 0.9885 - val_loss: 0.0012 - val_accuracy: 0.9850\n",
            "Epoch 156/300\n",
            "168/168 [==============================] - 8s 46ms/step - loss: 4.7347e-04 - accuracy: 0.9879 - val_loss: 0.0013 - val_accuracy: 0.9844\n",
            "Epoch 157/300\n",
            "168/168 [==============================] - 8s 46ms/step - loss: 4.6696e-04 - accuracy: 0.9881 - val_loss: 0.0013 - val_accuracy: 0.9847\n",
            "Epoch 158/300\n",
            "168/168 [==============================] - 8s 46ms/step - loss: 4.9473e-04 - accuracy: 0.9876 - val_loss: 0.0013 - val_accuracy: 0.9830\n",
            "Epoch 159/300\n",
            "168/168 [==============================] - 8s 46ms/step - loss: 4.8094e-04 - accuracy: 0.9878 - val_loss: 0.0012 - val_accuracy: 0.9847\n",
            "Epoch 160/300\n",
            "168/168 [==============================] - 8s 46ms/step - loss: 4.6366e-04 - accuracy: 0.9882 - val_loss: 0.0012 - val_accuracy: 0.9850\n",
            "Epoch 161/300\n",
            "168/168 [==============================] - 8s 46ms/step - loss: 4.8082e-04 - accuracy: 0.9879 - val_loss: 0.0014 - val_accuracy: 0.9812\n",
            "Epoch 162/300\n",
            "168/168 [==============================] - 8s 46ms/step - loss: 5.3814e-04 - accuracy: 0.9867 - val_loss: 0.0013 - val_accuracy: 0.9828\n",
            "Epoch 163/300\n",
            "168/168 [==============================] - 8s 45ms/step - loss: 5.9719e-04 - accuracy: 0.9855 - val_loss: 0.0012 - val_accuracy: 0.9836\n",
            "Epoch 164/300\n",
            "168/168 [==============================] - 8s 45ms/step - loss: 6.9942e-04 - accuracy: 0.9836 - val_loss: 0.0012 - val_accuracy: 0.9825\n",
            "Epoch 165/300\n",
            "168/168 [==============================] - 8s 46ms/step - loss: 5.5282e-04 - accuracy: 0.9862 - val_loss: 0.0012 - val_accuracy: 0.9825\n",
            "Epoch 166/300\n",
            "168/168 [==============================] - 8s 45ms/step - loss: 5.1491e-04 - accuracy: 0.9871 - val_loss: 0.0011 - val_accuracy: 0.9851\n",
            "Epoch 167/300\n",
            "168/168 [==============================] - 8s 46ms/step - loss: 4.8930e-04 - accuracy: 0.9877 - val_loss: 0.0011 - val_accuracy: 0.9848\n",
            "Epoch 168/300\n",
            "168/168 [==============================] - 8s 46ms/step - loss: 4.7006e-04 - accuracy: 0.9880 - val_loss: 0.0011 - val_accuracy: 0.9855\n",
            "Epoch 169/300\n",
            "168/168 [==============================] - 8s 46ms/step - loss: 4.5373e-04 - accuracy: 0.9884 - val_loss: 0.0013 - val_accuracy: 0.9852\n",
            "Epoch 170/300\n",
            "168/168 [==============================] - 8s 46ms/step - loss: 4.4532e-04 - accuracy: 0.9886 - val_loss: 0.0012 - val_accuracy: 0.9857\n",
            "Epoch 171/300\n",
            "168/168 [==============================] - 8s 46ms/step - loss: 4.4174e-04 - accuracy: 0.9887 - val_loss: 0.0012 - val_accuracy: 0.9858\n",
            "Epoch 172/300\n",
            "168/168 [==============================] - 8s 46ms/step - loss: 4.3774e-04 - accuracy: 0.9888 - val_loss: 0.0012 - val_accuracy: 0.9854\n",
            "Epoch 173/300\n",
            "168/168 [==============================] - 8s 45ms/step - loss: 6.1594e-04 - accuracy: 0.9853 - val_loss: 0.0012 - val_accuracy: 0.9846\n",
            "Epoch 174/300\n",
            "168/168 [==============================] - 8s 45ms/step - loss: 4.8740e-04 - accuracy: 0.9877 - val_loss: 0.0011 - val_accuracy: 0.9853\n",
            "Epoch 175/300\n",
            "168/168 [==============================] - 8s 46ms/step - loss: 4.5599e-04 - accuracy: 0.9884 - val_loss: 0.0011 - val_accuracy: 0.9855\n",
            "Epoch 176/300\n",
            "168/168 [==============================] - 8s 45ms/step - loss: 4.5021e-04 - accuracy: 0.9885 - val_loss: 0.0012 - val_accuracy: 0.9855\n",
            "Epoch 177/300\n",
            "168/168 [==============================] - 8s 45ms/step - loss: 4.4111e-04 - accuracy: 0.9887 - val_loss: 0.0012 - val_accuracy: 0.9857\n",
            "Epoch 178/300\n",
            "168/168 [==============================] - 8s 45ms/step - loss: 4.3454e-04 - accuracy: 0.9889 - val_loss: 0.0012 - val_accuracy: 0.9851\n",
            "Epoch 179/300\n",
            "168/168 [==============================] - 8s 45ms/step - loss: 4.3373e-04 - accuracy: 0.9889 - val_loss: 0.0012 - val_accuracy: 0.9853\n",
            "Epoch 180/300\n",
            "168/168 [==============================] - 8s 45ms/step - loss: 4.2889e-04 - accuracy: 0.9890 - val_loss: 0.0011 - val_accuracy: 0.9863\n",
            "Epoch 181/300\n",
            "168/168 [==============================] - 8s 45ms/step - loss: 4.2498e-04 - accuracy: 0.9891 - val_loss: 0.0012 - val_accuracy: 0.9861\n",
            "Epoch 182/300\n",
            "168/168 [==============================] - 8s 45ms/step - loss: 4.2816e-04 - accuracy: 0.9890 - val_loss: 0.0014 - val_accuracy: 0.9846\n",
            "Epoch 183/300\n",
            "168/168 [==============================] - 8s 45ms/step - loss: 4.2047e-04 - accuracy: 0.9892 - val_loss: 0.0011 - val_accuracy: 0.9862\n",
            "Epoch 184/300\n",
            "168/168 [==============================] - 8s 45ms/step - loss: 4.1801e-04 - accuracy: 0.9893 - val_loss: 0.0013 - val_accuracy: 0.9854\n",
            "Epoch 185/300\n",
            "168/168 [==============================] - 8s 45ms/step - loss: 4.2187e-04 - accuracy: 0.9892 - val_loss: 0.0011 - val_accuracy: 0.9865\n",
            "Epoch 186/300\n",
            "168/168 [==============================] - 8s 45ms/step - loss: 4.2203e-04 - accuracy: 0.9892 - val_loss: 0.0012 - val_accuracy: 0.9862\n",
            "Epoch 187/300\n",
            "168/168 [==============================] - 8s 46ms/step - loss: 4.2033e-04 - accuracy: 0.9892 - val_loss: 0.0012 - val_accuracy: 0.9862\n",
            "Epoch 188/300\n",
            "168/168 [==============================] - 8s 46ms/step - loss: 4.2070e-04 - accuracy: 0.9892 - val_loss: 0.0012 - val_accuracy: 0.9858\n",
            "Epoch 189/300\n",
            "168/168 [==============================] - 8s 46ms/step - loss: 4.1865e-04 - accuracy: 0.9893 - val_loss: 0.0013 - val_accuracy: 0.9863\n",
            "Epoch 190/300\n",
            "168/168 [==============================] - 8s 45ms/step - loss: 4.2598e-04 - accuracy: 0.9891 - val_loss: 0.0013 - val_accuracy: 0.9852\n",
            "Epoch 191/300\n",
            "168/168 [==============================] - 8s 45ms/step - loss: 4.4822e-04 - accuracy: 0.9886 - val_loss: 0.0012 - val_accuracy: 0.9862\n",
            "Epoch 192/300\n",
            "168/168 [==============================] - 8s 45ms/step - loss: 4.1836e-04 - accuracy: 0.9893 - val_loss: 0.0012 - val_accuracy: 0.9862\n",
            "Epoch 193/300\n",
            "168/168 [==============================] - 8s 45ms/step - loss: 4.2904e-04 - accuracy: 0.9891 - val_loss: 0.0013 - val_accuracy: 0.9860\n",
            "Epoch 194/300\n",
            "168/168 [==============================] - 8s 45ms/step - loss: 4.3062e-04 - accuracy: 0.9890 - val_loss: 0.0013 - val_accuracy: 0.9859\n",
            "Epoch 195/300\n",
            "168/168 [==============================] - 8s 45ms/step - loss: 4.2260e-04 - accuracy: 0.9892 - val_loss: 0.0012 - val_accuracy: 0.9856\n",
            "Epoch 196/300\n",
            "168/168 [==============================] - 8s 45ms/step - loss: 4.1908e-04 - accuracy: 0.9893 - val_loss: 0.0012 - val_accuracy: 0.9864\n",
            "Epoch 197/300\n",
            "168/168 [==============================] - 8s 45ms/step - loss: 4.2513e-04 - accuracy: 0.9892 - val_loss: 0.0013 - val_accuracy: 0.9843\n",
            "Epoch 198/300\n",
            "168/168 [==============================] - 8s 45ms/step - loss: 4.2910e-04 - accuracy: 0.9891 - val_loss: 0.0013 - val_accuracy: 0.9853\n",
            "Epoch 199/300\n",
            "168/168 [==============================] - 8s 45ms/step - loss: 4.2400e-04 - accuracy: 0.9892 - val_loss: 0.0012 - val_accuracy: 0.9862\n",
            "Epoch 200/300\n",
            "168/168 [==============================] - 8s 45ms/step - loss: 4.4598e-04 - accuracy: 0.9887 - val_loss: 0.0013 - val_accuracy: 0.9851\n",
            "Epoch 201/300\n",
            "168/168 [==============================] - 8s 46ms/step - loss: 4.5816e-04 - accuracy: 0.9885 - val_loss: 0.0013 - val_accuracy: 0.9847\n",
            "Epoch 202/300\n",
            "168/168 [==============================] - 8s 46ms/step - loss: 4.3785e-04 - accuracy: 0.9889 - val_loss: 0.0013 - val_accuracy: 0.9848\n",
            "Epoch 203/300\n",
            "168/168 [==============================] - 8s 46ms/step - loss: 5.0025e-04 - accuracy: 0.9881 - val_loss: 0.0026 - val_accuracy: 0.9718\n",
            "Epoch 204/300\n",
            "168/168 [==============================] - 8s 46ms/step - loss: 8.0745e-04 - accuracy: 0.9822 - val_loss: 0.0036 - val_accuracy: 0.9609\n",
            "Epoch 205/300\n",
            "168/168 [==============================] - 8s 46ms/step - loss: 6.6679e-04 - accuracy: 0.9844 - val_loss: 0.0011 - val_accuracy: 0.9836\n",
            "Epoch 206/300\n",
            "168/168 [==============================] - 8s 46ms/step - loss: 5.0305e-04 - accuracy: 0.9875 - val_loss: 0.0011 - val_accuracy: 0.9853\n",
            "Epoch 207/300\n",
            "168/168 [==============================] - 8s 46ms/step - loss: 4.6138e-04 - accuracy: 0.9883 - val_loss: 0.0011 - val_accuracy: 0.9858\n",
            "Epoch 208/300\n",
            "168/168 [==============================] - 8s 45ms/step - loss: 4.4667e-04 - accuracy: 0.9887 - val_loss: 0.0012 - val_accuracy: 0.9852\n",
            "Epoch 209/300\n",
            "168/168 [==============================] - 8s 45ms/step - loss: 4.3540e-04 - accuracy: 0.9890 - val_loss: 0.0011 - val_accuracy: 0.9862\n",
            "Epoch 210/300\n",
            "168/168 [==============================] - 8s 45ms/step - loss: 4.4204e-04 - accuracy: 0.9889 - val_loss: 0.0011 - val_accuracy: 0.9851\n",
            "Epoch 211/300\n",
            "168/168 [==============================] - 8s 46ms/step - loss: 4.7556e-04 - accuracy: 0.9881 - val_loss: 0.0011 - val_accuracy: 0.9861\n",
            "Epoch 212/300\n",
            "168/168 [==============================] - 8s 46ms/step - loss: 4.3157e-04 - accuracy: 0.9890 - val_loss: 0.0011 - val_accuracy: 0.9863\n",
            "Epoch 213/300\n",
            "168/168 [==============================] - 8s 46ms/step - loss: 4.2245e-04 - accuracy: 0.9893 - val_loss: 0.0011 - val_accuracy: 0.9865\n",
            "Epoch 214/300\n",
            "168/168 [==============================] - 8s 46ms/step - loss: 4.1506e-04 - accuracy: 0.9894 - val_loss: 0.0012 - val_accuracy: 0.9860\n",
            "Epoch 215/300\n",
            "168/168 [==============================] - 8s 46ms/step - loss: 4.1026e-04 - accuracy: 0.9895 - val_loss: 0.0012 - val_accuracy: 0.9858\n",
            "Epoch 216/300\n",
            "168/168 [==============================] - 8s 45ms/step - loss: 4.0543e-04 - accuracy: 0.9896 - val_loss: 0.0012 - val_accuracy: 0.9866\n",
            "Epoch 217/300\n",
            "168/168 [==============================] - 8s 46ms/step - loss: 4.0305e-04 - accuracy: 0.9897 - val_loss: 0.0012 - val_accuracy: 0.9867\n",
            "Epoch 218/300\n",
            "168/168 [==============================] - 8s 46ms/step - loss: 4.0200e-04 - accuracy: 0.9897 - val_loss: 0.0013 - val_accuracy: 0.9861\n",
            "Epoch 219/300\n",
            "168/168 [==============================] - 8s 46ms/step - loss: 4.0432e-04 - accuracy: 0.9897 - val_loss: 0.0012 - val_accuracy: 0.9867\n",
            "Epoch 220/300\n",
            "168/168 [==============================] - 8s 46ms/step - loss: 4.0082e-04 - accuracy: 0.9898 - val_loss: 0.0012 - val_accuracy: 0.9867\n",
            "Epoch 221/300\n",
            "168/168 [==============================] - 8s 46ms/step - loss: 3.9999e-04 - accuracy: 0.9898 - val_loss: 0.0013 - val_accuracy: 0.9863\n",
            "Epoch 222/300\n",
            "168/168 [==============================] - 8s 46ms/step - loss: 4.0261e-04 - accuracy: 0.9897 - val_loss: 0.0011 - val_accuracy: 0.9871\n",
            "Epoch 223/300\n",
            "168/168 [==============================] - 8s 46ms/step - loss: 3.9913e-04 - accuracy: 0.9898 - val_loss: 0.0012 - val_accuracy: 0.9866\n",
            "Epoch 224/300\n",
            "168/168 [==============================] - 8s 46ms/step - loss: 4.2017e-04 - accuracy: 0.9894 - val_loss: 0.0012 - val_accuracy: 0.9860\n",
            "Epoch 225/300\n",
            "168/168 [==============================] - 8s 46ms/step - loss: 4.0866e-04 - accuracy: 0.9896 - val_loss: 0.0011 - val_accuracy: 0.9870\n",
            "Epoch 226/300\n",
            "168/168 [==============================] - 8s 46ms/step - loss: 4.0466e-04 - accuracy: 0.9897 - val_loss: 0.0011 - val_accuracy: 0.9866\n",
            "Epoch 227/300\n",
            "168/168 [==============================] - 8s 46ms/step - loss: 4.0418e-04 - accuracy: 0.9897 - val_loss: 0.0012 - val_accuracy: 0.9868\n",
            "Epoch 228/300\n",
            "168/168 [==============================] - 8s 46ms/step - loss: 3.9695e-04 - accuracy: 0.9899 - val_loss: 0.0012 - val_accuracy: 0.9868\n",
            "Epoch 229/300\n",
            "168/168 [==============================] - 8s 46ms/step - loss: 3.9791e-04 - accuracy: 0.9899 - val_loss: 0.0012 - val_accuracy: 0.9866\n",
            "Epoch 230/300\n",
            "168/168 [==============================] - 8s 46ms/step - loss: 4.0117e-04 - accuracy: 0.9898 - val_loss: 0.0012 - val_accuracy: 0.9869\n",
            "Epoch 231/300\n",
            "168/168 [==============================] - 8s 46ms/step - loss: 0.0015 - accuracy: 0.9716 - val_loss: 0.0052 - val_accuracy: 0.9014\n",
            "Epoch 232/300\n",
            "168/168 [==============================] - 8s 45ms/step - loss: 0.0029 - accuracy: 0.9403 - val_loss: 0.0019 - val_accuracy: 0.9641\n",
            "Epoch 233/300\n",
            "168/168 [==============================] - 8s 45ms/step - loss: 0.0013 - accuracy: 0.9701 - val_loss: 0.0017 - val_accuracy: 0.9701\n",
            "Epoch 234/300\n",
            "168/168 [==============================] - 8s 45ms/step - loss: 0.0010 - accuracy: 0.9756 - val_loss: 0.0016 - val_accuracy: 0.9737\n",
            "Epoch 235/300\n",
            "168/168 [==============================] - 8s 45ms/step - loss: 8.7843e-04 - accuracy: 0.9784 - val_loss: 0.0018 - val_accuracy: 0.9736\n",
            "Epoch 236/300\n",
            "168/168 [==============================] - 8s 45ms/step - loss: 7.9011e-04 - accuracy: 0.9802 - val_loss: 0.0016 - val_accuracy: 0.9762\n",
            "Epoch 237/300\n",
            "168/168 [==============================] - 8s 45ms/step - loss: 7.3403e-04 - accuracy: 0.9815 - val_loss: 0.0017 - val_accuracy: 0.9763\n",
            "Epoch 238/300\n",
            "168/168 [==============================] - 8s 45ms/step - loss: 6.8791e-04 - accuracy: 0.9825 - val_loss: 0.0014 - val_accuracy: 0.9777\n",
            "Epoch 239/300\n",
            "168/168 [==============================] - 8s 45ms/step - loss: 6.7396e-04 - accuracy: 0.9830 - val_loss: 0.0015 - val_accuracy: 0.9787\n",
            "Epoch 240/300\n",
            "168/168 [==============================] - 8s 45ms/step - loss: 6.3117e-04 - accuracy: 0.9839 - val_loss: 0.0014 - val_accuracy: 0.9801\n",
            "Epoch 241/300\n",
            "168/168 [==============================] - 8s 45ms/step - loss: 6.0422e-04 - accuracy: 0.9846 - val_loss: 0.0014 - val_accuracy: 0.9804\n",
            "Epoch 242/300\n",
            "168/168 [==============================] - 8s 45ms/step - loss: 5.7919e-04 - accuracy: 0.9852 - val_loss: 0.0015 - val_accuracy: 0.9799\n",
            "Epoch 243/300\n",
            "168/168 [==============================] - 8s 45ms/step - loss: 5.5836e-04 - accuracy: 0.9857 - val_loss: 0.0014 - val_accuracy: 0.9817\n",
            "Epoch 244/300\n",
            "168/168 [==============================] - 8s 45ms/step - loss: 5.4782e-04 - accuracy: 0.9861 - val_loss: 0.0012 - val_accuracy: 0.9826\n",
            "Epoch 245/300\n",
            "168/168 [==============================] - 8s 45ms/step - loss: 5.3508e-04 - accuracy: 0.9863 - val_loss: 0.0013 - val_accuracy: 0.9825\n",
            "Epoch 246/300\n",
            "168/168 [==============================] - 8s 45ms/step - loss: 5.1377e-04 - accuracy: 0.9869 - val_loss: 0.0014 - val_accuracy: 0.9823\n",
            "Epoch 247/300\n",
            "168/168 [==============================] - 8s 45ms/step - loss: 4.9490e-04 - accuracy: 0.9873 - val_loss: 0.0013 - val_accuracy: 0.9833\n",
            "Epoch 248/300\n",
            "168/168 [==============================] - 8s 45ms/step - loss: 4.9289e-04 - accuracy: 0.9874 - val_loss: 0.0012 - val_accuracy: 0.9839\n",
            "Epoch 249/300\n",
            "168/168 [==============================] - 8s 46ms/step - loss: 4.7955e-04 - accuracy: 0.9878 - val_loss: 0.0014 - val_accuracy: 0.9831\n",
            "Epoch 250/300\n",
            "168/168 [==============================] - 8s 45ms/step - loss: 4.6426e-04 - accuracy: 0.9881 - val_loss: 0.0011 - val_accuracy: 0.9851\n",
            "Epoch 251/300\n",
            "168/168 [==============================] - 8s 45ms/step - loss: 4.5644e-04 - accuracy: 0.9883 - val_loss: 0.0012 - val_accuracy: 0.9849\n",
            "Epoch 252/300\n",
            "168/168 [==============================] - 8s 45ms/step - loss: 4.5095e-04 - accuracy: 0.9885 - val_loss: 0.0012 - val_accuracy: 0.9852\n",
            "Epoch 253/300\n",
            "168/168 [==============================] - 8s 46ms/step - loss: 4.4259e-04 - accuracy: 0.9887 - val_loss: 0.0011 - val_accuracy: 0.9858\n",
            "Epoch 254/300\n",
            "168/168 [==============================] - 8s 46ms/step - loss: 4.4006e-04 - accuracy: 0.9888 - val_loss: 0.0012 - val_accuracy: 0.9849\n",
            "Epoch 255/300\n",
            "168/168 [==============================] - 8s 46ms/step - loss: 4.3371e-04 - accuracy: 0.9889 - val_loss: 0.0012 - val_accuracy: 0.9858\n",
            "Epoch 256/300\n",
            "168/168 [==============================] - 8s 46ms/step - loss: 4.2588e-04 - accuracy: 0.9891 - val_loss: 0.0012 - val_accuracy: 0.9858\n",
            "Epoch 257/300\n",
            "168/168 [==============================] - 8s 46ms/step - loss: 4.1904e-04 - accuracy: 0.9893 - val_loss: 0.0013 - val_accuracy: 0.9855\n",
            "Epoch 258/300\n",
            "168/168 [==============================] - 8s 46ms/step - loss: 4.1474e-04 - accuracy: 0.9894 - val_loss: 0.0012 - val_accuracy: 0.9860\n",
            "Epoch 259/300\n",
            "168/168 [==============================] - 8s 46ms/step - loss: 4.1206e-04 - accuracy: 0.9895 - val_loss: 0.0013 - val_accuracy: 0.9857\n",
            "Epoch 260/300\n",
            "168/168 [==============================] - 8s 45ms/step - loss: 4.2214e-04 - accuracy: 0.9893 - val_loss: 0.0013 - val_accuracy: 0.9850\n",
            "Epoch 261/300\n",
            "168/168 [==============================] - 8s 46ms/step - loss: 4.1751e-04 - accuracy: 0.9894 - val_loss: 0.0012 - val_accuracy: 0.9856\n",
            "Epoch 262/300\n",
            "168/168 [==============================] - 8s 46ms/step - loss: 6.7262e-04 - accuracy: 0.9852 - val_loss: 0.0016 - val_accuracy: 0.9726\n",
            "Epoch 263/300\n",
            "168/168 [==============================] - 8s 45ms/step - loss: 6.7616e-04 - accuracy: 0.9840 - val_loss: 0.0011 - val_accuracy: 0.9838\n",
            "Epoch 264/300\n",
            "168/168 [==============================] - 8s 46ms/step - loss: 4.9566e-04 - accuracy: 0.9876 - val_loss: 0.0012 - val_accuracy: 0.9841\n",
            "Epoch 265/300\n",
            "168/168 [==============================] - 8s 46ms/step - loss: 4.5451e-04 - accuracy: 0.9885 - val_loss: 0.0012 - val_accuracy: 0.9854\n",
            "Epoch 266/300\n",
            "168/168 [==============================] - 8s 46ms/step - loss: 4.4401e-04 - accuracy: 0.9888 - val_loss: 0.0011 - val_accuracy: 0.9862\n",
            "Epoch 267/300\n",
            "168/168 [==============================] - 8s 46ms/step - loss: 4.2856e-04 - accuracy: 0.9891 - val_loss: 0.0013 - val_accuracy: 0.9853\n",
            "Epoch 268/300\n",
            "168/168 [==============================] - 8s 46ms/step - loss: 4.2131e-04 - accuracy: 0.9893 - val_loss: 0.0013 - val_accuracy: 0.9855\n",
            "Epoch 269/300\n",
            "168/168 [==============================] - 8s 46ms/step - loss: 4.1879e-04 - accuracy: 0.9894 - val_loss: 0.0012 - val_accuracy: 0.9854\n",
            "Epoch 270/300\n",
            "168/168 [==============================] - 8s 46ms/step - loss: 4.1494e-04 - accuracy: 0.9894 - val_loss: 0.0013 - val_accuracy: 0.9858\n",
            "Epoch 271/300\n",
            "168/168 [==============================] - 8s 46ms/step - loss: 4.1280e-04 - accuracy: 0.9896 - val_loss: 0.0013 - val_accuracy: 0.9854\n",
            "Epoch 272/300\n",
            "168/168 [==============================] - 8s 46ms/step - loss: 4.3777e-04 - accuracy: 0.9889 - val_loss: 0.0012 - val_accuracy: 0.9859\n",
            "Epoch 273/300\n",
            "168/168 [==============================] - 8s 46ms/step - loss: 4.1244e-04 - accuracy: 0.9895 - val_loss: 0.0013 - val_accuracy: 0.9854\n",
            "Epoch 274/300\n",
            "168/168 [==============================] - 8s 45ms/step - loss: 4.1031e-04 - accuracy: 0.9896 - val_loss: 0.0013 - val_accuracy: 0.9860\n",
            "Epoch 275/300\n",
            "168/168 [==============================] - 8s 46ms/step - loss: 4.0509e-04 - accuracy: 0.9897 - val_loss: 0.0012 - val_accuracy: 0.9866\n",
            "Epoch 276/300\n",
            "168/168 [==============================] - 8s 45ms/step - loss: 3.9845e-04 - accuracy: 0.9898 - val_loss: 0.0012 - val_accuracy: 0.9863\n",
            "Epoch 277/300\n",
            "168/168 [==============================] - 8s 46ms/step - loss: 3.9685e-04 - accuracy: 0.9899 - val_loss: 0.0012 - val_accuracy: 0.9861\n",
            "Epoch 278/300\n",
            "168/168 [==============================] - 8s 46ms/step - loss: 3.9588e-04 - accuracy: 0.9899 - val_loss: 0.0013 - val_accuracy: 0.9863\n",
            "Epoch 279/300\n",
            "168/168 [==============================] - 8s 46ms/step - loss: 3.9595e-04 - accuracy: 0.9899 - val_loss: 0.0012 - val_accuracy: 0.9866\n",
            "Epoch 280/300\n",
            "168/168 [==============================] - 8s 46ms/step - loss: 3.9159e-04 - accuracy: 0.9900 - val_loss: 0.0013 - val_accuracy: 0.9865\n",
            "Epoch 281/300\n",
            "168/168 [==============================] - 8s 46ms/step - loss: 3.9398e-04 - accuracy: 0.9900 - val_loss: 0.0014 - val_accuracy: 0.9858\n",
            "Epoch 282/300\n",
            "168/168 [==============================] - 8s 46ms/step - loss: 3.9432e-04 - accuracy: 0.9900 - val_loss: 0.0012 - val_accuracy: 0.9863\n",
            "Epoch 283/300\n",
            "168/168 [==============================] - 8s 46ms/step - loss: 3.8967e-04 - accuracy: 0.9901 - val_loss: 0.0013 - val_accuracy: 0.9862\n",
            "Epoch 284/300\n",
            "168/168 [==============================] - 8s 46ms/step - loss: 4.0343e-04 - accuracy: 0.9898 - val_loss: 0.0012 - val_accuracy: 0.9865\n",
            "Epoch 285/300\n",
            "168/168 [==============================] - 8s 46ms/step - loss: 3.9275e-04 - accuracy: 0.9900 - val_loss: 0.0012 - val_accuracy: 0.9867\n",
            "Epoch 286/300\n",
            "168/168 [==============================] - 8s 46ms/step - loss: 8.1204e-04 - accuracy: 0.9823 - val_loss: 0.0011 - val_accuracy: 0.9828\n",
            "Epoch 287/300\n",
            "168/168 [==============================] - 8s 46ms/step - loss: 5.2298e-04 - accuracy: 0.9872 - val_loss: 0.0011 - val_accuracy: 0.9854\n",
            "Epoch 288/300\n",
            "168/168 [==============================] - 8s 46ms/step - loss: 4.6181e-04 - accuracy: 0.9885 - val_loss: 0.0012 - val_accuracy: 0.9857\n",
            "Epoch 289/300\n",
            "168/168 [==============================] - 8s 46ms/step - loss: 4.2320e-04 - accuracy: 0.9893 - val_loss: 0.0012 - val_accuracy: 0.9862\n",
            "Epoch 290/300\n",
            "168/168 [==============================] - 8s 46ms/step - loss: 4.0841e-04 - accuracy: 0.9896 - val_loss: 0.0013 - val_accuracy: 0.9861\n",
            "Epoch 291/300\n",
            "168/168 [==============================] - 8s 46ms/step - loss: 3.9997e-04 - accuracy: 0.9898 - val_loss: 0.0013 - val_accuracy: 0.9863\n",
            "Epoch 292/300\n",
            "168/168 [==============================] - 8s 46ms/step - loss: 3.9712e-04 - accuracy: 0.9899 - val_loss: 0.0012 - val_accuracy: 0.9864\n",
            "Epoch 293/300\n",
            "168/168 [==============================] - 8s 46ms/step - loss: 4.2573e-04 - accuracy: 0.9893 - val_loss: 0.0012 - val_accuracy: 0.9862\n",
            "Epoch 294/300\n",
            "168/168 [==============================] - 8s 46ms/step - loss: 3.9639e-04 - accuracy: 0.9900 - val_loss: 0.0012 - val_accuracy: 0.9866\n",
            "Epoch 295/300\n",
            "168/168 [==============================] - 8s 46ms/step - loss: 3.8889e-04 - accuracy: 0.9901 - val_loss: 0.0012 - val_accuracy: 0.9868\n",
            "Epoch 296/300\n",
            "168/168 [==============================] - 8s 46ms/step - loss: 4.5021e-04 - accuracy: 0.9888 - val_loss: 0.0012 - val_accuracy: 0.9857\n",
            "Epoch 297/300\n",
            "168/168 [==============================] - 8s 46ms/step - loss: 4.1799e-04 - accuracy: 0.9895 - val_loss: 0.0012 - val_accuracy: 0.9867\n",
            "Epoch 298/300\n",
            "168/168 [==============================] - 8s 46ms/step - loss: 4.0028e-04 - accuracy: 0.9898 - val_loss: 0.0012 - val_accuracy: 0.9870\n",
            "Epoch 299/300\n",
            "168/168 [==============================] - 8s 46ms/step - loss: 3.9119e-04 - accuracy: 0.9900 - val_loss: 0.0013 - val_accuracy: 0.9863\n",
            "Epoch 300/300\n",
            "168/168 [==============================] - 8s 46ms/step - loss: 3.9012e-04 - accuracy: 0.9901 - val_loss: 0.0012 - val_accuracy: 0.9866\n",
            "Total model fit time:  2301.564504146576 seconds\n"
          ]
        }
      ]
    },
    {
      "cell_type": "code",
      "source": [
        "model.save('/content/drive/MyDrive/datamining/prisma/Sardinia/deepUNet_300Ep4ClassesNoNoise')"
      ],
      "metadata": {
        "colab": {
          "base_uri": "https://localhost:8080/"
        },
        "id": "XwVfED5jKLuF",
        "outputId": "cef0b7bd-42bd-4c02-c795-4b30ddb6ffff"
      },
      "execution_count": null,
      "outputs": [
        {
          "output_type": "stream",
          "name": "stdout",
          "text": [
            "INFO:tensorflow:Assets written to: /content/drive/MyDrive/datamining/prisma/Sardinia/deepUNet_300Ep4ClassesNoNoise/assets\n"
          ]
        }
      ]
    },
    {
      "cell_type": "code",
      "source": [
        "minutes_fit_time =(2301.564504146576)/60\n",
        "print(minutes_fit_time, \"minutes\")"
      ],
      "metadata": {
        "colab": {
          "base_uri": "https://localhost:8080/"
        },
        "id": "P4fSJLWThiIq",
        "outputId": "2f74729a-2329-49c0-bf8e-70cab21c7544"
      },
      "execution_count": null,
      "outputs": [
        {
          "output_type": "stream",
          "name": "stdout",
          "text": [
            "38.35940840244293 minutes\n"
          ]
        }
      ]
    },
    {
      "cell_type": "code",
      "source": [
        "loss = history.history['loss']\n",
        "val_loss = history.history['val_loss']\n",
        "epochs = range(1, len(loss) + 1)\n",
        "acc = history.history['accuracy']\n",
        "val_acc = history.history['val_accuracy']\n",
        "\n",
        "plt.plot(epochs, acc, 'b', label='Training Accuracy')\n",
        "plt.plot(epochs, val_acc, 'g', label='Validation Accuracy')\n",
        "plt.title('Training and validation Accuracy balanced model')\n",
        "plt.xlabel('Epochs')\n",
        "plt.ylabel('Accuracy')\n",
        "plt.legend()\n",
        "plt.show()"
      ],
      "metadata": {
        "colab": {
          "base_uri": "https://localhost:8080/",
          "height": 295
        },
        "id": "Hok3pMAuKLw7",
        "outputId": "dbb62700-b16c-497e-df41-f16dcbcf9bc6"
      },
      "execution_count": null,
      "outputs": [
        {
          "output_type": "display_data",
          "data": {
            "text/plain": [
              "<Figure size 432x288 with 1 Axes>"
            ],
            "image/png": "[encoded data removed]"
          },
          "metadata": {
            "needs_background": "light"
          }
        }
      ]
    },
    {
      "cell_type": "code",
      "source": [
        "#label_masks={0 : \"background\",1 : 'sea', 2 : \"vegetation\", 3 : \"miner\"} "
      ],
      "metadata": {
        "id": "Hr2Rr7EhQ8ul"
      },
      "execution_count": null,
      "outputs": []
    },
    {
      "cell_type": "code",
      "source": [
        "prediction = model.predict(X_test)"
      ],
      "metadata": {
        "id": "l5XlCo8bKLza"
      },
      "execution_count": null,
      "outputs": []
    },
    {
      "cell_type": "code",
      "source": [
        "prediction.shape"
      ],
      "metadata": {
        "colab": {
          "base_uri": "https://localhost:8080/"
        },
        "id": "VbUcZkO-S1Ir",
        "outputId": "0527dd7b-e30b-4629-ee38-6c05f2264588"
      },
      "execution_count": null,
      "outputs": [
        {
          "output_type": "execute_result",
          "data": {
            "text/plain": [
              "(292, 128, 128, 6)"
            ]
          },
          "metadata": {},
          "execution_count": 107
        }
      ]
    },
    {
      "cell_type": "code",
      "source": [
        "predicted_img=np.argmax(prediction, axis=3)[45,:,:]"
      ],
      "metadata": {
        "id": "K2pWEamqTxG5"
      },
      "execution_count": null,
      "outputs": []
    },
    {
      "cell_type": "code",
      "source": [
        "predicted_img.shape"
      ],
      "metadata": {
        "colab": {
          "base_uri": "https://localhost:8080/"
        },
        "id": "x39VGGTdUJLf",
        "outputId": "2aea9bcc-2b42-4901-8d57-be4355ebd437"
      },
      "execution_count": null,
      "outputs": [
        {
          "output_type": "execute_result",
          "data": {
            "text/plain": [
              "(128, 128)"
            ]
          },
          "metadata": {},
          "execution_count": 109
        }
      ]
    },
    {
      "cell_type": "code",
      "source": [
        "print(\"PREDICTION\")\n",
        "plt.imshow(predicted_img)\n",
        "plt.show()\n",
        "print(np.unique(predicted_img))\n",
        "print(\"GROUND TRUTH\")\n",
        "plt.imshow(y_test[45,:,:,0])\n",
        "plt.show()\n",
        "print(np.unique(y_test[45,:,:,0]))"
      ],
      "metadata": {
        "colab": {
          "base_uri": "https://localhost:8080/",
          "height": 588
        },
        "id": "myLNC3dTS8jT",
        "outputId": "a09820f6-1549-478e-981c-ee7d14d8bc3d"
      },
      "execution_count": null,
      "outputs": [
        {
          "output_type": "stream",
          "name": "stdout",
          "text": [
            "PREDICTION\n"
          ]
        },
        {
          "output_type": "display_data",
          "data": {
            "text/plain": [
              "<Figure size 432x288 with 1 Axes>"
            ],
            "image/png": "[encoded data removed]"
          },
          "metadata": {
            "needs_background": "light"
          }
        },
        {
          "output_type": "stream",
          "name": "stdout",
          "text": [
            "[3 4 5]\n",
            "GROUND TRUTH\n"
          ]
        },
        {
          "output_type": "display_data",
          "data": {
            "text/plain": [
              "<Figure size 432x288 with 1 Axes>"
            ],
            "image/png": "[encoded data removed]"
          },
          "metadata": {
            "needs_background": "light"
          }
        },
        {
          "output_type": "stream",
          "name": "stdout",
          "text": [
            "[3 4 5]\n"
          ]
        }
      ]
    },
    {
      "cell_type": "code",
      "source": [],
      "metadata": {
        "id": "HAnWL8RQUV4N"
      },
      "execution_count": null,
      "outputs": []
    }
  ]
}