{
  "nbformat": 4,
  "nbformat_minor": 0,
  "metadata": {
    "colab": {
      "name": "ProgettoCariocaDlRun3SingValues.ipynb",
      "provenance": [],
      "machine_shape": "hm",
      "authorship_tag": "ABX9TyOFz1TznTEbMWUt9AD+O2Ns",
      "include_colab_link": true
    },
    "kernelspec": {
      "name": "python3",
      "display_name": "Python 3"
    },
    "language_info": {
      "name": "python"
    },
    "accelerator": "GPU"
  },
  "cells": [
    {
      "cell_type": "markdown",
      "metadata": {
        "id": "view-in-github",
        "colab_type": "text"
      },
      "source": [
        "<a href=\"https://colab.research.google.com/github/andreadosi1986/andreadosi/blob/master/ProgettoCariocaDlRun3SingValues.ipynb\" target=\"_parent\"><img src=\"https://colab.research.google.com/assets/colab-badge.svg\" alt=\"Open In Colab\"/></a>"
      ]
    },
    {
      "cell_type": "code",
      "execution_count": null,
      "metadata": {
        "colab": {
          "base_uri": "https://localhost:8080/"
        },
        "id": "WOuSt7EWGRWl",
        "outputId": "470844f5-1ad3-425d-9049-5a47f3a75b7f"
      },
      "outputs": [
        {
          "output_type": "stream",
          "name": "stdout",
          "text": [
            "Mounted at /content/drive\n"
          ]
        }
      ],
      "source": [
        "from google.colab import drive\n",
        "drive.mount('/content/drive', force_remount=True)"
      ]
    },
    {
      "cell_type": "code",
      "source": [
        "!pip install segmentation_models"
      ],
      "metadata": {
        "id": "BDrfZKr7SrJp"
      },
      "execution_count": null,
      "outputs": []
    },
    {
      "cell_type": "code",
      "source": [
        "gpu_info = !nvidia-smi\n",
        "gpu_info = '\\n'.join(gpu_info)\n",
        "if gpu_info.find('failed') >= 0:\n",
        "  print('Not connected to a GPU')\n",
        "else:\n",
        "  print(gpu_info)"
      ],
      "metadata": {
        "colab": {
          "base_uri": "https://localhost:8080/"
        },
        "id": "yr6tmKDya4hu",
        "outputId": "cc3d940c-c0ad-4775-9c8e-3dfdc7d64d48"
      },
      "execution_count": null,
      "outputs": [
        {
          "output_type": "stream",
          "name": "stdout",
          "text": [
            "Tue May 31 06:55:14 2022       \n",
            "+-----------------------------------------------------------------------------+\n",
            "| NVIDIA-SMI 460.32.03    Driver Version: 460.32.03    CUDA Version: 11.2     |\n",
            "|-------------------------------+----------------------+----------------------+\n",
            "| GPU  Name        Persistence-M| Bus-Id        Disp.A | Volatile Uncorr. ECC |\n",
            "| Fan  Temp  Perf  Pwr:Usage/Cap|         Memory-Usage | GPU-Util  Compute M. |\n",
            "|                               |                      |               MIG M. |\n",
            "|===============================+======================+======================|\n",
            "|   0  Tesla T4            Off  | 00000000:00:04.0 Off |                    0 |\n",
            "| N/A   32C    P8     9W /  70W |      0MiB / 15109MiB |      0%      Default |\n",
            "|                               |                      |                  N/A |\n",
            "+-------------------------------+----------------------+----------------------+\n",
            "                                                                               \n",
            "+-----------------------------------------------------------------------------+\n",
            "| Processes:                                                                  |\n",
            "|  GPU   GI   CI        PID   Type   Process name                  GPU Memory |\n",
            "|        ID   ID                                                   Usage      |\n",
            "|=============================================================================|\n",
            "|  No running processes found                                                 |\n",
            "+-----------------------------------------------------------------------------+\n"
          ]
        }
      ]
    },
    {
      "cell_type": "code",
      "source": [
        "import cv2\n",
        "import numpy as np\n",
        "import matplotlib\n",
        "import matplotlib.pyplot as plt\n",
        "import matplotlib.image as img\n",
        "import matplotlib.animation as animation\n",
        "from matplotlib import rc\n",
        "import skimage\n",
        "from skimage.measure import regionprops\n",
        "import random\n",
        "import pandas as pd\n",
        "from skimage import filters\n",
        "import tifffile as tiff\n",
        "import tensorflow as tf\n",
        "import keras\n",
        "import pickle"
      ],
      "metadata": {
        "id": "pRK-n7K9Gx0J"
      },
      "execution_count": null,
      "outputs": []
    },
    {
      "cell_type": "code",
      "source": [
        "### IMPORT TRAINING TEST SET AND CORRISPONDING LABELLING ####"
      ],
      "metadata": {
        "id": "Cqru6rVFG42Y"
      },
      "execution_count": null,
      "outputs": []
    },
    {
      "cell_type": "code",
      "source": [
        "X_train = np.load('/content/drive/MyDrive/datamining/prisma/Sardinia/X_train4classes3SingVal.npy')"
      ],
      "metadata": {
        "id": "95eCMIBxG46Y"
      },
      "execution_count": null,
      "outputs": []
    },
    {
      "cell_type": "code",
      "source": [
        "X_test = np.load('/content/drive/MyDrive/datamining/prisma/Sardinia/X_test4classes3SingVal.npy')\n",
        "y_train_cat = np.load('/content/drive/MyDrive/datamining/prisma/Sardinia/y_train_cat4classes3SingVal.npy')\n",
        "y_test_cat = np.load('/content/drive/MyDrive/datamining/prisma/Sardinia/y_test_cat4classes3SingVal.npy')"
      ],
      "metadata": {
        "id": "vBuVFe7dG49Q"
      },
      "execution_count": null,
      "outputs": []
    },
    {
      "cell_type": "code",
      "source": [
        "y_train = np.load('/content/drive/MyDrive/datamining/prisma/Sardinia/y_train4classes3SingVal.npy')\n",
        "y_test = np.load('/content/drive/MyDrive/datamining/prisma/Sardinia/y_test4classes3SingVal.npy')"
      ],
      "metadata": {
        "id": "tbVffVSmQaE_"
      },
      "execution_count": null,
      "outputs": []
    },
    {
      "cell_type": "code",
      "source": [
        "print(X_train.shape, X_test.shape, y_train_cat.shape, y_test_cat.shape)"
      ],
      "metadata": {
        "colab": {
          "base_uri": "https://localhost:8080/"
        },
        "id": "dQWwuV0sfFlz",
        "outputId": "38e8c33f-ad2f-409f-f0ec-49e33e9962bb"
      },
      "execution_count": null,
      "outputs": [
        {
          "output_type": "stream",
          "name": "stdout",
          "text": [
            "(4180, 128, 128, 3) (1046, 128, 128, 3) (4180, 128, 128, 4) (1046, 128, 128, 4)\n"
          ]
        }
      ]
    },
    {
      "cell_type": "code",
      "source": [
        "#class_weight_array = np.load('/content/drive/MyDrive/datamining/prisma/Sardinia/class_weight.npy')"
      ],
      "metadata": {
        "id": "ELPQ_Rit4vdC"
      },
      "execution_count": null,
      "outputs": []
    },
    {
      "cell_type": "code",
      "source": [
        "#print(class_weight_array)"
      ],
      "metadata": {
        "id": "bJLoUTC87Gor"
      },
      "execution_count": null,
      "outputs": []
    },
    {
      "cell_type": "code",
      "source": [
        "#classes = np.array([0,1,2,3,4,5])"
      ],
      "metadata": {
        "id": "ZE_yL0blHFAM"
      },
      "execution_count": null,
      "outputs": []
    },
    {
      "cell_type": "code",
      "source": [
        "#class_weight = {0:class_weight_array[0], 1:class_weight_array[1], 2:class_weight_array[2], 3:class_weight_array[3], 4:class_weight_array[4], 5:class_weight_array[5]}"
      ],
      "metadata": {
        "id": "lmPl5HHB5D7w"
      },
      "execution_count": null,
      "outputs": []
    },
    {
      "cell_type": "code",
      "source": [
        "#from tensorflow.python.keras.engine.training_utils_v1 import standardize_weights\n",
        "#standardize_weights(classes, class_weight=class_weight)"
      ],
      "metadata": {
        "id": "OkP3bwz7Bha0"
      },
      "execution_count": null,
      "outputs": []
    },
    {
      "cell_type": "code",
      "source": [
        "import segmentation_models as sm\n",
        "#class_weights = [0.1666, 0.1666, 0.1666, 0.1666, 0.1666, 0.1666]\n",
        "#dice_loss = sm.losses.DiceLoss(class_weights=class_weight_array) \n",
        "focal_loss = sm.losses.CategoricalFocalLoss()\n",
        "#total_loss = dice_loss + (1 * focal_loss)\n",
        "#jaccard_loss = sm.losses.bce_jaccard_loss(class_weights=class_weight_array)"
      ],
      "metadata": {
        "id": "j-ns_v7xSlRr",
        "colab": {
          "base_uri": "https://localhost:8080/"
        },
        "outputId": "a917b159-0ebe-4dc5-f394-e7d5d459bcf3"
      },
      "execution_count": null,
      "outputs": [
        {
          "output_type": "stream",
          "name": "stdout",
          "text": [
            "Segmentation Models: using `keras` framework.\n"
          ]
        }
      ]
    },
    {
      "cell_type": "code",
      "source": [
        "################################################################ U-NET BUILD ###########################################\n",
        "\n",
        "from keras.models import Model\n",
        "from keras.layers import Input, Conv2D, MaxPooling2D, UpSampling2D, concatenate, Conv2DTranspose, BatchNormalization, Dropout, Lambda\n",
        "\n",
        "def multi_unet_model(n_classes, IMG_HEIGHT, IMG_WIDTH, IMG_CHANNELS):\n",
        "#Build the model\n",
        "    inputs = Input((IMG_HEIGHT, IMG_WIDTH, IMG_CHANNELS))\n",
        "    #s = Lambda(lambda x: x / 255)(inputs)   #No need for this if we normalize our inputs beforehand\n",
        "    s = inputs\n",
        "\n",
        "    #Contraction path\n",
        "    c1 = Conv2D(16, (3, 3), activation='relu', kernel_initializer='he_normal', padding='same')(s)\n",
        "    c1 = Dropout(0.1)(c1)\n",
        "    c1 = Conv2D(16, (3, 3), activation='relu', kernel_initializer='he_normal', padding='same')(c1)\n",
        "    p1 = MaxPooling2D((2, 2))(c1)\n",
        "    \n",
        "    c2 = Conv2D(32, (3, 3), activation='relu', kernel_initializer='he_normal', padding='same')(p1)\n",
        "    c2 = Dropout(0.1)(c2)\n",
        "    c2 = Conv2D(32, (3, 3), activation='relu', kernel_initializer='he_normal', padding='same')(c2)\n",
        "    p2 = MaxPooling2D((2, 2))(c2)\n",
        "     \n",
        "    c3 = Conv2D(64, (3, 3), activation='relu', kernel_initializer='he_normal', padding='same')(p2)\n",
        "    c3 = Dropout(0.2)(c3)\n",
        "    c3 = Conv2D(64, (3, 3), activation='relu', kernel_initializer='he_normal', padding='same')(c3)\n",
        "    p3 = MaxPooling2D((2, 2))(c3)\n",
        "     \n",
        "    c4 = Conv2D(128, (3, 3), activation='relu', kernel_initializer='he_normal', padding='same')(p3)\n",
        "    c4 = Dropout(0.2)(c4)\n",
        "    c4 = Conv2D(128, (3, 3), activation='relu', kernel_initializer='he_normal', padding='same')(c4)\n",
        "    p4 = MaxPooling2D(pool_size=(2, 2))(c4)\n",
        "     \n",
        "    c5 = Conv2D(256, (3, 3), activation='relu', kernel_initializer='he_normal', padding='same')(p4)\n",
        "    c5 = Dropout(0.3)(c5)\n",
        "    c5 = Conv2D(256, (3, 3), activation='relu', kernel_initializer='he_normal', padding='same')(c5)\n",
        "    \n",
        "    #Expansive path \n",
        "    u6 = Conv2DTranspose(128, (2, 2), strides=(2, 2), padding='same')(c5)\n",
        "    u6 = concatenate([u6, c4])\n",
        "    c6 = Conv2D(128, (3, 3), activation='relu', kernel_initializer='he_normal', padding='same')(u6)\n",
        "    c6 = Dropout(0.2)(c6)\n",
        "    c6 = Conv2D(128, (3, 3), activation='relu', kernel_initializer='he_normal', padding='same')(c6)\n",
        "     \n",
        "    u7 = Conv2DTranspose(64, (2, 2), strides=(2, 2), padding='same')(c6)\n",
        "    u7 = concatenate([u7, c3])\n",
        "    c7 = Conv2D(64, (3, 3), activation='relu', kernel_initializer='he_normal', padding='same')(u7)\n",
        "    c7 = Dropout(0.2)(c7)\n",
        "    c7 = Conv2D(64, (3, 3), activation='relu', kernel_initializer='he_normal', padding='same')(c7)\n",
        "     \n",
        "    u8 = Conv2DTranspose(32, (2, 2), strides=(2, 2), padding='same')(c7)\n",
        "    u8 = concatenate([u8, c2])\n",
        "    c8 = Conv2D(32, (3, 3), activation='relu', kernel_initializer='he_normal', padding='same')(u8)\n",
        "    c8 = Dropout(0.1)(c8)\n",
        "    c8 = Conv2D(32, (3, 3), activation='relu', kernel_initializer='he_normal', padding='same')(c8)\n",
        "     \n",
        "    u9 = Conv2DTranspose(16, (2, 2), strides=(2, 2), padding='same')(c8)\n",
        "    u9 = concatenate([u9, c1], axis=3)\n",
        "    c9 = Conv2D(16, (3, 3), activation='relu', kernel_initializer='he_normal', padding='same')(u9)\n",
        "    c9 = Dropout(0.1)(c9)\n",
        "    c9 = Conv2D(16, (3, 3), activation='relu', kernel_initializer='he_normal', padding='same')(c9)\n",
        "     \n",
        "    outputs = Conv2D(n_classes, (1, 1), activation='softmax')(c9)\n",
        "     \n",
        "    model = Model(inputs=[inputs], outputs=[outputs])\n",
        "    \n",
        "    #NOTE: Compile the model in the main program to make it easy to test with various loss functions\n",
        "    #model.compile(optimizer='adam', loss='binary_crossentropy', metrics=['accuracy'])\n",
        "    \n",
        "    #model.summary()\n",
        "    \n",
        "    return model"
      ],
      "metadata": {
        "id": "0TfbeH4LG4_q"
      },
      "execution_count": null,
      "outputs": []
    },
    {
      "cell_type": "code",
      "source": [
        "IMG_HEIGHT = X_train.shape[1]\n",
        "IMG_WIDTH  = X_train.shape[2]\n",
        "IMG_CHANNELS = X_train.shape[3]\n",
        "n_classes=4"
      ],
      "metadata": {
        "id": "1j_z_QSlG5EQ"
      },
      "execution_count": null,
      "outputs": []
    },
    {
      "cell_type": "code",
      "source": [
        "#total_loss= weightedLoss(keras.losses.categorical_crossentropy, class_weights)\n",
        "#model = multi_unet_model(n_classes, IMG_HEIGHT, IMG_WIDTH, IMG_CHANNELS)\n",
        "#model.compile(optimizer='adam', loss= 'categorical_crossentropy', metrics = ['accuracy'])\n",
        "#model.summary()"
      ],
      "metadata": {
        "id": "vIPPShaHJ5t0"
      },
      "execution_count": null,
      "outputs": []
    },
    {
      "cell_type": "code",
      "source": [
        "#total_loss= weightedLoss(keras.losses.categorical_crossentropy, class_weights)\n",
        "model = multi_unet_model(n_classes, IMG_HEIGHT, IMG_WIDTH, IMG_CHANNELS)\n",
        "model.compile(optimizer='adam', loss= focal_loss, metrics = ['accuracy'])\n",
        "model.summary()"
      ],
      "metadata": {
        "colab": {
          "base_uri": "https://localhost:8080/"
        },
        "id": "xTVteiUlTorW",
        "outputId": "72ab4931-9e71-4f99-c190-f4312b6cdba9"
      },
      "execution_count": null,
      "outputs": [
        {
          "output_type": "stream",
          "name": "stdout",
          "text": [
            "Model: \"model\"\n",
            "__________________________________________________________________________________________________\n",
            " Layer (type)                   Output Shape         Param #     Connected to                     \n",
            "==================================================================================================\n",
            " input_1 (InputLayer)           [(None, 128, 128, 3  0           []                               \n",
            "                                )]                                                                \n",
            "                                                                                                  \n",
            " conv2d (Conv2D)                (None, 128, 128, 16  448         ['input_1[0][0]']                \n",
            "                                )                                                                 \n",
            "                                                                                                  \n",
            " dropout (Dropout)              (None, 128, 128, 16  0           ['conv2d[0][0]']                 \n",
            "                                )                                                                 \n",
            "                                                                                                  \n",
            " conv2d_1 (Conv2D)              (None, 128, 128, 16  2320        ['dropout[0][0]']                \n",
            "                                )                                                                 \n",
            "                                                                                                  \n",
            " max_pooling2d (MaxPooling2D)   (None, 64, 64, 16)   0           ['conv2d_1[0][0]']               \n",
            "                                                                                                  \n",
            " conv2d_2 (Conv2D)              (None, 64, 64, 32)   4640        ['max_pooling2d[0][0]']          \n",
            "                                                                                                  \n",
            " dropout_1 (Dropout)            (None, 64, 64, 32)   0           ['conv2d_2[0][0]']               \n",
            "                                                                                                  \n",
            " conv2d_3 (Conv2D)              (None, 64, 64, 32)   9248        ['dropout_1[0][0]']              \n",
            "                                                                                                  \n",
            " max_pooling2d_1 (MaxPooling2D)  (None, 32, 32, 32)  0           ['conv2d_3[0][0]']               \n",
            "                                                                                                  \n",
            " conv2d_4 (Conv2D)              (None, 32, 32, 64)   18496       ['max_pooling2d_1[0][0]']        \n",
            "                                                                                                  \n",
            " dropout_2 (Dropout)            (None, 32, 32, 64)   0           ['conv2d_4[0][0]']               \n",
            "                                                                                                  \n",
            " conv2d_5 (Conv2D)              (None, 32, 32, 64)   36928       ['dropout_2[0][0]']              \n",
            "                                                                                                  \n",
            " max_pooling2d_2 (MaxPooling2D)  (None, 16, 16, 64)  0           ['conv2d_5[0][0]']               \n",
            "                                                                                                  \n",
            " conv2d_6 (Conv2D)              (None, 16, 16, 128)  73856       ['max_pooling2d_2[0][0]']        \n",
            "                                                                                                  \n",
            " dropout_3 (Dropout)            (None, 16, 16, 128)  0           ['conv2d_6[0][0]']               \n",
            "                                                                                                  \n",
            " conv2d_7 (Conv2D)              (None, 16, 16, 128)  147584      ['dropout_3[0][0]']              \n",
            "                                                                                                  \n",
            " max_pooling2d_3 (MaxPooling2D)  (None, 8, 8, 128)   0           ['conv2d_7[0][0]']               \n",
            "                                                                                                  \n",
            " conv2d_8 (Conv2D)              (None, 8, 8, 256)    295168      ['max_pooling2d_3[0][0]']        \n",
            "                                                                                                  \n",
            " dropout_4 (Dropout)            (None, 8, 8, 256)    0           ['conv2d_8[0][0]']               \n",
            "                                                                                                  \n",
            " conv2d_9 (Conv2D)              (None, 8, 8, 256)    590080      ['dropout_4[0][0]']              \n",
            "                                                                                                  \n",
            " conv2d_transpose (Conv2DTransp  (None, 16, 16, 128)  131200     ['conv2d_9[0][0]']               \n",
            " ose)                                                                                             \n",
            "                                                                                                  \n",
            " concatenate (Concatenate)      (None, 16, 16, 256)  0           ['conv2d_transpose[0][0]',       \n",
            "                                                                  'conv2d_7[0][0]']               \n",
            "                                                                                                  \n",
            " conv2d_10 (Conv2D)             (None, 16, 16, 128)  295040      ['concatenate[0][0]']            \n",
            "                                                                                                  \n",
            " dropout_5 (Dropout)            (None, 16, 16, 128)  0           ['conv2d_10[0][0]']              \n",
            "                                                                                                  \n",
            " conv2d_11 (Conv2D)             (None, 16, 16, 128)  147584      ['dropout_5[0][0]']              \n",
            "                                                                                                  \n",
            " conv2d_transpose_1 (Conv2DTran  (None, 32, 32, 64)  32832       ['conv2d_11[0][0]']              \n",
            " spose)                                                                                           \n",
            "                                                                                                  \n",
            " concatenate_1 (Concatenate)    (None, 32, 32, 128)  0           ['conv2d_transpose_1[0][0]',     \n",
            "                                                                  'conv2d_5[0][0]']               \n",
            "                                                                                                  \n",
            " conv2d_12 (Conv2D)             (None, 32, 32, 64)   73792       ['concatenate_1[0][0]']          \n",
            "                                                                                                  \n",
            " dropout_6 (Dropout)            (None, 32, 32, 64)   0           ['conv2d_12[0][0]']              \n",
            "                                                                                                  \n",
            " conv2d_13 (Conv2D)             (None, 32, 32, 64)   36928       ['dropout_6[0][0]']              \n",
            "                                                                                                  \n",
            " conv2d_transpose_2 (Conv2DTran  (None, 64, 64, 32)  8224        ['conv2d_13[0][0]']              \n",
            " spose)                                                                                           \n",
            "                                                                                                  \n",
            " concatenate_2 (Concatenate)    (None, 64, 64, 64)   0           ['conv2d_transpose_2[0][0]',     \n",
            "                                                                  'conv2d_3[0][0]']               \n",
            "                                                                                                  \n",
            " conv2d_14 (Conv2D)             (None, 64, 64, 32)   18464       ['concatenate_2[0][0]']          \n",
            "                                                                                                  \n",
            " dropout_7 (Dropout)            (None, 64, 64, 32)   0           ['conv2d_14[0][0]']              \n",
            "                                                                                                  \n",
            " conv2d_15 (Conv2D)             (None, 64, 64, 32)   9248        ['dropout_7[0][0]']              \n",
            "                                                                                                  \n",
            " conv2d_transpose_3 (Conv2DTran  (None, 128, 128, 16  2064       ['conv2d_15[0][0]']              \n",
            " spose)                         )                                                                 \n",
            "                                                                                                  \n",
            " concatenate_3 (Concatenate)    (None, 128, 128, 32  0           ['conv2d_transpose_3[0][0]',     \n",
            "                                )                                 'conv2d_1[0][0]']               \n",
            "                                                                                                  \n",
            " conv2d_16 (Conv2D)             (None, 128, 128, 16  4624        ['concatenate_3[0][0]']          \n",
            "                                )                                                                 \n",
            "                                                                                                  \n",
            " dropout_8 (Dropout)            (None, 128, 128, 16  0           ['conv2d_16[0][0]']              \n",
            "                                )                                                                 \n",
            "                                                                                                  \n",
            " conv2d_17 (Conv2D)             (None, 128, 128, 16  2320        ['dropout_8[0][0]']              \n",
            "                                )                                                                 \n",
            "                                                                                                  \n",
            " conv2d_18 (Conv2D)             (None, 128, 128, 4)  68          ['conv2d_17[0][0]']              \n",
            "                                                                                                  \n",
            "==================================================================================================\n",
            "Total params: 1,941,156\n",
            "Trainable params: 1,941,156\n",
            "Non-trainable params: 0\n",
            "__________________________________________________________________________________________________\n"
          ]
        }
      ]
    },
    {
      "cell_type": "code",
      "source": [
        "import time\n",
        "start = time.time()\n",
        "\n",
        "history = model.fit(X_train, y_train_cat, \n",
        "                    batch_size = 16, \n",
        "                    verbose=1, \n",
        "                    epochs=200, \n",
        "                    validation_data=(X_test, y_test_cat), \n",
        "                    #sample_weight=class_weight_array,\n",
        "                    shuffle=False)\n",
        "\n",
        "print(\"Total model fit time: \", time.time() - start, \"seconds\")"
      ],
      "metadata": {
        "colab": {
          "base_uri": "https://localhost:8080/"
        },
        "id": "v1ajrWx5KLrM",
        "outputId": "5b6be081-3112-49f8-8284-4735b1af8b71"
      },
      "execution_count": null,
      "outputs": [
        {
          "output_type": "stream",
          "name": "stdout",
          "text": [
            "Epoch 1/200\n",
            "262/262 [==============================] - 27s 52ms/step - loss: 0.0127 - accuracy: 0.8399 - val_loss: 0.0085 - val_accuracy: 0.8833\n",
            "Epoch 2/200\n",
            "262/262 [==============================] - 12s 44ms/step - loss: 0.0057 - accuracy: 0.9012 - val_loss: 0.0044 - val_accuracy: 0.9152\n",
            "Epoch 3/200\n",
            "262/262 [==============================] - 12s 45ms/step - loss: 0.0034 - accuracy: 0.9309 - val_loss: 0.0036 - val_accuracy: 0.9307\n",
            "Epoch 4/200\n",
            "262/262 [==============================] - 12s 44ms/step - loss: 0.0023 - accuracy: 0.9494 - val_loss: 0.0021 - val_accuracy: 0.9521\n",
            "Epoch 5/200\n",
            "262/262 [==============================] - 12s 45ms/step - loss: 0.0018 - accuracy: 0.9580 - val_loss: 0.0019 - val_accuracy: 0.9568\n",
            "Epoch 6/200\n",
            "262/262 [==============================] - 12s 45ms/step - loss: 0.0016 - accuracy: 0.9634 - val_loss: 0.0019 - val_accuracy: 0.9590\n",
            "Epoch 7/200\n",
            "262/262 [==============================] - 12s 45ms/step - loss: 0.0014 - accuracy: 0.9665 - val_loss: 0.0015 - val_accuracy: 0.9646\n",
            "Epoch 8/200\n",
            "262/262 [==============================] - 12s 45ms/step - loss: 0.0014 - accuracy: 0.9673 - val_loss: 0.0012 - val_accuracy: 0.9707\n",
            "Epoch 9/200\n",
            "262/262 [==============================] - 12s 45ms/step - loss: 0.0012 - accuracy: 0.9707 - val_loss: 0.0012 - val_accuracy: 0.9720\n",
            "Epoch 10/200\n",
            "262/262 [==============================] - 12s 45ms/step - loss: 0.0011 - accuracy: 0.9719 - val_loss: 0.0012 - val_accuracy: 0.9721\n",
            "Epoch 11/200\n",
            "262/262 [==============================] - 12s 46ms/step - loss: 0.0011 - accuracy: 0.9727 - val_loss: 0.0010 - val_accuracy: 0.9744\n",
            "Epoch 12/200\n",
            "262/262 [==============================] - 12s 46ms/step - loss: 9.9378e-04 - accuracy: 0.9750 - val_loss: 0.0010 - val_accuracy: 0.9750\n",
            "Epoch 13/200\n",
            "262/262 [==============================] - 12s 46ms/step - loss: 9.8166e-04 - accuracy: 0.9753 - val_loss: 9.3066e-04 - val_accuracy: 0.9776\n",
            "Epoch 14/200\n",
            "262/262 [==============================] - 12s 46ms/step - loss: 9.1352e-04 - accuracy: 0.9767 - val_loss: 9.0783e-04 - val_accuracy: 0.9782\n",
            "Epoch 15/200\n",
            "262/262 [==============================] - 12s 46ms/step - loss: 0.0013 - accuracy: 0.9711 - val_loss: 0.0011 - val_accuracy: 0.9734\n",
            "Epoch 16/200\n",
            "262/262 [==============================] - 12s 46ms/step - loss: 9.7729e-04 - accuracy: 0.9757 - val_loss: 9.3960e-04 - val_accuracy: 0.9774\n",
            "Epoch 17/200\n",
            "262/262 [==============================] - 12s 46ms/step - loss: 8.5210e-04 - accuracy: 0.9782 - val_loss: 8.4114e-04 - val_accuracy: 0.9798\n",
            "Epoch 18/200\n",
            "262/262 [==============================] - 12s 46ms/step - loss: 8.5331e-04 - accuracy: 0.9782 - val_loss: 8.9697e-04 - val_accuracy: 0.9783\n",
            "Epoch 19/200\n",
            "262/262 [==============================] - 12s 46ms/step - loss: 8.2687e-04 - accuracy: 0.9789 - val_loss: 8.1682e-04 - val_accuracy: 0.9806\n",
            "Epoch 20/200\n",
            "262/262 [==============================] - 12s 46ms/step - loss: 8.1014e-04 - accuracy: 0.9792 - val_loss: 7.9441e-04 - val_accuracy: 0.9809\n",
            "Epoch 21/200\n",
            "262/262 [==============================] - 12s 46ms/step - loss: 0.0020 - accuracy: 0.9611 - val_loss: 0.0028 - val_accuracy: 0.9457\n",
            "Epoch 22/200\n",
            "262/262 [==============================] - 12s 46ms/step - loss: 0.0016 - accuracy: 0.9647 - val_loss: 0.0010 - val_accuracy: 0.9759\n",
            "Epoch 23/200\n",
            "262/262 [==============================] - 12s 46ms/step - loss: 0.0011 - accuracy: 0.9739 - val_loss: 8.9866e-04 - val_accuracy: 0.9784\n",
            "Epoch 24/200\n",
            "262/262 [==============================] - 12s 46ms/step - loss: 8.8142e-04 - accuracy: 0.9777 - val_loss: 8.3710e-04 - val_accuracy: 0.9803\n",
            "Epoch 25/200\n",
            "262/262 [==============================] - 12s 46ms/step - loss: 8.1399e-04 - accuracy: 0.9792 - val_loss: 8.2451e-04 - val_accuracy: 0.9808\n",
            "Epoch 26/200\n",
            "262/262 [==============================] - 12s 47ms/step - loss: 7.9646e-04 - accuracy: 0.9796 - val_loss: 7.9023e-04 - val_accuracy: 0.9814\n",
            "Epoch 27/200\n",
            "262/262 [==============================] - 12s 46ms/step - loss: 0.0021 - accuracy: 0.9603 - val_loss: 0.0014 - val_accuracy: 0.9678\n",
            "Epoch 28/200\n",
            "262/262 [==============================] - 12s 47ms/step - loss: 0.0011 - accuracy: 0.9731 - val_loss: 8.9827e-04 - val_accuracy: 0.9787\n",
            "Epoch 29/200\n",
            "262/262 [==============================] - 12s 47ms/step - loss: 8.7579e-04 - accuracy: 0.9779 - val_loss: 8.2783e-04 - val_accuracy: 0.9806\n",
            "Epoch 30/200\n",
            "262/262 [==============================] - 12s 47ms/step - loss: 8.0606e-04 - accuracy: 0.9794 - val_loss: 7.7301e-04 - val_accuracy: 0.9817\n",
            "Epoch 31/200\n",
            "262/262 [==============================] - 12s 47ms/step - loss: 7.6556e-04 - accuracy: 0.9803 - val_loss: 7.2898e-04 - val_accuracy: 0.9826\n",
            "Epoch 32/200\n",
            "262/262 [==============================] - 12s 47ms/step - loss: 7.3577e-04 - accuracy: 0.9810 - val_loss: 7.3572e-04 - val_accuracy: 0.9826\n",
            "Epoch 33/200\n",
            "262/262 [==============================] - 12s 47ms/step - loss: 7.1819e-04 - accuracy: 0.9814 - val_loss: 7.2666e-04 - val_accuracy: 0.9830\n",
            "Epoch 34/200\n",
            "262/262 [==============================] - 12s 47ms/step - loss: 6.9795e-04 - accuracy: 0.9819 - val_loss: 6.9827e-04 - val_accuracy: 0.9837\n",
            "Epoch 35/200\n",
            "262/262 [==============================] - 12s 47ms/step - loss: 6.9315e-04 - accuracy: 0.9820 - val_loss: 6.9517e-04 - val_accuracy: 0.9839\n",
            "Epoch 36/200\n",
            "262/262 [==============================] - 12s 47ms/step - loss: 6.9941e-04 - accuracy: 0.9819 - val_loss: 7.4359e-04 - val_accuracy: 0.9826\n",
            "Epoch 37/200\n",
            "262/262 [==============================] - 12s 47ms/step - loss: 6.9323e-04 - accuracy: 0.9821 - val_loss: 6.7879e-04 - val_accuracy: 0.9840\n",
            "Epoch 38/200\n",
            "262/262 [==============================] - 12s 47ms/step - loss: 6.6006e-04 - accuracy: 0.9828 - val_loss: 6.7521e-04 - val_accuracy: 0.9843\n",
            "Epoch 39/200\n",
            "262/262 [==============================] - 12s 47ms/step - loss: 6.5741e-04 - accuracy: 0.9829 - val_loss: 6.5817e-04 - val_accuracy: 0.9849\n",
            "Epoch 40/200\n",
            "262/262 [==============================] - 12s 47ms/step - loss: 6.4501e-04 - accuracy: 0.9832 - val_loss: 6.6045e-04 - val_accuracy: 0.9852\n",
            "Epoch 41/200\n",
            "262/262 [==============================] - 12s 47ms/step - loss: 6.3750e-04 - accuracy: 0.9834 - val_loss: 6.5225e-04 - val_accuracy: 0.9850\n",
            "Epoch 42/200\n",
            "262/262 [==============================] - 12s 47ms/step - loss: 6.4232e-04 - accuracy: 0.9833 - val_loss: 6.5820e-04 - val_accuracy: 0.9850\n",
            "Epoch 43/200\n",
            "262/262 [==============================] - 12s 47ms/step - loss: 0.0011 - accuracy: 0.9754 - val_loss: 7.2856e-04 - val_accuracy: 0.9828\n",
            "Epoch 44/200\n",
            "262/262 [==============================] - 12s 47ms/step - loss: 7.1454e-04 - accuracy: 0.9819 - val_loss: 6.8838e-04 - val_accuracy: 0.9838\n",
            "Epoch 45/200\n",
            "262/262 [==============================] - 12s 47ms/step - loss: 6.4226e-04 - accuracy: 0.9833 - val_loss: 6.2672e-04 - val_accuracy: 0.9853\n",
            "Epoch 46/200\n",
            "262/262 [==============================] - 12s 47ms/step - loss: 6.1198e-04 - accuracy: 0.9841 - val_loss: 6.0343e-04 - val_accuracy: 0.9860\n",
            "Epoch 47/200\n",
            "262/262 [==============================] - 12s 47ms/step - loss: 5.9555e-04 - accuracy: 0.9845 - val_loss: 6.0736e-04 - val_accuracy: 0.9861\n",
            "Epoch 48/200\n",
            "262/262 [==============================] - 12s 47ms/step - loss: 5.9175e-04 - accuracy: 0.9846 - val_loss: 5.8176e-04 - val_accuracy: 0.9865\n",
            "Epoch 49/200\n",
            "262/262 [==============================] - 12s 47ms/step - loss: 5.8881e-04 - accuracy: 0.9847 - val_loss: 5.9096e-04 - val_accuracy: 0.9864\n",
            "Epoch 50/200\n",
            "262/262 [==============================] - 12s 47ms/step - loss: 0.0011 - accuracy: 0.9758 - val_loss: 6.7215e-04 - val_accuracy: 0.9845\n",
            "Epoch 51/200\n",
            "262/262 [==============================] - 12s 47ms/step - loss: 6.4095e-04 - accuracy: 0.9836 - val_loss: 6.0677e-04 - val_accuracy: 0.9860\n",
            "Epoch 52/200\n",
            "262/262 [==============================] - 12s 47ms/step - loss: 5.9847e-04 - accuracy: 0.9845 - val_loss: 5.8559e-04 - val_accuracy: 0.9867\n",
            "Epoch 53/200\n",
            "262/262 [==============================] - 12s 47ms/step - loss: 5.8132e-04 - accuracy: 0.9849 - val_loss: 5.6917e-04 - val_accuracy: 0.9869\n",
            "Epoch 54/200\n",
            "262/262 [==============================] - 12s 47ms/step - loss: 5.6565e-04 - accuracy: 0.9853 - val_loss: 5.7259e-04 - val_accuracy: 0.9872\n",
            "Epoch 55/200\n",
            "262/262 [==============================] - 12s 47ms/step - loss: 5.5921e-04 - accuracy: 0.9854 - val_loss: 5.6875e-04 - val_accuracy: 0.9872\n",
            "Epoch 56/200\n",
            "262/262 [==============================] - 12s 47ms/step - loss: 5.5230e-04 - accuracy: 0.9856 - val_loss: 5.4372e-04 - val_accuracy: 0.9878\n",
            "Epoch 57/200\n",
            "262/262 [==============================] - 12s 47ms/step - loss: 5.4483e-04 - accuracy: 0.9858 - val_loss: 5.5131e-04 - val_accuracy: 0.9878\n",
            "Epoch 58/200\n",
            "262/262 [==============================] - 12s 47ms/step - loss: 5.4108e-04 - accuracy: 0.9859 - val_loss: 5.6228e-04 - val_accuracy: 0.9876\n",
            "Epoch 59/200\n",
            "262/262 [==============================] - 12s 47ms/step - loss: 5.3729e-04 - accuracy: 0.9860 - val_loss: 5.6538e-04 - val_accuracy: 0.9876\n",
            "Epoch 60/200\n",
            "262/262 [==============================] - 12s 47ms/step - loss: 5.3586e-04 - accuracy: 0.9861 - val_loss: 5.4400e-04 - val_accuracy: 0.9879\n",
            "Epoch 61/200\n",
            "262/262 [==============================] - 12s 47ms/step - loss: 5.2941e-04 - accuracy: 0.9863 - val_loss: 5.6706e-04 - val_accuracy: 0.9879\n",
            "Epoch 62/200\n",
            "262/262 [==============================] - 12s 47ms/step - loss: 5.3399e-04 - accuracy: 0.9862 - val_loss: 6.1838e-04 - val_accuracy: 0.9867\n",
            "Epoch 63/200\n",
            "262/262 [==============================] - 12s 47ms/step - loss: 5.6080e-04 - accuracy: 0.9856 - val_loss: 5.6605e-04 - val_accuracy: 0.9876\n",
            "Epoch 64/200\n",
            "262/262 [==============================] - 12s 47ms/step - loss: 0.0010 - accuracy: 0.9770 - val_loss: 8.3949e-04 - val_accuracy: 0.9812\n",
            "Epoch 65/200\n",
            "262/262 [==============================] - 12s 47ms/step - loss: 6.6548e-04 - accuracy: 0.9833 - val_loss: 5.6146e-04 - val_accuracy: 0.9871\n",
            "Epoch 66/200\n",
            "262/262 [==============================] - 12s 47ms/step - loss: 5.5906e-04 - accuracy: 0.9856 - val_loss: 5.3399e-04 - val_accuracy: 0.9879\n",
            "Epoch 67/200\n",
            "262/262 [==============================] - 12s 47ms/step - loss: 5.3248e-04 - accuracy: 0.9862 - val_loss: 5.2359e-04 - val_accuracy: 0.9880\n",
            "Epoch 68/200\n",
            "262/262 [==============================] - 12s 47ms/step - loss: 5.2020e-04 - accuracy: 0.9865 - val_loss: 5.0536e-04 - val_accuracy: 0.9885\n",
            "Epoch 69/200\n",
            "262/262 [==============================] - 12s 47ms/step - loss: 5.1479e-04 - accuracy: 0.9867 - val_loss: 5.1100e-04 - val_accuracy: 0.9887\n",
            "Epoch 70/200\n",
            "262/262 [==============================] - 12s 47ms/step - loss: 5.0539e-04 - accuracy: 0.9869 - val_loss: 5.1107e-04 - val_accuracy: 0.9888\n",
            "Epoch 71/200\n",
            "262/262 [==============================] - 12s 47ms/step - loss: 4.9696e-04 - accuracy: 0.9871 - val_loss: 5.1849e-04 - val_accuracy: 0.9888\n",
            "Epoch 72/200\n",
            "262/262 [==============================] - 12s 47ms/step - loss: 4.9863e-04 - accuracy: 0.9871 - val_loss: 5.0528e-04 - val_accuracy: 0.9888\n",
            "Epoch 73/200\n",
            "262/262 [==============================] - 12s 47ms/step - loss: 4.9749e-04 - accuracy: 0.9871 - val_loss: 5.0601e-04 - val_accuracy: 0.9890\n",
            "Epoch 74/200\n",
            "262/262 [==============================] - 12s 47ms/step - loss: 5.2174e-04 - accuracy: 0.9866 - val_loss: 5.1897e-04 - val_accuracy: 0.9887\n",
            "Epoch 75/200\n",
            "262/262 [==============================] - 12s 47ms/step - loss: 0.0013 - accuracy: 0.9731 - val_loss: 0.0013 - val_accuracy: 0.9720\n",
            "Epoch 76/200\n",
            "262/262 [==============================] - 12s 47ms/step - loss: 8.5472e-04 - accuracy: 0.9795 - val_loss: 6.1284e-04 - val_accuracy: 0.9858\n",
            "Epoch 77/200\n",
            "262/262 [==============================] - 12s 47ms/step - loss: 6.0182e-04 - accuracy: 0.9847 - val_loss: 5.4935e-04 - val_accuracy: 0.9876\n",
            "Epoch 78/200\n",
            "262/262 [==============================] - 12s 47ms/step - loss: 5.4754e-04 - accuracy: 0.9860 - val_loss: 5.1742e-04 - val_accuracy: 0.9883\n",
            "Epoch 79/200\n",
            "262/262 [==============================] - 12s 47ms/step - loss: 5.1859e-04 - accuracy: 0.9866 - val_loss: 5.0405e-04 - val_accuracy: 0.9888\n",
            "Epoch 80/200\n",
            "262/262 [==============================] - 12s 47ms/step - loss: 5.0341e-04 - accuracy: 0.9870 - val_loss: 5.0468e-04 - val_accuracy: 0.9891\n",
            "Epoch 81/200\n",
            "262/262 [==============================] - 12s 47ms/step - loss: 4.9136e-04 - accuracy: 0.9873 - val_loss: 4.9792e-04 - val_accuracy: 0.9892\n",
            "Epoch 82/200\n",
            "262/262 [==============================] - 12s 47ms/step - loss: 4.8244e-04 - accuracy: 0.9875 - val_loss: 4.9863e-04 - val_accuracy: 0.9894\n",
            "Epoch 83/200\n",
            "262/262 [==============================] - 12s 47ms/step - loss: 4.7830e-04 - accuracy: 0.9876 - val_loss: 4.9769e-04 - val_accuracy: 0.9895\n",
            "Epoch 84/200\n",
            "262/262 [==============================] - 12s 47ms/step - loss: 4.7112e-04 - accuracy: 0.9878 - val_loss: 4.8671e-04 - val_accuracy: 0.9897\n",
            "Epoch 85/200\n",
            "262/262 [==============================] - 12s 47ms/step - loss: 5.2551e-04 - accuracy: 0.9866 - val_loss: 4.8900e-04 - val_accuracy: 0.9890\n",
            "Epoch 86/200\n",
            "262/262 [==============================] - 12s 47ms/step - loss: 4.7837e-04 - accuracy: 0.9876 - val_loss: 4.8085e-04 - val_accuracy: 0.9897\n",
            "Epoch 87/200\n",
            "262/262 [==============================] - 12s 47ms/step - loss: 4.6682e-04 - accuracy: 0.9879 - val_loss: 4.8567e-04 - val_accuracy: 0.9896\n",
            "Epoch 88/200\n",
            "262/262 [==============================] - 12s 47ms/step - loss: 4.6252e-04 - accuracy: 0.9880 - val_loss: 4.8822e-04 - val_accuracy: 0.9896\n",
            "Epoch 89/200\n",
            "262/262 [==============================] - 12s 47ms/step - loss: 4.5695e-04 - accuracy: 0.9882 - val_loss: 4.7085e-04 - val_accuracy: 0.9901\n",
            "Epoch 90/200\n",
            "262/262 [==============================] - 12s 47ms/step - loss: 4.5830e-04 - accuracy: 0.9882 - val_loss: 4.7741e-04 - val_accuracy: 0.9900\n",
            "Epoch 91/200\n",
            "262/262 [==============================] - 12s 47ms/step - loss: 4.5689e-04 - accuracy: 0.9882 - val_loss: 5.2406e-04 - val_accuracy: 0.9894\n",
            "Epoch 92/200\n",
            "262/262 [==============================] - 12s 47ms/step - loss: 4.5545e-04 - accuracy: 0.9882 - val_loss: 4.7309e-04 - val_accuracy: 0.9899\n",
            "Epoch 93/200\n",
            "262/262 [==============================] - 12s 47ms/step - loss: 0.0012 - accuracy: 0.9748 - val_loss: 6.1576e-04 - val_accuracy: 0.9859\n",
            "Epoch 94/200\n",
            "262/262 [==============================] - 12s 47ms/step - loss: 5.7562e-04 - accuracy: 0.9855 - val_loss: 5.1225e-04 - val_accuracy: 0.9884\n",
            "Epoch 95/200\n",
            "262/262 [==============================] - 12s 47ms/step - loss: 5.1093e-04 - accuracy: 0.9870 - val_loss: 4.8874e-04 - val_accuracy: 0.9893\n",
            "Epoch 96/200\n",
            "262/262 [==============================] - 12s 47ms/step - loss: 4.8298e-04 - accuracy: 0.9876 - val_loss: 4.8279e-04 - val_accuracy: 0.9897\n",
            "Epoch 97/200\n",
            "262/262 [==============================] - 12s 47ms/step - loss: 4.7751e-04 - accuracy: 0.9878 - val_loss: 4.7529e-04 - val_accuracy: 0.9899\n",
            "Epoch 98/200\n",
            "262/262 [==============================] - 12s 47ms/step - loss: 4.6201e-04 - accuracy: 0.9881 - val_loss: 4.6857e-04 - val_accuracy: 0.9900\n",
            "Epoch 99/200\n",
            "262/262 [==============================] - 12s 47ms/step - loss: 4.5169e-04 - accuracy: 0.9884 - val_loss: 4.6481e-04 - val_accuracy: 0.9902\n",
            "Epoch 100/200\n",
            "262/262 [==============================] - 12s 47ms/step - loss: 4.4666e-04 - accuracy: 0.9885 - val_loss: 4.6401e-04 - val_accuracy: 0.9904\n",
            "Epoch 101/200\n",
            "262/262 [==============================] - 12s 47ms/step - loss: 4.4277e-04 - accuracy: 0.9886 - val_loss: 4.7303e-04 - val_accuracy: 0.9900\n",
            "Epoch 102/200\n",
            "262/262 [==============================] - 12s 47ms/step - loss: 4.3932e-04 - accuracy: 0.9887 - val_loss: 4.5149e-04 - val_accuracy: 0.9906\n",
            "Epoch 103/200\n",
            "262/262 [==============================] - 12s 47ms/step - loss: 4.3928e-04 - accuracy: 0.9887 - val_loss: 4.6096e-04 - val_accuracy: 0.9907\n",
            "Epoch 104/200\n",
            "262/262 [==============================] - 12s 47ms/step - loss: 4.3911e-04 - accuracy: 0.9887 - val_loss: 4.5339e-04 - val_accuracy: 0.9905\n",
            "Epoch 105/200\n",
            "262/262 [==============================] - 12s 47ms/step - loss: 4.3729e-04 - accuracy: 0.9888 - val_loss: 4.5606e-04 - val_accuracy: 0.9904\n",
            "Epoch 106/200\n",
            "262/262 [==============================] - 12s 47ms/step - loss: 4.3986e-04 - accuracy: 0.9887 - val_loss: 4.5199e-04 - val_accuracy: 0.9904\n",
            "Epoch 107/200\n",
            "262/262 [==============================] - 12s 47ms/step - loss: 8.3260e-04 - accuracy: 0.9819 - val_loss: 8.6083e-04 - val_accuracy: 0.9806\n",
            "Epoch 108/200\n",
            "262/262 [==============================] - 12s 46ms/step - loss: 6.4630e-04 - accuracy: 0.9841 - val_loss: 5.2639e-04 - val_accuracy: 0.9884\n",
            "Epoch 109/200\n",
            "262/262 [==============================] - 12s 46ms/step - loss: 5.0588e-04 - accuracy: 0.9871 - val_loss: 4.9442e-04 - val_accuracy: 0.9897\n",
            "Epoch 110/200\n",
            "262/262 [==============================] - 12s 46ms/step - loss: 4.6873e-04 - accuracy: 0.9880 - val_loss: 4.6571e-04 - val_accuracy: 0.9901\n",
            "Epoch 111/200\n",
            "262/262 [==============================] - 12s 46ms/step - loss: 4.5036e-04 - accuracy: 0.9884 - val_loss: 4.5358e-04 - val_accuracy: 0.9904\n",
            "Epoch 112/200\n",
            "262/262 [==============================] - 12s 47ms/step - loss: 4.3871e-04 - accuracy: 0.9887 - val_loss: 4.5046e-04 - val_accuracy: 0.9907\n",
            "Epoch 113/200\n",
            "262/262 [==============================] - 12s 46ms/step - loss: 4.3217e-04 - accuracy: 0.9889 - val_loss: 4.6131e-04 - val_accuracy: 0.9906\n",
            "Epoch 114/200\n",
            "262/262 [==============================] - 12s 47ms/step - loss: 4.2854e-04 - accuracy: 0.9890 - val_loss: 4.4555e-04 - val_accuracy: 0.9910\n",
            "Epoch 115/200\n",
            "262/262 [==============================] - 12s 47ms/step - loss: 4.2697e-04 - accuracy: 0.9890 - val_loss: 4.5082e-04 - val_accuracy: 0.9908\n",
            "Epoch 116/200\n",
            "262/262 [==============================] - 12s 47ms/step - loss: 4.3139e-04 - accuracy: 0.9889 - val_loss: 4.3563e-04 - val_accuracy: 0.9910\n",
            "Epoch 117/200\n",
            "262/262 [==============================] - 12s 47ms/step - loss: 4.2532e-04 - accuracy: 0.9891 - val_loss: 4.5168e-04 - val_accuracy: 0.9904\n",
            "Epoch 118/200\n",
            "262/262 [==============================] - 12s 47ms/step - loss: 4.2682e-04 - accuracy: 0.9890 - val_loss: 4.3979e-04 - val_accuracy: 0.9910\n",
            "Epoch 119/200\n",
            "262/262 [==============================] - 12s 46ms/step - loss: 4.2254e-04 - accuracy: 0.9891 - val_loss: 4.4916e-04 - val_accuracy: 0.9908\n",
            "Epoch 120/200\n",
            "262/262 [==============================] - 12s 47ms/step - loss: 4.2541e-04 - accuracy: 0.9891 - val_loss: 4.4253e-04 - val_accuracy: 0.9911\n",
            "Epoch 121/200\n",
            "262/262 [==============================] - 12s 47ms/step - loss: 4.2678e-04 - accuracy: 0.9891 - val_loss: 4.3421e-04 - val_accuracy: 0.9911\n",
            "Epoch 122/200\n",
            "262/262 [==============================] - 12s 46ms/step - loss: 4.2141e-04 - accuracy: 0.9892 - val_loss: 4.5410e-04 - val_accuracy: 0.9910\n",
            "Epoch 123/200\n",
            "262/262 [==============================] - 12s 46ms/step - loss: 4.4114e-04 - accuracy: 0.9888 - val_loss: 6.5990e-04 - val_accuracy: 0.9857\n",
            "Epoch 124/200\n",
            "262/262 [==============================] - 12s 46ms/step - loss: 0.0014 - accuracy: 0.9707 - val_loss: 6.1767e-04 - val_accuracy: 0.9860\n",
            "Epoch 125/200\n",
            "262/262 [==============================] - 12s 46ms/step - loss: 5.6603e-04 - accuracy: 0.9858 - val_loss: 5.0747e-04 - val_accuracy: 0.9891\n",
            "Epoch 126/200\n",
            "262/262 [==============================] - 12s 47ms/step - loss: 4.9610e-04 - accuracy: 0.9874 - val_loss: 4.7813e-04 - val_accuracy: 0.9899\n",
            "Epoch 127/200\n",
            "262/262 [==============================] - 12s 46ms/step - loss: 4.7887e-04 - accuracy: 0.9880 - val_loss: 0.0018 - val_accuracy: 0.9767\n",
            "Epoch 128/200\n",
            "262/262 [==============================] - 12s 46ms/step - loss: 6.2679e-04 - accuracy: 0.9850 - val_loss: 4.8063e-04 - val_accuracy: 0.9898\n",
            "Epoch 129/200\n",
            "262/262 [==============================] - 12s 46ms/step - loss: 4.5957e-04 - accuracy: 0.9883 - val_loss: 4.5863e-04 - val_accuracy: 0.9905\n",
            "Epoch 130/200\n",
            "262/262 [==============================] - 12s 47ms/step - loss: 4.3813e-04 - accuracy: 0.9888 - val_loss: 4.4479e-04 - val_accuracy: 0.9909\n",
            "Epoch 131/200\n",
            "262/262 [==============================] - 12s 46ms/step - loss: 4.2400e-04 - accuracy: 0.9891 - val_loss: 4.3953e-04 - val_accuracy: 0.9911\n",
            "Epoch 132/200\n",
            "262/262 [==============================] - 12s 46ms/step - loss: 4.1553e-04 - accuracy: 0.9893 - val_loss: 4.3756e-04 - val_accuracy: 0.9912\n",
            "Epoch 133/200\n",
            "262/262 [==============================] - 12s 47ms/step - loss: 4.1589e-04 - accuracy: 0.9893 - val_loss: 4.3106e-04 - val_accuracy: 0.9914\n",
            "Epoch 134/200\n",
            "262/262 [==============================] - 12s 46ms/step - loss: 4.1042e-04 - accuracy: 0.9895 - val_loss: 4.3079e-04 - val_accuracy: 0.9913\n",
            "Epoch 135/200\n",
            "262/262 [==============================] - 12s 46ms/step - loss: 4.0673e-04 - accuracy: 0.9895 - val_loss: 4.2423e-04 - val_accuracy: 0.9915\n",
            "Epoch 136/200\n",
            "262/262 [==============================] - 12s 47ms/step - loss: 4.0770e-04 - accuracy: 0.9895 - val_loss: 4.2806e-04 - val_accuracy: 0.9915\n",
            "Epoch 137/200\n",
            "262/262 [==============================] - 12s 47ms/step - loss: 4.1286e-04 - accuracy: 0.9894 - val_loss: 4.3158e-04 - val_accuracy: 0.9912\n",
            "Epoch 138/200\n",
            "262/262 [==============================] - 12s 47ms/step - loss: 4.0670e-04 - accuracy: 0.9896 - val_loss: 4.3590e-04 - val_accuracy: 0.9913\n",
            "Epoch 139/200\n",
            "262/262 [==============================] - 12s 47ms/step - loss: 4.0326e-04 - accuracy: 0.9896 - val_loss: 4.3084e-04 - val_accuracy: 0.9914\n",
            "Epoch 140/200\n",
            "262/262 [==============================] - 12s 47ms/step - loss: 4.0365e-04 - accuracy: 0.9896 - val_loss: 4.4221e-04 - val_accuracy: 0.9915\n",
            "Epoch 141/200\n",
            "262/262 [==============================] - 12s 47ms/step - loss: 4.1106e-04 - accuracy: 0.9895 - val_loss: 4.3460e-04 - val_accuracy: 0.9915\n",
            "Epoch 142/200\n",
            "262/262 [==============================] - 12s 47ms/step - loss: 4.0224e-04 - accuracy: 0.9897 - val_loss: 4.1910e-04 - val_accuracy: 0.9916\n",
            "Epoch 143/200\n",
            "262/262 [==============================] - 12s 47ms/step - loss: 4.0851e-04 - accuracy: 0.9896 - val_loss: 4.3300e-04 - val_accuracy: 0.9916\n",
            "Epoch 144/200\n",
            "262/262 [==============================] - 12s 47ms/step - loss: 4.0339e-04 - accuracy: 0.9897 - val_loss: 4.3478e-04 - val_accuracy: 0.9914\n",
            "Epoch 145/200\n",
            "262/262 [==============================] - 12s 47ms/step - loss: 4.0800e-04 - accuracy: 0.9896 - val_loss: 4.2229e-04 - val_accuracy: 0.9916\n",
            "Epoch 146/200\n",
            "262/262 [==============================] - 12s 47ms/step - loss: 4.0116e-04 - accuracy: 0.9897 - val_loss: 4.4820e-04 - val_accuracy: 0.9906\n",
            "Epoch 147/200\n",
            "262/262 [==============================] - 12s 47ms/step - loss: 4.0884e-04 - accuracy: 0.9896 - val_loss: 4.2667e-04 - val_accuracy: 0.9916\n",
            "Epoch 148/200\n",
            "262/262 [==============================] - 12s 47ms/step - loss: 4.0816e-04 - accuracy: 0.9896 - val_loss: 6.7239e-04 - val_accuracy: 0.9855\n",
            "Epoch 149/200\n",
            "262/262 [==============================] - 12s 47ms/step - loss: 9.1905e-04 - accuracy: 0.9803 - val_loss: 5.0934e-04 - val_accuracy: 0.9891\n",
            "Epoch 150/200\n",
            "262/262 [==============================] - 12s 47ms/step - loss: 4.9442e-04 - accuracy: 0.9876 - val_loss: 4.5280e-04 - val_accuracy: 0.9903\n",
            "Epoch 151/200\n",
            "262/262 [==============================] - 12s 47ms/step - loss: 4.3844e-04 - accuracy: 0.9889 - val_loss: 4.4110e-04 - val_accuracy: 0.9911\n",
            "Epoch 152/200\n",
            "262/262 [==============================] - 12s 47ms/step - loss: 4.1947e-04 - accuracy: 0.9893 - val_loss: 4.3351e-04 - val_accuracy: 0.9913\n",
            "Epoch 153/200\n",
            "262/262 [==============================] - 12s 47ms/step - loss: 4.0749e-04 - accuracy: 0.9896 - val_loss: 4.3651e-04 - val_accuracy: 0.9915\n",
            "Epoch 154/200\n",
            "262/262 [==============================] - 12s 47ms/step - loss: 3.9772e-04 - accuracy: 0.9898 - val_loss: 4.3099e-04 - val_accuracy: 0.9918\n",
            "Epoch 155/200\n",
            "262/262 [==============================] - 12s 47ms/step - loss: 3.9467e-04 - accuracy: 0.9899 - val_loss: 4.2408e-04 - val_accuracy: 0.9916\n",
            "Epoch 156/200\n",
            "262/262 [==============================] - 12s 47ms/step - loss: 3.9048e-04 - accuracy: 0.9900 - val_loss: 4.1840e-04 - val_accuracy: 0.9918\n",
            "Epoch 157/200\n",
            "262/262 [==============================] - 12s 47ms/step - loss: 3.8728e-04 - accuracy: 0.9901 - val_loss: 4.1799e-04 - val_accuracy: 0.9919\n",
            "Epoch 158/200\n",
            "262/262 [==============================] - 12s 47ms/step - loss: 3.8744e-04 - accuracy: 0.9901 - val_loss: 4.3156e-04 - val_accuracy: 0.9918\n",
            "Epoch 159/200\n",
            "262/262 [==============================] - 12s 47ms/step - loss: 3.8575e-04 - accuracy: 0.9902 - val_loss: 4.2488e-04 - val_accuracy: 0.9919\n",
            "Epoch 160/200\n",
            "262/262 [==============================] - 12s 47ms/step - loss: 3.9000e-04 - accuracy: 0.9900 - val_loss: 4.2421e-04 - val_accuracy: 0.9919\n",
            "Epoch 161/200\n",
            "262/262 [==============================] - 12s 47ms/step - loss: 3.8417e-04 - accuracy: 0.9902 - val_loss: 4.2248e-04 - val_accuracy: 0.9919\n",
            "Epoch 162/200\n",
            "262/262 [==============================] - 12s 47ms/step - loss: 3.9057e-04 - accuracy: 0.9900 - val_loss: 4.2517e-04 - val_accuracy: 0.9918\n",
            "Epoch 163/200\n",
            "262/262 [==============================] - 12s 47ms/step - loss: 3.8896e-04 - accuracy: 0.9901 - val_loss: 4.2713e-04 - val_accuracy: 0.9918\n",
            "Epoch 164/200\n",
            "262/262 [==============================] - 12s 47ms/step - loss: 3.8515e-04 - accuracy: 0.9902 - val_loss: 4.2323e-04 - val_accuracy: 0.9920\n",
            "Epoch 165/200\n",
            "262/262 [==============================] - 12s 47ms/step - loss: 0.0015 - accuracy: 0.9712 - val_loss: 6.2885e-04 - val_accuracy: 0.9858\n",
            "Epoch 166/200\n",
            "262/262 [==============================] - 12s 47ms/step - loss: 5.7011e-04 - accuracy: 0.9858 - val_loss: 5.0027e-04 - val_accuracy: 0.9893\n",
            "Epoch 167/200\n",
            "262/262 [==============================] - 12s 47ms/step - loss: 4.9622e-04 - accuracy: 0.9876 - val_loss: 4.6471e-04 - val_accuracy: 0.9901\n",
            "Epoch 168/200\n",
            "262/262 [==============================] - 12s 47ms/step - loss: 4.4853e-04 - accuracy: 0.9886 - val_loss: 4.4169e-04 - val_accuracy: 0.9909\n",
            "Epoch 169/200\n",
            "262/262 [==============================] - 12s 47ms/step - loss: 4.2145e-04 - accuracy: 0.9893 - val_loss: 4.2466e-04 - val_accuracy: 0.9914\n",
            "Epoch 170/200\n",
            "262/262 [==============================] - 12s 47ms/step - loss: 4.0693e-04 - accuracy: 0.9896 - val_loss: 4.1690e-04 - val_accuracy: 0.9915\n",
            "Epoch 171/200\n",
            "262/262 [==============================] - 12s 47ms/step - loss: 3.9839e-04 - accuracy: 0.9898 - val_loss: 4.0917e-04 - val_accuracy: 0.9918\n",
            "Epoch 172/200\n",
            "262/262 [==============================] - 12s 46ms/step - loss: 3.9517e-04 - accuracy: 0.9899 - val_loss: 4.1208e-04 - val_accuracy: 0.9918\n",
            "Epoch 173/200\n",
            "262/262 [==============================] - 12s 46ms/step - loss: 3.8903e-04 - accuracy: 0.9901 - val_loss: 4.0528e-04 - val_accuracy: 0.9920\n",
            "Epoch 174/200\n",
            "262/262 [==============================] - 12s 47ms/step - loss: 3.8580e-04 - accuracy: 0.9901 - val_loss: 4.0290e-04 - val_accuracy: 0.9921\n",
            "Epoch 175/200\n",
            "262/262 [==============================] - 12s 47ms/step - loss: 3.7938e-04 - accuracy: 0.9903 - val_loss: 4.1158e-04 - val_accuracy: 0.9918\n",
            "Epoch 176/200\n",
            "262/262 [==============================] - 12s 47ms/step - loss: 3.7812e-04 - accuracy: 0.9903 - val_loss: 4.1087e-04 - val_accuracy: 0.9919\n",
            "Epoch 177/200\n",
            "262/262 [==============================] - 12s 47ms/step - loss: 3.8863e-04 - accuracy: 0.9901 - val_loss: 4.2323e-04 - val_accuracy: 0.9916\n",
            "Epoch 178/200\n",
            "262/262 [==============================] - 12s 47ms/step - loss: 8.1698e-04 - accuracy: 0.9822 - val_loss: 5.6655e-04 - val_accuracy: 0.9879\n",
            "Epoch 179/200\n",
            "262/262 [==============================] - 12s 47ms/step - loss: 4.8692e-04 - accuracy: 0.9879 - val_loss: 4.5115e-04 - val_accuracy: 0.9908\n",
            "Epoch 180/200\n",
            "262/262 [==============================] - 12s 47ms/step - loss: 4.2000e-04 - accuracy: 0.9893 - val_loss: 4.3344e-04 - val_accuracy: 0.9915\n",
            "Epoch 181/200\n",
            "262/262 [==============================] - 12s 47ms/step - loss: 3.9736e-04 - accuracy: 0.9899 - val_loss: 4.2367e-04 - val_accuracy: 0.9918\n",
            "Epoch 182/200\n",
            "262/262 [==============================] - 12s 47ms/step - loss: 3.9047e-04 - accuracy: 0.9900 - val_loss: 4.1421e-04 - val_accuracy: 0.9919\n",
            "Epoch 183/200\n",
            "262/262 [==============================] - 12s 47ms/step - loss: 3.8503e-04 - accuracy: 0.9902 - val_loss: 4.1399e-04 - val_accuracy: 0.9921\n",
            "Epoch 184/200\n",
            "262/262 [==============================] - 12s 47ms/step - loss: 3.7960e-04 - accuracy: 0.9903 - val_loss: 4.1810e-04 - val_accuracy: 0.9919\n",
            "Epoch 185/200\n",
            "262/262 [==============================] - 12s 47ms/step - loss: 3.7818e-04 - accuracy: 0.9903 - val_loss: 4.1599e-04 - val_accuracy: 0.9921\n",
            "Epoch 186/200\n",
            "262/262 [==============================] - 12s 47ms/step - loss: 3.7630e-04 - accuracy: 0.9904 - val_loss: 4.2934e-04 - val_accuracy: 0.9919\n",
            "Epoch 187/200\n",
            "262/262 [==============================] - 13s 48ms/step - loss: 3.7730e-04 - accuracy: 0.9904 - val_loss: 4.2247e-04 - val_accuracy: 0.9921\n",
            "Epoch 188/200\n",
            "262/262 [==============================] - 12s 47ms/step - loss: 3.7379e-04 - accuracy: 0.9905 - val_loss: 4.1039e-04 - val_accuracy: 0.9922\n",
            "Epoch 189/200\n",
            "262/262 [==============================] - 12s 47ms/step - loss: 3.7226e-04 - accuracy: 0.9905 - val_loss: 4.0712e-04 - val_accuracy: 0.9923\n",
            "Epoch 190/200\n",
            "262/262 [==============================] - 12s 47ms/step - loss: 3.6957e-04 - accuracy: 0.9906 - val_loss: 4.1995e-04 - val_accuracy: 0.9920\n",
            "Epoch 191/200\n",
            "262/262 [==============================] - 12s 47ms/step - loss: 3.7193e-04 - accuracy: 0.9905 - val_loss: 4.2117e-04 - val_accuracy: 0.9922\n",
            "Epoch 192/200\n",
            "262/262 [==============================] - 12s 47ms/step - loss: 3.7267e-04 - accuracy: 0.9905 - val_loss: 4.3143e-04 - val_accuracy: 0.9919\n",
            "Epoch 193/200\n",
            "262/262 [==============================] - 12s 47ms/step - loss: 3.7473e-04 - accuracy: 0.9904 - val_loss: 4.2112e-04 - val_accuracy: 0.9923\n",
            "Epoch 194/200\n",
            "262/262 [==============================] - 12s 46ms/step - loss: 3.8296e-04 - accuracy: 0.9903 - val_loss: 3.9811e-04 - val_accuracy: 0.9921\n",
            "Epoch 195/200\n",
            "262/262 [==============================] - 12s 47ms/step - loss: 3.8461e-04 - accuracy: 0.9902 - val_loss: 4.0607e-04 - val_accuracy: 0.9919\n",
            "Epoch 196/200\n",
            "262/262 [==============================] - 12s 47ms/step - loss: 3.7534e-04 - accuracy: 0.9905 - val_loss: 4.0707e-04 - val_accuracy: 0.9922\n",
            "Epoch 197/200\n",
            "262/262 [==============================] - 12s 47ms/step - loss: 3.7873e-04 - accuracy: 0.9904 - val_loss: 4.0634e-04 - val_accuracy: 0.9921\n",
            "Epoch 198/200\n",
            "262/262 [==============================] - 12s 47ms/step - loss: 8.9273e-04 - accuracy: 0.9808 - val_loss: 5.2808e-04 - val_accuracy: 0.9889\n",
            "Epoch 199/200\n",
            "262/262 [==============================] - 12s 47ms/step - loss: 4.6244e-04 - accuracy: 0.9884 - val_loss: 4.3538e-04 - val_accuracy: 0.9912\n",
            "Epoch 200/200\n",
            "262/262 [==============================] - 12s 47ms/step - loss: 4.0784e-04 - accuracy: 0.9897 - val_loss: 4.0767e-04 - val_accuracy: 0.9919\n",
            "Total model fit time:  2456.1134254932404 seconds\n"
          ]
        }
      ]
    },
    {
      "cell_type": "code",
      "source": [
        "model.save('/content/drive/MyDrive/datamining/prisma/Sardinia/deepUNet_200Ep4Classes3ChannelsWithNoise2')"
      ],
      "metadata": {
        "colab": {
          "base_uri": "https://localhost:8080/"
        },
        "id": "XwVfED5jKLuF",
        "outputId": "21a04d47-55a1-4293-dce6-7e3e15541a31"
      },
      "execution_count": null,
      "outputs": [
        {
          "output_type": "stream",
          "name": "stdout",
          "text": [
            "INFO:tensorflow:Assets written to: /content/drive/MyDrive/datamining/prisma/Sardinia/deepUNet_200Ep4Classes3ChannelsWithNoise2/assets\n"
          ]
        }
      ]
    },
    {
      "cell_type": "code",
      "source": [
        "#model_saved =  keras.models.load_model('/content/drive/MyDrive/datamining/prisma/Sardinia/deepUNet_200Ep4Classes3ChannelsWithNoise',compile=False)\n"
      ],
      "metadata": {
        "id": "h9bte3st3rFX"
      },
      "execution_count": null,
      "outputs": []
    },
    {
      "cell_type": "code",
      "source": [
        "minutes_fit_time =(2456.1134254932404)/60\n",
        "print(minutes_fit_time, \"minutes\")"
      ],
      "metadata": {
        "colab": {
          "base_uri": "https://localhost:8080/"
        },
        "id": "P4fSJLWThiIq",
        "outputId": "1f606252-6928-451e-935f-3bcedb8d035a"
      },
      "execution_count": null,
      "outputs": [
        {
          "output_type": "stream",
          "name": "stdout",
          "text": [
            "40.93522375822067 minutes\n"
          ]
        }
      ]
    },
    {
      "cell_type": "code",
      "source": [
        "loss = history.history['loss']\n",
        "val_loss = history.history['val_loss']\n",
        "epochs = range(1, len(loss) + 1)\n",
        "acc = history.history['accuracy']\n",
        "val_acc = history.history['val_accuracy']\n",
        "\n",
        "plt.plot(epochs, acc, 'b', label='Training Accuracy')\n",
        "plt.plot(epochs, val_acc, 'g', label='Validation Accuracy')\n",
        "plt.title('Training and validation Accuracy balanced model')\n",
        "plt.xlabel('Epochs')\n",
        "plt.ylabel('Accuracy')\n",
        "plt.legend()\n",
        "plt.savefig(\"/content/drive/MyDrive/datamining/prisma/Sardinia/Accuracy.png\", bbox_inches='tight')\n",
        "\n",
        "plt.show()"
      ],
      "metadata": {
        "colab": {
          "base_uri": "https://localhost:8080/",
          "height": 295
        },
        "id": "Hok3pMAuKLw7",
        "outputId": "4a46685e-bb9d-4e5c-a9a2-4f5e638fe896"
      },
      "execution_count": null,
      "outputs": [
        {
          "output_type": "display_data",
          "data": {
            "text/plain": [
              "<Figure size 432x288 with 1 Axes>"
            ],
            "image/png": "[encoded data removed]"
          },
          "metadata": {
            "needs_background": "light"
          }
        }
      ]
    },
    {
      "cell_type": "code",
      "source": [
        "#plot the training and validation accuracy and loss at each epoch\n",
        "loss = history.history['loss']\n",
        "val_loss = history.history['val_loss']\n",
        "epochs = range(1, len(loss) + 1)\n",
        "plt.plot(epochs, loss, 'y', label='Training loss')\n",
        "plt.plot(epochs, val_loss, 'r', label='Validation loss')\n",
        "plt.title('Training and validation loss')\n",
        "plt.xlabel('Epochs')\n",
        "plt.ylabel('Loss')\n",
        "plt.legend()\n",
        "plt.savefig(\"/content/drive/MyDrive/datamining/prisma/Sardinia/LossFunction.png\", bbox_inches='tight')\n",
        "plt.show()"
      ],
      "metadata": {
        "colab": {
          "base_uri": "https://localhost:8080/",
          "height": 295
        },
        "id": "ERBAUmNWSasD",
        "outputId": "1524dbb0-516a-45be-d713-487d4813116d"
      },
      "execution_count": null,
      "outputs": [
        {
          "output_type": "display_data",
          "data": {
            "text/plain": [
              "<Figure size 432x288 with 1 Axes>"
            ],
            "image/png": "[encoded data removed]"
          },
          "metadata": {
            "needs_background": "light"
          }
        }
      ]
    },
    {
      "cell_type": "code",
      "source": [
        ""
      ],
      "metadata": {
        "id": "HVhNcSki6PIe"
      },
      "execution_count": null,
      "outputs": []
    },
    {
      "cell_type": "code",
      "source": [
        "#label_masks={0 : \"background\",1 : 'sea', 2 : \"vegetation\", 3 : \"miner\"} "
      ],
      "metadata": {
        "id": "Hr2Rr7EhQ8ul"
      },
      "execution_count": null,
      "outputs": []
    },
    {
      "cell_type": "code",
      "source": [
        "prediction = model.predict(X_test)"
      ],
      "metadata": {
        "id": "l5XlCo8bKLza"
      },
      "execution_count": null,
      "outputs": []
    },
    {
      "cell_type": "code",
      "source": [
        "prediction.shape"
      ],
      "metadata": {
        "colab": {
          "base_uri": "https://localhost:8080/"
        },
        "id": "VbUcZkO-S1Ir",
        "outputId": "d1ae8b00-16d2-4c4a-9faf-745125a2ca59"
      },
      "execution_count": null,
      "outputs": [
        {
          "output_type": "execute_result",
          "data": {
            "text/plain": [
              "(1046, 128, 128, 4)"
            ]
          },
          "metadata": {},
          "execution_count": 46
        }
      ]
    },
    {
      "cell_type": "code",
      "source": [
        "#predicted_img=np.argmax(prediction, axis=3)[45,:,:]"
      ],
      "metadata": {
        "id": "K2pWEamqTxG5"
      },
      "execution_count": null,
      "outputs": []
    },
    {
      "cell_type": "code",
      "source": [
        "predicted_img.shape"
      ],
      "metadata": {
        "colab": {
          "base_uri": "https://localhost:8080/"
        },
        "id": "x39VGGTdUJLf",
        "outputId": "54499023-4260-4559-abc9-09cc7f2b90bd"
      },
      "execution_count": null,
      "outputs": [
        {
          "output_type": "execute_result",
          "data": {
            "text/plain": [
              "(128, 128)"
            ]
          },
          "metadata": {},
          "execution_count": 47
        }
      ]
    },
    {
      "cell_type": "code",
      "source": [
        "from re import I\n",
        "from random import randint\n",
        "i = randint(0, 1046)\n",
        "predicted_img=np.argmax(prediction, axis=3)[i,:,:]\n",
        "print(\"PREDICTION\")\n",
        "plt.imshow(predicted_img)\n",
        "plt.show()\n",
        "print(np.unique(predicted_img))\n",
        "print(\"GROUND TRUTH\")\n",
        "plt.imshow(y_test[i,:,:,0])\n",
        "plt.show()\n",
        "print(np.unique(y_test[i,:,:,0]))"
      ],
      "metadata": {
        "colab": {
          "base_uri": "https://localhost:8080/",
          "height": 591
        },
        "id": "myLNC3dTS8jT",
        "outputId": "42cf2180-d44f-4427-a5e6-63afeb92b06a"
      },
      "execution_count": null,
      "outputs": [
        {
          "output_type": "stream",
          "name": "stdout",
          "text": [
            "PREDICTION\n"
          ]
        },
        {
          "output_type": "display_data",
          "data": {
            "text/plain": [
              "<Figure size 432x288 with 1 Axes>"
            ],
            "image/png": "[encoded data removed]"
          },
          "metadata": {
            "needs_background": "light"
          }
        },
        {
          "output_type": "stream",
          "name": "stdout",
          "text": [
            "[0 2 3]\n",
            "GROUND TRUTH\n"
          ]
        },
        {
          "output_type": "display_data",
          "data": {
            "text/plain": [
              "<Figure size 432x288 with 1 Axes>"
            ],
            "image/png": "[encoded data removed]"
          },
          "metadata": {
            "needs_background": "light"
          }
        },
        {
          "output_type": "stream",
          "name": "stdout",
          "text": [
            "[0 2 3]\n"
          ]
        }
      ]
    },
    {
      "cell_type": "code",
      "source": [
        ""
      ],
      "metadata": {
        "id": "HAnWL8RQUV4N"
      },
      "execution_count": null,
      "outputs": []
    }
  ]
}